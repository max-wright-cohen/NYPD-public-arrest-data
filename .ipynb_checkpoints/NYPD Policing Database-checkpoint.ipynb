{
 "cells": [
  {
   "cell_type": "markdown",
   "metadata": {},
   "source": [
    "cd "
   ]
  },
  {
   "cell_type": "code",
   "execution_count": 37,
   "metadata": {
    "scrolled": true
   },
   "outputs": [
    {
     "name": "stdout",
     "output_type": "stream",
     "text": [
      "\u001b[34m2010 Census Tracts\u001b[m\u001b[m/\r\n",
      "\u001b[34mACS5yearBK\u001b[m\u001b[m/\r\n",
      "CCRB Data Layout Table.xlsx\r\n",
      "\u001b[34mNYC Street Centerline (CSCL)\u001b[m\u001b[m/\r\n",
      "\u001b[34mNYC_Police_Precincts_2020\u001b[m\u001b[m/\r\n",
      "\u001b[34mNYPD-repository\u001b[m\u001b[m/\r\n",
      "NYPD_Arrest_Historic_DataDictionary.xlsx\r\n",
      "NYPD_Arrests_Data__Historic_.csv\r\n",
      "NYPD_Criminal_Court_Summons__Historic_.csv\r\n",
      "allegations_20200726939.csv\r\n",
      "nyc_2010censusblocks_2020policeprecincts (1).csv\r\n"
     ]
    }
   ],
   "source": [
    "ls"
   ]
  },
  {
   "cell_type": "code",
   "execution_count": 11,
   "metadata": {},
   "outputs": [],
   "source": [
    "import pandas as pd\n",
    "import numpy as np\n",
    "import matplotlib.pyplot as plt\n",
    "from matplotlib import cm\n",
    "%matplotlib inline\n",
    "import geopandas as gpd\n",
    "from scipy.stats import gaussian_kde\n",
    "import seaborn as sns\n",
    "from shapely.geometry import shape, Point\n",
    "from mpl_toolkits.axes_grid1 import make_axes_locatable\n",
    "import matplotlib.dates as mdates\n",
    "import plotly.express as px\n",
    "import plotly.graph_objects as go"
   ]
  },
  {
   "cell_type": "markdown",
   "metadata": {},
   "source": [
    "Sources\n",
    "- NYC Centerline Data \n",
    "-- https://data.cityofnewyork.us/City-Government/NYC-Street-Centerline-CSCL-/exjm-f27b\n",
    "- NYTimes Mapping Segregation\n",
    "-- https://www.nytimes.com/interactive/2015/07/08/us/census-race-map.html?mtrref=www.google.com&assetType=PAYWALL\n",
    "- US Census Population Data\n",
    "-- https://www.census.gov/quickfacts/fact/table/kingscountybrooklynboroughnewyork,newyorkcitynewyork/PST045219\n",
    "- Racial Dot Map\n",
    "-- http://racialdotmap.demographics.coopercenter.org/\n",
    "- NYPD Precincts Map\n",
    "-- https://data.cityofnewyork.us/Public-Safety/Police-Precincts/78dh-3ptz\n",
    "- NYPD Arrests Data\n",
    "-- https://data.cityofnewyork.us/Public-Safety/NYPD-Arrests-Data-Historic-/8h9b-rp9u\n",
    "- NYC Census Tracts Data\n",
    "-- https://data.cityofnewyork.us/City-Government/2010-Census-Tracts/fxpq-c8ku\n",
    "- ACS Tables\n",
    "-- https://data.census.gov/cedsci/\n",
    "- NHGIS\n",
    "-- https://data2.nhgis.org/main\n",
    "- Precinct Data\n",
    "-- https://johnkeefe.net/nyc-police-precinct-and-census-data\n",
    "- Marijuana Consumption\n",
    "-- https://www1.nyc.gov/site/doh/about/press/pr2019/health-department-releases-first-comprehensive-report-on-cannabis.page\n",
    "\n",
    "Important Resources\n",
    "- https://python-graph-gallery.com/134-how-to-avoid-overplotting-with-python/\n",
    "- https://python-graph-gallery.com/86-avoid-overlapping-in-scatterplot-with-2d-density/\n",
    "- https://datashader.org/getting_started/Introduction.html\n",
    "- https://seaborn.pydata.org/generated/seaborn.kdeplot.html\n",
    "- http://andrewgaidus.com/Dot_Density_County_Maps/\n",
    "- https://towardsdatascience.com/walkthrough-mapping-basics-with-bokeh-and-geopandas-in-python-43f40aa5b7e9\n",
    "- https://www.bloomberg.com/news/articles/2013-05-30/the-most-important-population-statistic-that-hardly-ever-gets-talked-about\n",
    "- https://www.census.gov/data/tables/2015/demo/metro-micro/commuting-flows-2015.html\n",
    "- https://wagner.nyu.edu/files/rudincenter/dynamic_pop_manhattan.pdf"
   ]
  },
  {
   "cell_type": "markdown",
   "metadata": {},
   "source": [
    "### LOAD ALL DATA"
   ]
  },
  {
   "cell_type": "code",
   "execution_count": 88,
   "metadata": {},
   "outputs": [],
   "source": [
    "#census tract map of Brooklyn\n",
    "census_tracts = gpd.read_file(\n",
    "    '2010 Census Tracts/geo_export_7c8515b7-143e-4d01-972b-35868adf5281.shp')\n",
    "bk_census_tracts = census_tracts[census_tracts['boro_name'] == 'Brooklyn']"
   ]
  },
  {
   "cell_type": "code",
   "execution_count": 85,
   "metadata": {},
   "outputs": [],
   "source": [
    "#ACS census tract demo data\n",
    "acs_demo = pd.read_csv('ACS5yearBK/ACS5yearBK_data.csv', skiprows=0).drop(['Unnamed: 0'], axis=1)\n",
    "#ACS census tract demo data dictionary\n",
    "acs_data_dict = pd.read_csv('ACS5yearBK/ACS5yearBK_data_dict.csv',skiprows=1)"
   ]
  },
  {
   "cell_type": "code",
   "execution_count": 15,
   "metadata": {},
   "outputs": [],
   "source": [
    "#street centerline map of nyc\n",
    "our_streets = gpd.read_file('NYC Street Centerline (CSCL)/geo_export_c00f9a7a-d11b-4436-bc33-9fcb9a060d9d.shp')"
   ]
  },
  {
   "cell_type": "code",
   "execution_count": 16,
   "metadata": {},
   "outputs": [],
   "source": [
    "#Borough Codes\n",
    "# 1-Man 2-Bronx 3-Brooklyn 4-Queens 5-Staten Island\n",
    "#brooklyn streets\n",
    "bk_base = (our_streets[(our_streets['borocode'] == '3') & #brooklyn=3 \n",
    "                       (our_streets['rw_type'] != 14)]) #remove ferry routes"
   ]
  },
  {
   "cell_type": "code",
   "execution_count": 17,
   "metadata": {},
   "outputs": [],
   "source": [
    "#create a baselayer for non-bk centerline map\n",
    "notbk_base = (our_streets[(our_streets['borocode'] != '3') & #brooklyn=3 \n",
    "                       (our_streets['rw_type'] != 14)]) #remove ferry routes"
   ]
  },
  {
   "cell_type": "code",
   "execution_count": 18,
   "metadata": {},
   "outputs": [],
   "source": [
    "#read column dictionary\n",
    "xls = pd.ExcelFile('NYPD_Arrest_Historic_DataDictionary.xlsx')\n",
    "arrest_col_info = pd.read_excel(xls, 'Column Info', header=1)\n",
    "#delete filler columns with NaN vals\n",
    "col_info = arrest_col_info.drop(columns=list(arrest_col_info.columns[2:]))"
   ]
  },
  {
   "cell_type": "code",
   "execution_count": 19,
   "metadata": {},
   "outputs": [],
   "source": [
    "#read arrests file\n",
    "df = pd.read_csv('NYPD_Arrests_Data__Historic_.csv')"
   ]
  },
  {
   "cell_type": "code",
   "execution_count": 89,
   "metadata": {},
   "outputs": [],
   "source": [
    "#precinct shapefile\n",
    "precinct_shp = gpd.read_file('NYC_Police_Precincts_2020/geo_export_87553334-fdcd-4d0c-8ab2-43a5e2975733.shp')"
   ]
  },
  {
   "cell_type": "code",
   "execution_count": 90,
   "metadata": {},
   "outputs": [],
   "source": [
    "#precinct census data\n",
    "precinct_census = pd.read_csv('nyc_2010censusblocks_2020policeprecincts (1).csv').drop('Unnamed: 0',axis=1)\\\n",
    ".dropna(subset=['precinct_2020'])"
   ]
  },
  {
   "cell_type": "markdown",
   "metadata": {},
   "source": [
    "### CLEAN ARRESTS DATA"
   ]
  },
  {
   "cell_type": "code",
   "execution_count": 22,
   "metadata": {},
   "outputs": [],
   "source": [
    "def clean_arrests_data(df):\n",
    "    #limit arrest file to Brooklyn\n",
    "    df = df[ (df['Latitude'] < 40.8) & (df['ARREST_BORO'] == 'K') ]\n",
    "    #change arrest dates to datetime\n",
    "    df['ARREST_DATE'] = pd.to_datetime(df['ARREST_DATE'])\n",
    "    #limit jurisdiction codes to 0->3\n",
    "    df['JURISDICTION_CODE'] = df['JURISDICTION_CODE'].apply(lambda x: 3 if x>2 else x)\n",
    "    \n",
    "    #Limit age groups to 6 main categories\n",
    "    #First, create the list of the 6 main category labels\n",
    "    age_groups = df['AGE_GROUP'].value_counts().sort_values(ascending=False)[:5].index.to_list()\n",
    "    #Write eveything that is not in one of these categories as NaN\n",
    "    df['AGE_GROUP'] = df['AGE_GROUP'].apply(lambda x: np.nan if x not in age_groups else x)\n",
    "    #turn all of those NaN age_group values into real age groups based on the proportion of age groups in the data\n",
    "    #1. make a dictionary of the age groups and their percentages in the data\n",
    "    age_group_dict = dict(df['AGE_GROUP'].value_counts(normalize=True))\n",
    "    age_group_keys = list(age_group_dict.keys())\n",
    "    age_group_values = list(age_group_dict.values())\n",
    "    #2. randomly fillna with the proportion of each value\n",
    "    df['AGE_GROUP'] = df['AGE_GROUP'].fillna(\n",
    "        pd.Series(np.random.choice(age_group_keys, p=age_group_values, size=len(df))))\n",
    "    \n",
    "    #Group \"black hispanic\" and \"white hispanic\" into \"hispanic\"\n",
    "    #This could be flawed\n",
    "    #*** Before combining, \"White Hispanic\" was 26% and \"Black Hispanic\" was 8% ***\n",
    "    df['PERP_RACE'] = df['PERP_RACE'].apply(lambda x: 'HISPANIC' if x.endswith('HISPANIC') else x)\n",
    "\n",
    "    #create columbs for year, month, day\n",
    "    df['ARREST_YEAR'] = df['ARREST_DATE'].apply(lambda x: x.year)\n",
    "    df['ARREST_MONTH'] = df['ARREST_DATE'].apply(lambda x: x.month)\n",
    "    df['ARREST_DAY'] = df['ARREST_DATE'].apply(lambda x: x.day)\n",
    "\n",
    "    #combine lat/lon into one column\n",
    "    df['lonlat'] = list(zip(df['Longitude'], df['Latitude']))\n",
    "    #convert lat/lon into \"points\"\n",
    "    df['point'] = df['lonlat'].apply(lambda x: Point(x))\n",
    "\n",
    "    #create day of year column that find the day number of the year\n",
    "    df['dayofyear'] = df['ARREST_DATE'].apply(lambda x: x.timetuple().tm_yday)\n",
    "    \n",
    "    #turn into geodataframe\n",
    "    df = gpd.GeoDataFrame(df, geometry=gpd.points_from_xy(df['Longitude'],df['Latitude']))\n",
    "    \n",
    "    return df\n",
    "\n",
    "df = clean_arrests_data(df)"
   ]
  },
  {
   "cell_type": "markdown",
   "metadata": {},
   "source": [
    "### CLEAN ACS DATA\n",
    "##### Merge acs data with census tracts shape file"
   ]
  },
  {
   "cell_type": "code",
   "execution_count": 86,
   "metadata": {},
   "outputs": [],
   "source": [
    "def clean_acs_data(acs_demo):\n",
    "    #remove margin of error columns\n",
    "    acs_demo = acs_demo[acs_demo.columns.drop(list(acs_demo.filter(regex='Margin of Error')))]\n",
    "    \n",
    "    #create ctlabel column with just the \"number\" name of census tract\n",
    "    #now this will match the bk_census_tract column\n",
    "    acs_demo['ctlabel'] = acs_demo['Geographic Area Name']\\\n",
    "    .apply(lambda x: x.split('Census Tract ')[1].split(', Kings County')[0])\n",
    "    \n",
    "    #merge the acs_demo data onto the bk_census_tracts (shortened to just geometry and census tract name)\n",
    "    acs_demo = bk_census_tracts[['ctlabel','geometry']].merge(acs_demo, on='ctlabel')\n",
    "    \n",
    "    acs_demo = gpd.GeoDataFrame(acs_demo, geometry=acs_demo['geometry'])\n",
    "    \n",
    "    return acs_demo\n",
    "\n",
    "acs_demo = clean_acs_data(acs_demo)"
   ]
  },
  {
   "cell_type": "markdown",
   "metadata": {},
   "source": [
    "### CLEAN PRECINCTS CENSUS DATA\n",
    "##### Merge precicnt census data with precinct shapefile"
   ]
  },
  {
   "cell_type": "code",
   "execution_count": 91,
   "metadata": {},
   "outputs": [],
   "source": [
    "def clean_precinct_census(precinct_census):\n",
    "    #brooklyn county number = 47\n",
    "    bk_precinct_census = precinct_census[precinct_census['COUNTY'] == 47]\n",
    "    \n",
    "    #group and sum by precinct\n",
    "    bk_precinct_census = bk_precinct_census.groupby(['precinct_2020']).sum()\\\n",
    "    .drop(columns=['geoid10','SUMLEV','STATE','COUNTY','TRACT','BLOCK','INTPTLAT','INTPTLON'])\\\n",
    "    .reset_index()\n",
    "    \n",
    "    #change precinct column to 'integer'\n",
    "    bk_precinct_census['precinct_2020'] = bk_precinct_census['precinct_2020'].astype('int64')\n",
    "    #change name of precinct column to match shapefile \n",
    "    bk_precinct_census.rename(columns={'precinct_2020':'precinct'},inplace=True)    \n",
    "    \n",
    "    #MERGE WITH PRECINCT SHAPE FILE\n",
    "    #change shapefile precinct column to integer\n",
    "    precinct_shp['precinct'] = precinct_shp['precinct'].astype('int64')\n",
    "    #merge\n",
    "    bk_precinct_census = bk_precinct_census.merge(precinct_shp[['precinct','geometry']], on='precinct')\n",
    "    \n",
    "    bk_precinct_census = gpd.GeoDataFrame(bk_precinct_census, geometry=bk_precinct_census['geometry'])\n",
    "    \n",
    "    return bk_precinct_census\n",
    "\n",
    "bk_precinct_census = clean_precinct_census(precinct_census)"
   ]
  },
  {
   "cell_type": "code",
   "execution_count": null,
   "metadata": {},
   "outputs": [],
   "source": []
  },
  {
   "cell_type": "code",
   "execution_count": null,
   "metadata": {},
   "outputs": [],
   "source": []
  }
 ],
 "metadata": {
  "kernelspec": {
   "display_name": "Python 3",
   "language": "python",
   "name": "python3"
  },
  "language_info": {
   "codemirror_mode": {
    "name": "ipython",
    "version": 3
   },
   "file_extension": ".py",
   "mimetype": "text/x-python",
   "name": "python",
   "nbconvert_exporter": "python",
   "pygments_lexer": "ipython3",
   "version": "3.7.4"
  }
 },
 "nbformat": 4,
 "nbformat_minor": 2
}
