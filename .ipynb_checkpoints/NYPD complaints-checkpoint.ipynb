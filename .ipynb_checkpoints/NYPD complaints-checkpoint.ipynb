{
 "cells": [
  {
   "cell_type": "code",
   "execution_count": 144,
   "metadata": {},
   "outputs": [],
   "source": [
    "import pandas as pd\n",
    "import numpy as np\n",
    "import matplotlib.pyplot as plt\n",
    "%matplotlib inline\n",
    "import plotly.express as px\n",
    "import plotly.figure_factory as ff\n",
    "import matplotlib.dates as mdates\n",
    "from datetime import datetime"
   ]
  },
  {
   "cell_type": "code",
   "execution_count": 5,
   "metadata": {
    "scrolled": true
   },
   "outputs": [
    {
     "name": "stdout",
     "output_type": "stream",
     "text": [
      "\u001b[34m2010 Census Tracts\u001b[m\u001b[m/\r\n",
      "\u001b[34mACS5yearBK\u001b[m\u001b[m/\r\n",
      "CCRB Data Layout Table.xlsx\r\n",
      "\u001b[34mNYC Street Centerline (CSCL)\u001b[m\u001b[m/\r\n",
      "NYC Street Centerline (CSCL).zip\r\n",
      "\u001b[34mNYC_Police_Precincts_2020\u001b[m\u001b[m/\r\n",
      "\u001b[34mNYPD-repository\u001b[m\u001b[m/\r\n",
      "NYPD_Arrest_Historic_DataDictionary.xlsx\r\n",
      "NYPD_Arrests_Data__Historic_.csv\r\n",
      "allegations_20200726939.csv\r\n",
      "nyc_2010censusblocks_2020policeprecincts (1).csv\r\n"
     ]
    }
   ],
   "source": [
    "ls"
   ]
  },
  {
   "cell_type": "code",
   "execution_count": 7,
   "metadata": {},
   "outputs": [],
   "source": [
    "#read in allegations file\n",
    "df = pd.read_csv('allegations_20200726939.csv')"
   ]
  },
  {
   "cell_type": "code",
   "execution_count": 13,
   "metadata": {},
   "outputs": [],
   "source": [
    "#create column of total complaints by officer id\n",
    "df['tot_complaints'] = df.groupby(['unique_mos_id'])['unique_mos_id'].transform('count')"
   ]
  },
  {
   "cell_type": "code",
   "execution_count": 68,
   "metadata": {
    "scrolled": true
   },
   "outputs": [],
   "source": [
    "#create date_closed col of m/y\n",
    "df['date_closed'] = pd.to_datetime(df['year_closed'].astype('str') + \n",
    "                                   '/' + \n",
    "                                   df['month_closed'].astype('str') + \n",
    "                                   '/01')"
   ]
  },
  {
   "cell_type": "code",
   "execution_count": 108,
   "metadata": {},
   "outputs": [],
   "source": [
    "#create date_received col of m/y\n",
    "df['date_received'] = pd.to_datetime(df['year_received'].astype('str') + \n",
    "                                     '/' + \n",
    "                                     df['month_received'].astype('str') + \n",
    "                                     '/01')"
   ]
  },
  {
   "cell_type": "code",
   "execution_count": 208,
   "metadata": {},
   "outputs": [
    {
     "data": {
      "text/html": [
       "<div>\n",
       "<style scoped>\n",
       "    .dataframe tbody tr th:only-of-type {\n",
       "        vertical-align: middle;\n",
       "    }\n",
       "\n",
       "    .dataframe tbody tr th {\n",
       "        vertical-align: top;\n",
       "    }\n",
       "\n",
       "    .dataframe thead th {\n",
       "        text-align: right;\n",
       "    }\n",
       "</style>\n",
       "<table border=\"1\" class=\"dataframe\">\n",
       "  <thead>\n",
       "    <tr style=\"text-align: right;\">\n",
       "      <th></th>\n",
       "      <th>unique_mos_id</th>\n",
       "      <th>first_name</th>\n",
       "      <th>last_name</th>\n",
       "      <th>command_now</th>\n",
       "      <th>complaint_id</th>\n",
       "      <th>month_received</th>\n",
       "      <th>year_received</th>\n",
       "      <th>month_closed</th>\n",
       "      <th>year_closed</th>\n",
       "      <th>command_at_incident</th>\n",
       "      <th>...</th>\n",
       "      <th>complainant_age_incident</th>\n",
       "      <th>fado_type</th>\n",
       "      <th>allegation</th>\n",
       "      <th>precinct</th>\n",
       "      <th>contact_reason</th>\n",
       "      <th>outcome_description</th>\n",
       "      <th>board_disposition</th>\n",
       "      <th>tot_complaints</th>\n",
       "      <th>date_closed</th>\n",
       "      <th>date_received</th>\n",
       "    </tr>\n",
       "  </thead>\n",
       "  <tbody>\n",
       "    <tr>\n",
       "      <td>0</td>\n",
       "      <td>10004</td>\n",
       "      <td>Jonathan</td>\n",
       "      <td>Ruiz</td>\n",
       "      <td>078 PCT</td>\n",
       "      <td>42835</td>\n",
       "      <td>7</td>\n",
       "      <td>2019</td>\n",
       "      <td>5</td>\n",
       "      <td>2020</td>\n",
       "      <td>078 PCT</td>\n",
       "      <td>...</td>\n",
       "      <td>38.0</td>\n",
       "      <td>Abuse of Authority</td>\n",
       "      <td>Failure to provide RTKA card</td>\n",
       "      <td>78.0</td>\n",
       "      <td>Report-domestic dispute</td>\n",
       "      <td>No arrest made or summons issued</td>\n",
       "      <td>Substantiated (Command Lvl Instructions)</td>\n",
       "      <td>1</td>\n",
       "      <td>2020-05-01</td>\n",
       "      <td>2019-07-01</td>\n",
       "    </tr>\n",
       "    <tr>\n",
       "      <td>1</td>\n",
       "      <td>10007</td>\n",
       "      <td>John</td>\n",
       "      <td>Sears</td>\n",
       "      <td>078 PCT</td>\n",
       "      <td>24601</td>\n",
       "      <td>11</td>\n",
       "      <td>2011</td>\n",
       "      <td>8</td>\n",
       "      <td>2012</td>\n",
       "      <td>PBBS</td>\n",
       "      <td>...</td>\n",
       "      <td>26.0</td>\n",
       "      <td>Discourtesy</td>\n",
       "      <td>Action</td>\n",
       "      <td>67.0</td>\n",
       "      <td>Moving violation</td>\n",
       "      <td>Moving violation summons issued</td>\n",
       "      <td>Substantiated (Charges)</td>\n",
       "      <td>3</td>\n",
       "      <td>2012-08-01</td>\n",
       "      <td>2011-11-01</td>\n",
       "    </tr>\n",
       "    <tr>\n",
       "      <td>2</td>\n",
       "      <td>10007</td>\n",
       "      <td>John</td>\n",
       "      <td>Sears</td>\n",
       "      <td>078 PCT</td>\n",
       "      <td>24601</td>\n",
       "      <td>11</td>\n",
       "      <td>2011</td>\n",
       "      <td>8</td>\n",
       "      <td>2012</td>\n",
       "      <td>PBBS</td>\n",
       "      <td>...</td>\n",
       "      <td>26.0</td>\n",
       "      <td>Offensive Language</td>\n",
       "      <td>Race</td>\n",
       "      <td>67.0</td>\n",
       "      <td>Moving violation</td>\n",
       "      <td>Moving violation summons issued</td>\n",
       "      <td>Substantiated (Charges)</td>\n",
       "      <td>3</td>\n",
       "      <td>2012-08-01</td>\n",
       "      <td>2011-11-01</td>\n",
       "    </tr>\n",
       "    <tr>\n",
       "      <td>3</td>\n",
       "      <td>10007</td>\n",
       "      <td>John</td>\n",
       "      <td>Sears</td>\n",
       "      <td>078 PCT</td>\n",
       "      <td>26146</td>\n",
       "      <td>7</td>\n",
       "      <td>2012</td>\n",
       "      <td>9</td>\n",
       "      <td>2013</td>\n",
       "      <td>PBBS</td>\n",
       "      <td>...</td>\n",
       "      <td>45.0</td>\n",
       "      <td>Abuse of Authority</td>\n",
       "      <td>Question</td>\n",
       "      <td>67.0</td>\n",
       "      <td>PD suspected C/V of violation/crime - street</td>\n",
       "      <td>No arrest made or summons issued</td>\n",
       "      <td>Substantiated (Charges)</td>\n",
       "      <td>3</td>\n",
       "      <td>2013-09-01</td>\n",
       "      <td>2012-07-01</td>\n",
       "    </tr>\n",
       "    <tr>\n",
       "      <td>4</td>\n",
       "      <td>10009</td>\n",
       "      <td>Noemi</td>\n",
       "      <td>Sierra</td>\n",
       "      <td>078 PCT</td>\n",
       "      <td>40253</td>\n",
       "      <td>8</td>\n",
       "      <td>2018</td>\n",
       "      <td>2</td>\n",
       "      <td>2019</td>\n",
       "      <td>078 PCT</td>\n",
       "      <td>...</td>\n",
       "      <td>16.0</td>\n",
       "      <td>Force</td>\n",
       "      <td>Physical force</td>\n",
       "      <td>67.0</td>\n",
       "      <td>Report-dispute</td>\n",
       "      <td>Arrest - other violation/crime</td>\n",
       "      <td>Substantiated (Command Discipline A)</td>\n",
       "      <td>1</td>\n",
       "      <td>2019-02-01</td>\n",
       "      <td>2018-08-01</td>\n",
       "    </tr>\n",
       "    <tr>\n",
       "      <td>...</td>\n",
       "      <td>...</td>\n",
       "      <td>...</td>\n",
       "      <td>...</td>\n",
       "      <td>...</td>\n",
       "      <td>...</td>\n",
       "      <td>...</td>\n",
       "      <td>...</td>\n",
       "      <td>...</td>\n",
       "      <td>...</td>\n",
       "      <td>...</td>\n",
       "      <td>...</td>\n",
       "      <td>...</td>\n",
       "      <td>...</td>\n",
       "      <td>...</td>\n",
       "      <td>...</td>\n",
       "      <td>...</td>\n",
       "      <td>...</td>\n",
       "      <td>...</td>\n",
       "      <td>...</td>\n",
       "      <td>...</td>\n",
       "      <td>...</td>\n",
       "    </tr>\n",
       "    <tr>\n",
       "      <td>33353</td>\n",
       "      <td>9992</td>\n",
       "      <td>Tomasz</td>\n",
       "      <td>Pulawski</td>\n",
       "      <td>078 PCT</td>\n",
       "      <td>35671</td>\n",
       "      <td>8</td>\n",
       "      <td>2016</td>\n",
       "      <td>2</td>\n",
       "      <td>2017</td>\n",
       "      <td>066 PCT</td>\n",
       "      <td>...</td>\n",
       "      <td>21.0</td>\n",
       "      <td>Discourtesy</td>\n",
       "      <td>Word</td>\n",
       "      <td>66.0</td>\n",
       "      <td>Moving violation</td>\n",
       "      <td>Moving violation summons issued</td>\n",
       "      <td>Unsubstantiated</td>\n",
       "      <td>6</td>\n",
       "      <td>2017-02-01</td>\n",
       "      <td>2016-08-01</td>\n",
       "    </tr>\n",
       "    <tr>\n",
       "      <td>33354</td>\n",
       "      <td>9992</td>\n",
       "      <td>Tomasz</td>\n",
       "      <td>Pulawski</td>\n",
       "      <td>078 PCT</td>\n",
       "      <td>35671</td>\n",
       "      <td>8</td>\n",
       "      <td>2016</td>\n",
       "      <td>2</td>\n",
       "      <td>2017</td>\n",
       "      <td>066 PCT</td>\n",
       "      <td>...</td>\n",
       "      <td>21.0</td>\n",
       "      <td>Abuse of Authority</td>\n",
       "      <td>Interference with recording</td>\n",
       "      <td>66.0</td>\n",
       "      <td>Moving violation</td>\n",
       "      <td>Moving violation summons issued</td>\n",
       "      <td>Unsubstantiated</td>\n",
       "      <td>6</td>\n",
       "      <td>2017-02-01</td>\n",
       "      <td>2016-08-01</td>\n",
       "    </tr>\n",
       "    <tr>\n",
       "      <td>33355</td>\n",
       "      <td>9992</td>\n",
       "      <td>Tomasz</td>\n",
       "      <td>Pulawski</td>\n",
       "      <td>078 PCT</td>\n",
       "      <td>35671</td>\n",
       "      <td>8</td>\n",
       "      <td>2016</td>\n",
       "      <td>2</td>\n",
       "      <td>2017</td>\n",
       "      <td>066 PCT</td>\n",
       "      <td>...</td>\n",
       "      <td>21.0</td>\n",
       "      <td>Abuse of Authority</td>\n",
       "      <td>Search (of person)</td>\n",
       "      <td>66.0</td>\n",
       "      <td>Moving violation</td>\n",
       "      <td>Moving violation summons issued</td>\n",
       "      <td>Substantiated (Formalized Training)</td>\n",
       "      <td>6</td>\n",
       "      <td>2017-02-01</td>\n",
       "      <td>2016-08-01</td>\n",
       "    </tr>\n",
       "    <tr>\n",
       "      <td>33356</td>\n",
       "      <td>9992</td>\n",
       "      <td>Tomasz</td>\n",
       "      <td>Pulawski</td>\n",
       "      <td>078 PCT</td>\n",
       "      <td>35671</td>\n",
       "      <td>8</td>\n",
       "      <td>2016</td>\n",
       "      <td>2</td>\n",
       "      <td>2017</td>\n",
       "      <td>066 PCT</td>\n",
       "      <td>...</td>\n",
       "      <td>21.0</td>\n",
       "      <td>Abuse of Authority</td>\n",
       "      <td>Vehicle search</td>\n",
       "      <td>66.0</td>\n",
       "      <td>Moving violation</td>\n",
       "      <td>Moving violation summons issued</td>\n",
       "      <td>Substantiated (Formalized Training)</td>\n",
       "      <td>6</td>\n",
       "      <td>2017-02-01</td>\n",
       "      <td>2016-08-01</td>\n",
       "    </tr>\n",
       "    <tr>\n",
       "      <td>33357</td>\n",
       "      <td>9992</td>\n",
       "      <td>Tomasz</td>\n",
       "      <td>Pulawski</td>\n",
       "      <td>078 PCT</td>\n",
       "      <td>35671</td>\n",
       "      <td>8</td>\n",
       "      <td>2016</td>\n",
       "      <td>2</td>\n",
       "      <td>2017</td>\n",
       "      <td>066 PCT</td>\n",
       "      <td>...</td>\n",
       "      <td>21.0</td>\n",
       "      <td>Abuse of Authority</td>\n",
       "      <td>Frisk</td>\n",
       "      <td>66.0</td>\n",
       "      <td>Moving violation</td>\n",
       "      <td>Moving violation summons issued</td>\n",
       "      <td>Substantiated (Formalized Training)</td>\n",
       "      <td>6</td>\n",
       "      <td>2017-02-01</td>\n",
       "      <td>2016-08-01</td>\n",
       "    </tr>\n",
       "  </tbody>\n",
       "</table>\n",
       "<p>33358 rows × 29 columns</p>\n",
       "</div>"
      ],
      "text/plain": [
       "       unique_mos_id first_name last_name command_now  complaint_id  \\\n",
       "0              10004   Jonathan      Ruiz     078 PCT         42835   \n",
       "1              10007       John     Sears     078 PCT         24601   \n",
       "2              10007       John     Sears     078 PCT         24601   \n",
       "3              10007       John     Sears     078 PCT         26146   \n",
       "4              10009      Noemi    Sierra     078 PCT         40253   \n",
       "...              ...        ...       ...         ...           ...   \n",
       "33353           9992     Tomasz  Pulawski     078 PCT         35671   \n",
       "33354           9992     Tomasz  Pulawski     078 PCT         35671   \n",
       "33355           9992     Tomasz  Pulawski     078 PCT         35671   \n",
       "33356           9992     Tomasz  Pulawski     078 PCT         35671   \n",
       "33357           9992     Tomasz  Pulawski     078 PCT         35671   \n",
       "\n",
       "       month_received  year_received  month_closed  year_closed  \\\n",
       "0                   7           2019             5         2020   \n",
       "1                  11           2011             8         2012   \n",
       "2                  11           2011             8         2012   \n",
       "3                   7           2012             9         2013   \n",
       "4                   8           2018             2         2019   \n",
       "...               ...            ...           ...          ...   \n",
       "33353               8           2016             2         2017   \n",
       "33354               8           2016             2         2017   \n",
       "33355               8           2016             2         2017   \n",
       "33356               8           2016             2         2017   \n",
       "33357               8           2016             2         2017   \n",
       "\n",
       "      command_at_incident  ... complainant_age_incident           fado_type  \\\n",
       "0                 078 PCT  ...                     38.0  Abuse of Authority   \n",
       "1                    PBBS  ...                     26.0         Discourtesy   \n",
       "2                    PBBS  ...                     26.0  Offensive Language   \n",
       "3                    PBBS  ...                     45.0  Abuse of Authority   \n",
       "4                 078 PCT  ...                     16.0               Force   \n",
       "...                   ...  ...                      ...                 ...   \n",
       "33353             066 PCT  ...                     21.0         Discourtesy   \n",
       "33354             066 PCT  ...                     21.0  Abuse of Authority   \n",
       "33355             066 PCT  ...                     21.0  Abuse of Authority   \n",
       "33356             066 PCT  ...                     21.0  Abuse of Authority   \n",
       "33357             066 PCT  ...                     21.0  Abuse of Authority   \n",
       "\n",
       "                         allegation precinct  \\\n",
       "0      Failure to provide RTKA card     78.0   \n",
       "1                            Action     67.0   \n",
       "2                              Race     67.0   \n",
       "3                          Question     67.0   \n",
       "4                    Physical force     67.0   \n",
       "...                             ...      ...   \n",
       "33353                          Word     66.0   \n",
       "33354   Interference with recording     66.0   \n",
       "33355            Search (of person)     66.0   \n",
       "33356                Vehicle search     66.0   \n",
       "33357                         Frisk     66.0   \n",
       "\n",
       "                                     contact_reason  \\\n",
       "0                           Report-domestic dispute   \n",
       "1                                  Moving violation   \n",
       "2                                  Moving violation   \n",
       "3      PD suspected C/V of violation/crime - street   \n",
       "4                                    Report-dispute   \n",
       "...                                             ...   \n",
       "33353                              Moving violation   \n",
       "33354                              Moving violation   \n",
       "33355                              Moving violation   \n",
       "33356                              Moving violation   \n",
       "33357                              Moving violation   \n",
       "\n",
       "                    outcome_description  \\\n",
       "0      No arrest made or summons issued   \n",
       "1       Moving violation summons issued   \n",
       "2       Moving violation summons issued   \n",
       "3      No arrest made or summons issued   \n",
       "4        Arrest - other violation/crime   \n",
       "...                                 ...   \n",
       "33353   Moving violation summons issued   \n",
       "33354   Moving violation summons issued   \n",
       "33355   Moving violation summons issued   \n",
       "33356   Moving violation summons issued   \n",
       "33357   Moving violation summons issued   \n",
       "\n",
       "                              board_disposition tot_complaints date_closed  \\\n",
       "0      Substantiated (Command Lvl Instructions)              1  2020-05-01   \n",
       "1                       Substantiated (Charges)              3  2012-08-01   \n",
       "2                       Substantiated (Charges)              3  2012-08-01   \n",
       "3                       Substantiated (Charges)              3  2013-09-01   \n",
       "4          Substantiated (Command Discipline A)              1  2019-02-01   \n",
       "...                                         ...            ...         ...   \n",
       "33353                           Unsubstantiated              6  2017-02-01   \n",
       "33354                           Unsubstantiated              6  2017-02-01   \n",
       "33355       Substantiated (Formalized Training)              6  2017-02-01   \n",
       "33356       Substantiated (Formalized Training)              6  2017-02-01   \n",
       "33357       Substantiated (Formalized Training)              6  2017-02-01   \n",
       "\n",
       "       date_received  \n",
       "0         2019-07-01  \n",
       "1         2011-11-01  \n",
       "2         2011-11-01  \n",
       "3         2012-07-01  \n",
       "4         2018-08-01  \n",
       "...              ...  \n",
       "33353     2016-08-01  \n",
       "33354     2016-08-01  \n",
       "33355     2016-08-01  \n",
       "33356     2016-08-01  \n",
       "33357     2016-08-01  \n",
       "\n",
       "[33358 rows x 29 columns]"
      ]
     },
     "execution_count": 208,
     "metadata": {},
     "output_type": "execute_result"
    }
   ],
   "source": [
    "df"
   ]
  },
  {
   "cell_type": "code",
   "execution_count": 109,
   "metadata": {},
   "outputs": [],
   "source": [
    "#create df of complaints per officer\n",
    "cmplnts_per_ofcr = df[['unique_mos_id','tot_complaints']].drop_duplicates().reset_index(drop=True)"
   ]
  },
  {
   "cell_type": "code",
   "execution_count": 110,
   "metadata": {},
   "outputs": [
    {
     "data": {
      "text/plain": [
       "<matplotlib.axes._subplots.AxesSubplot at 0x321816490>"
      ]
     },
     "execution_count": 110,
     "metadata": {},
     "output_type": "execute_result"
    },
    {
     "data": {
      "image/png": "[encoded data removed]",
      "text/plain": [
       "<Figure size 432x288 with 1 Axes>"
      ]
     },
     "metadata": {
      "needs_background": "light"
     },
     "output_type": "display_data"
    }
   ],
   "source": [
    "#histogram of complaints per officer\n",
    "cmplnts_per_ofcr['tot_complaints'].hist(bins=75)"
   ]
  },
  {
   "cell_type": "code",
   "execution_count": 111,
   "metadata": {},
   "outputs": [
    {
     "data": {
      "text/plain": [
       "array([18530, 18589, 18731, 19489, 25861])"
      ]
     },
     "execution_count": 111,
     "metadata": {},
     "output_type": "execute_result"
    }
   ],
   "source": [
    "#how many ids have more than 70 complaints\n",
    "df[df['tot_complaints'] > 70]['unique_mos_id'].unique()"
   ]
  },
  {
   "cell_type": "code",
   "execution_count": 112,
   "metadata": {},
   "outputs": [],
   "source": [
    "#turn >70 complaints into a top5 worst officers dataframe\n",
    "top5 = df[df['tot_complaints'] > 70]"
   ]
  },
  {
   "cell_type": "code",
   "execution_count": 113,
   "metadata": {},
   "outputs": [
    {
     "data": {
      "text/plain": [
       "Unsubstantiated                         0.529891\n",
       "Exonerated                              0.285326\n",
       "Substantiated (Charges)                 0.149457\n",
       "Substantiated (No Recommendations)      0.010870\n",
       "Substantiated (Command Discipline)      0.010870\n",
       "Substantiated (Instructions)            0.005435\n",
       "Substantiated (Command Discipline B)    0.002717\n",
       "Substantiated (Command Discipline A)    0.002717\n",
       "Substantiated (Formalized Training)     0.002717\n",
       "Name: board_disposition, dtype: float64"
      ]
     },
     "execution_count": 113,
     "metadata": {},
     "output_type": "execute_result"
    }
   ],
   "source": [
    "#take a look at the normalized results\n",
    "top5['board_disposition'].value_counts(normalize=True)"
   ]
  },
  {
   "cell_type": "code",
   "execution_count": 114,
   "metadata": {
    "collapsed": true
   },
   "outputs": [
    {
     "data": {
      "text/html": [
       "<div>\n",
       "<style scoped>\n",
       "    .dataframe tbody tr th:only-of-type {\n",
       "        vertical-align: middle;\n",
       "    }\n",
       "\n",
       "    .dataframe tbody tr th {\n",
       "        vertical-align: top;\n",
       "    }\n",
       "\n",
       "    .dataframe thead th {\n",
       "        text-align: right;\n",
       "    }\n",
       "</style>\n",
       "<table border=\"1\" class=\"dataframe\">\n",
       "  <thead>\n",
       "    <tr style=\"text-align: right;\">\n",
       "      <th></th>\n",
       "      <th>unique_mos_id</th>\n",
       "      <th>first_name</th>\n",
       "      <th>last_name</th>\n",
       "      <th>command_now</th>\n",
       "      <th>complaint_id</th>\n",
       "      <th>month_received</th>\n",
       "      <th>year_received</th>\n",
       "      <th>month_closed</th>\n",
       "      <th>year_closed</th>\n",
       "      <th>command_at_incident</th>\n",
       "      <th>...</th>\n",
       "      <th>complainant_age_incident</th>\n",
       "      <th>fado_type</th>\n",
       "      <th>allegation</th>\n",
       "      <th>precinct</th>\n",
       "      <th>contact_reason</th>\n",
       "      <th>outcome_description</th>\n",
       "      <th>board_disposition</th>\n",
       "      <th>tot_complaints</th>\n",
       "      <th>date_closed</th>\n",
       "      <th>date_received</th>\n",
       "    </tr>\n",
       "  </thead>\n",
       "  <tbody>\n",
       "    <tr>\n",
       "      <td>7885</td>\n",
       "      <td>18731</td>\n",
       "      <td>Daniel</td>\n",
       "      <td>Sbarra</td>\n",
       "      <td>DB CEIS</td>\n",
       "      <td>12981</td>\n",
       "      <td>2</td>\n",
       "      <td>2007</td>\n",
       "      <td>8</td>\n",
       "      <td>2007</td>\n",
       "      <td>NARCBBN</td>\n",
       "      <td>...</td>\n",
       "      <td>27.0</td>\n",
       "      <td>Force</td>\n",
       "      <td>Physical force</td>\n",
       "      <td>81.0</td>\n",
       "      <td>PD suspected C/V of violation/crime - street</td>\n",
       "      <td>Arrest - other violation/crime</td>\n",
       "      <td>Unsubstantiated</td>\n",
       "      <td>75</td>\n",
       "      <td>2007-08-01</td>\n",
       "      <td>2007-02-01</td>\n",
       "    </tr>\n",
       "    <tr>\n",
       "      <td>7886</td>\n",
       "      <td>18731</td>\n",
       "      <td>Daniel</td>\n",
       "      <td>Sbarra</td>\n",
       "      <td>DB CEIS</td>\n",
       "      <td>12981</td>\n",
       "      <td>2</td>\n",
       "      <td>2007</td>\n",
       "      <td>8</td>\n",
       "      <td>2007</td>\n",
       "      <td>NARCBBN</td>\n",
       "      <td>...</td>\n",
       "      <td>27.0</td>\n",
       "      <td>Abuse of Authority</td>\n",
       "      <td>Question and/or stop</td>\n",
       "      <td>81.0</td>\n",
       "      <td>PD suspected C/V of violation/crime - street</td>\n",
       "      <td>Arrest - other violation/crime</td>\n",
       "      <td>Exonerated</td>\n",
       "      <td>75</td>\n",
       "      <td>2007-08-01</td>\n",
       "      <td>2007-02-01</td>\n",
       "    </tr>\n",
       "    <tr>\n",
       "      <td>7902</td>\n",
       "      <td>18731</td>\n",
       "      <td>Daniel</td>\n",
       "      <td>Sbarra</td>\n",
       "      <td>DB CEIS</td>\n",
       "      <td>19817</td>\n",
       "      <td>1</td>\n",
       "      <td>2010</td>\n",
       "      <td>4</td>\n",
       "      <td>2011</td>\n",
       "      <td>NARCBBN</td>\n",
       "      <td>...</td>\n",
       "      <td>NaN</td>\n",
       "      <td>Abuse of Authority</td>\n",
       "      <td>Premises entered and/or searched</td>\n",
       "      <td>81.0</td>\n",
       "      <td>Execution of search warrant</td>\n",
       "      <td>Arrest - other violation/crime</td>\n",
       "      <td>Exonerated</td>\n",
       "      <td>75</td>\n",
       "      <td>2011-04-01</td>\n",
       "      <td>2010-01-01</td>\n",
       "    </tr>\n",
       "    <tr>\n",
       "      <td>7901</td>\n",
       "      <td>18731</td>\n",
       "      <td>Daniel</td>\n",
       "      <td>Sbarra</td>\n",
       "      <td>DB CEIS</td>\n",
       "      <td>19029</td>\n",
       "      <td>9</td>\n",
       "      <td>2009</td>\n",
       "      <td>2</td>\n",
       "      <td>2011</td>\n",
       "      <td>NARCBBN</td>\n",
       "      <td>...</td>\n",
       "      <td>31.0</td>\n",
       "      <td>Force</td>\n",
       "      <td>Physical force</td>\n",
       "      <td>81.0</td>\n",
       "      <td>Other</td>\n",
       "      <td>No arrest made or summons issued</td>\n",
       "      <td>Exonerated</td>\n",
       "      <td>75</td>\n",
       "      <td>2011-02-01</td>\n",
       "      <td>2009-09-01</td>\n",
       "    </tr>\n",
       "    <tr>\n",
       "      <td>7900</td>\n",
       "      <td>18731</td>\n",
       "      <td>Daniel</td>\n",
       "      <td>Sbarra</td>\n",
       "      <td>DB CEIS</td>\n",
       "      <td>19029</td>\n",
       "      <td>9</td>\n",
       "      <td>2009</td>\n",
       "      <td>2</td>\n",
       "      <td>2011</td>\n",
       "      <td>NARCBBN</td>\n",
       "      <td>...</td>\n",
       "      <td>20.0</td>\n",
       "      <td>Offensive Language</td>\n",
       "      <td>Sexual orientation</td>\n",
       "      <td>81.0</td>\n",
       "      <td>Other</td>\n",
       "      <td>No arrest made or summons issued</td>\n",
       "      <td>Unsubstantiated</td>\n",
       "      <td>75</td>\n",
       "      <td>2011-02-01</td>\n",
       "      <td>2009-09-01</td>\n",
       "    </tr>\n",
       "    <tr>\n",
       "      <td>...</td>\n",
       "      <td>...</td>\n",
       "      <td>...</td>\n",
       "      <td>...</td>\n",
       "      <td>...</td>\n",
       "      <td>...</td>\n",
       "      <td>...</td>\n",
       "      <td>...</td>\n",
       "      <td>...</td>\n",
       "      <td>...</td>\n",
       "      <td>...</td>\n",
       "      <td>...</td>\n",
       "      <td>...</td>\n",
       "      <td>...</td>\n",
       "      <td>...</td>\n",
       "      <td>...</td>\n",
       "      <td>...</td>\n",
       "      <td>...</td>\n",
       "      <td>...</td>\n",
       "      <td>...</td>\n",
       "      <td>...</td>\n",
       "      <td>...</td>\n",
       "    </tr>\n",
       "    <tr>\n",
       "      <td>7143</td>\n",
       "      <td>18589</td>\n",
       "      <td>Christophe</td>\n",
       "      <td>Mccormack</td>\n",
       "      <td>DB CED</td>\n",
       "      <td>6147</td>\n",
       "      <td>2</td>\n",
       "      <td>2003</td>\n",
       "      <td>3</td>\n",
       "      <td>2004</td>\n",
       "      <td>025 PCT</td>\n",
       "      <td>...</td>\n",
       "      <td>30.0</td>\n",
       "      <td>Discourtesy</td>\n",
       "      <td>Demeanor/tone</td>\n",
       "      <td>44.0</td>\n",
       "      <td>PD suspected C/V of violation/crime - street</td>\n",
       "      <td>Arrest - other violation/crime</td>\n",
       "      <td>Exonerated</td>\n",
       "      <td>72</td>\n",
       "      <td>2004-03-01</td>\n",
       "      <td>2003-02-01</td>\n",
       "    </tr>\n",
       "    <tr>\n",
       "      <td>7142</td>\n",
       "      <td>18589</td>\n",
       "      <td>Christophe</td>\n",
       "      <td>Mccormack</td>\n",
       "      <td>DB CED</td>\n",
       "      <td>6147</td>\n",
       "      <td>2</td>\n",
       "      <td>2003</td>\n",
       "      <td>3</td>\n",
       "      <td>2004</td>\n",
       "      <td>025 PCT</td>\n",
       "      <td>...</td>\n",
       "      <td>30.0</td>\n",
       "      <td>Abuse of Authority</td>\n",
       "      <td>Frisk and/or search</td>\n",
       "      <td>44.0</td>\n",
       "      <td>PD suspected C/V of violation/crime - street</td>\n",
       "      <td>Arrest - other violation/crime</td>\n",
       "      <td>Exonerated</td>\n",
       "      <td>72</td>\n",
       "      <td>2004-03-01</td>\n",
       "      <td>2003-02-01</td>\n",
       "    </tr>\n",
       "    <tr>\n",
       "      <td>7141</td>\n",
       "      <td>18589</td>\n",
       "      <td>Christophe</td>\n",
       "      <td>Mccormack</td>\n",
       "      <td>DB CED</td>\n",
       "      <td>6120</td>\n",
       "      <td>1</td>\n",
       "      <td>2003</td>\n",
       "      <td>1</td>\n",
       "      <td>2004</td>\n",
       "      <td>025 PCT</td>\n",
       "      <td>...</td>\n",
       "      <td>NaN</td>\n",
       "      <td>Abuse of Authority</td>\n",
       "      <td>Frisk and/or search</td>\n",
       "      <td>25.0</td>\n",
       "      <td>PD suspected C/V of violation/crime - street</td>\n",
       "      <td>Arrest - resisting arrest</td>\n",
       "      <td>Unsubstantiated</td>\n",
       "      <td>72</td>\n",
       "      <td>2004-01-01</td>\n",
       "      <td>2003-01-01</td>\n",
       "    </tr>\n",
       "    <tr>\n",
       "      <td>7140</td>\n",
       "      <td>18589</td>\n",
       "      <td>Christophe</td>\n",
       "      <td>Mccormack</td>\n",
       "      <td>DB CED</td>\n",
       "      <td>6120</td>\n",
       "      <td>1</td>\n",
       "      <td>2003</td>\n",
       "      <td>1</td>\n",
       "      <td>2004</td>\n",
       "      <td>025 PCT</td>\n",
       "      <td>...</td>\n",
       "      <td>41.0</td>\n",
       "      <td>Abuse of Authority</td>\n",
       "      <td>Frisk and/or search</td>\n",
       "      <td>25.0</td>\n",
       "      <td>PD suspected C/V of violation/crime - street</td>\n",
       "      <td>Arrest - resisting arrest</td>\n",
       "      <td>Unsubstantiated</td>\n",
       "      <td>72</td>\n",
       "      <td>2004-01-01</td>\n",
       "      <td>2003-01-01</td>\n",
       "    </tr>\n",
       "    <tr>\n",
       "      <td>7138</td>\n",
       "      <td>18589</td>\n",
       "      <td>Christophe</td>\n",
       "      <td>Mccormack</td>\n",
       "      <td>DB CED</td>\n",
       "      <td>6105</td>\n",
       "      <td>1</td>\n",
       "      <td>2003</td>\n",
       "      <td>1</td>\n",
       "      <td>2004</td>\n",
       "      <td>025 PCT</td>\n",
       "      <td>...</td>\n",
       "      <td>25.0</td>\n",
       "      <td>Abuse of Authority</td>\n",
       "      <td>Threat of arrest</td>\n",
       "      <td>44.0</td>\n",
       "      <td>Other</td>\n",
       "      <td>No arrest made or summons issued</td>\n",
       "      <td>Substantiated (Charges)</td>\n",
       "      <td>72</td>\n",
       "      <td>2004-01-01</td>\n",
       "      <td>2003-01-01</td>\n",
       "    </tr>\n",
       "  </tbody>\n",
       "</table>\n",
       "<p>368 rows × 29 columns</p>\n",
       "</div>"
      ],
      "text/plain": [
       "      unique_mos_id  first_name  last_name command_now  complaint_id  \\\n",
       "7885          18731      Daniel     Sbarra     DB CEIS         12981   \n",
       "7886          18731      Daniel     Sbarra     DB CEIS         12981   \n",
       "7902          18731      Daniel     Sbarra     DB CEIS         19817   \n",
       "7901          18731      Daniel     Sbarra     DB CEIS         19029   \n",
       "7900          18731      Daniel     Sbarra     DB CEIS         19029   \n",
       "...             ...         ...        ...         ...           ...   \n",
       "7143          18589  Christophe  Mccormack      DB CED          6147   \n",
       "7142          18589  Christophe  Mccormack      DB CED          6147   \n",
       "7141          18589  Christophe  Mccormack      DB CED          6120   \n",
       "7140          18589  Christophe  Mccormack      DB CED          6120   \n",
       "7138          18589  Christophe  Mccormack      DB CED          6105   \n",
       "\n",
       "      month_received  year_received  month_closed  year_closed  \\\n",
       "7885               2           2007             8         2007   \n",
       "7886               2           2007             8         2007   \n",
       "7902               1           2010             4         2011   \n",
       "7901               9           2009             2         2011   \n",
       "7900               9           2009             2         2011   \n",
       "...              ...            ...           ...          ...   \n",
       "7143               2           2003             3         2004   \n",
       "7142               2           2003             3         2004   \n",
       "7141               1           2003             1         2004   \n",
       "7140               1           2003             1         2004   \n",
       "7138               1           2003             1         2004   \n",
       "\n",
       "     command_at_incident  ... complainant_age_incident           fado_type  \\\n",
       "7885             NARCBBN  ...                     27.0               Force   \n",
       "7886             NARCBBN  ...                     27.0  Abuse of Authority   \n",
       "7902             NARCBBN  ...                      NaN  Abuse of Authority   \n",
       "7901             NARCBBN  ...                     31.0               Force   \n",
       "7900             NARCBBN  ...                     20.0  Offensive Language   \n",
       "...                  ...  ...                      ...                 ...   \n",
       "7143             025 PCT  ...                     30.0         Discourtesy   \n",
       "7142             025 PCT  ...                     30.0  Abuse of Authority   \n",
       "7141             025 PCT  ...                      NaN  Abuse of Authority   \n",
       "7140             025 PCT  ...                     41.0  Abuse of Authority   \n",
       "7138             025 PCT  ...                     25.0  Abuse of Authority   \n",
       "\n",
       "                            allegation precinct  \\\n",
       "7885                    Physical force     81.0   \n",
       "7886              Question and/or stop     81.0   \n",
       "7902  Premises entered and/or searched     81.0   \n",
       "7901                    Physical force     81.0   \n",
       "7900                Sexual orientation     81.0   \n",
       "...                                ...      ...   \n",
       "7143                     Demeanor/tone     44.0   \n",
       "7142               Frisk and/or search     44.0   \n",
       "7141               Frisk and/or search     25.0   \n",
       "7140               Frisk and/or search     25.0   \n",
       "7138                  Threat of arrest     44.0   \n",
       "\n",
       "                                    contact_reason  \\\n",
       "7885  PD suspected C/V of violation/crime - street   \n",
       "7886  PD suspected C/V of violation/crime - street   \n",
       "7902                   Execution of search warrant   \n",
       "7901                                         Other   \n",
       "7900                                         Other   \n",
       "...                                            ...   \n",
       "7143  PD suspected C/V of violation/crime - street   \n",
       "7142  PD suspected C/V of violation/crime - street   \n",
       "7141  PD suspected C/V of violation/crime - street   \n",
       "7140  PD suspected C/V of violation/crime - street   \n",
       "7138                                         Other   \n",
       "\n",
       "                   outcome_description        board_disposition  \\\n",
       "7885    Arrest - other violation/crime          Unsubstantiated   \n",
       "7886    Arrest - other violation/crime               Exonerated   \n",
       "7902    Arrest - other violation/crime               Exonerated   \n",
       "7901  No arrest made or summons issued               Exonerated   \n",
       "7900  No arrest made or summons issued          Unsubstantiated   \n",
       "...                                ...                      ...   \n",
       "7143    Arrest - other violation/crime               Exonerated   \n",
       "7142    Arrest - other violation/crime               Exonerated   \n",
       "7141         Arrest - resisting arrest          Unsubstantiated   \n",
       "7140         Arrest - resisting arrest          Unsubstantiated   \n",
       "7138  No arrest made or summons issued  Substantiated (Charges)   \n",
       "\n",
       "     tot_complaints date_closed  date_received  \n",
       "7885             75  2007-08-01     2007-02-01  \n",
       "7886             75  2007-08-01     2007-02-01  \n",
       "7902             75  2011-04-01     2010-01-01  \n",
       "7901             75  2011-02-01     2009-09-01  \n",
       "7900             75  2011-02-01     2009-09-01  \n",
       "...             ...         ...            ...  \n",
       "7143             72  2004-03-01     2003-02-01  \n",
       "7142             72  2004-03-01     2003-02-01  \n",
       "7141             72  2004-01-01     2003-01-01  \n",
       "7140             72  2004-01-01     2003-01-01  \n",
       "7138             72  2004-01-01     2003-01-01  \n",
       "\n",
       "[368 rows x 29 columns]"
      ]
     },
     "execution_count": 114,
     "metadata": {},
     "output_type": "execute_result"
    }
   ],
   "source": [
    "#look at which officer had most complaints against\n",
    "top5.sort_values(by='tot_complaints',ascending=False)"
   ]
  },
  {
   "cell_type": "code",
   "execution_count": 115,
   "metadata": {},
   "outputs": [],
   "source": [
    "#create Daniel Sbarra df of complaints against Daniel Sbarra\n",
    "sbarra = top5[top5['unique_mos_id'] == 18731].sort_values(by='date_closed',ascending=True)"
   ]
  },
  {
   "cell_type": "code",
   "execution_count": 147,
   "metadata": {},
   "outputs": [
    {
     "data": {
      "text/plain": [
       "array([ 6832,  7174,  8351,  8478,  9192, 10709, 12057, 11553, 12981,\n",
       "       11303, 12387, 12872, 12249, 13197, 14924, 14996, 15200, 15670,\n",
       "       12477, 18088, 19029, 19817, 19988, 20866, 22088, 22856, 21851,\n",
       "       22996, 25825])"
      ]
     },
     "execution_count": 147,
     "metadata": {},
     "output_type": "execute_result"
    }
   ],
   "source": [
    "#some complaints are filed under the same id but have different complaints\n",
    "sbarra['complaint_id'].unique()"
   ]
  },
  {
   "cell_type": "code",
   "execution_count": 137,
   "metadata": {},
   "outputs": [
    {
     "data": {
      "text/plain": [
       "array(['Unsubstantiated', 'Exonerated', 'Substantiated (Charges)',\n",
       "       'Substantiated (Command Discipline)'], dtype=object)"
      ]
     },
     "execution_count": 137,
     "metadata": {},
     "output_type": "execute_result"
    }
   ],
   "source": [
    "#what are the unique results of all Sbarra's complaints\n",
    "sbarra['board_disposition'].unique()"
   ]
  },
  {
   "cell_type": "code",
   "execution_count": 139,
   "metadata": {},
   "outputs": [],
   "source": [
    "#abbreviate complaint headers\n",
    "sbarra['bd_abbr'] = sbarra['board_disposition'].copy().replace({'Unsubstantiated':'U',\n",
    "                                                                'Exonerated':'X',\n",
    "                                                                'Substantiated (Charges)':'S(c)',\n",
    "                                                                'Substantiated (Command Discipline)':'S(cd)'})"
   ]
  },
  {
   "cell_type": "code",
   "execution_count": 140,
   "metadata": {},
   "outputs": [],
   "source": [
    "#create dates and names for plot\n",
    "dates = sbarra['date_received']\n",
    "names = sbarra['bd_abbr']"
   ]
  },
  {
   "cell_type": "code",
   "execution_count": 143,
   "metadata": {},
   "outputs": [
    {
     "data": {
      "image/png": "[encoded data removed]",
      "text/plain": [
       "<Figure size 1440x288 with 1 Axes>"
      ]
     },
     "metadata": {
      "needs_background": "light"
     },
     "output_type": "display_data"
    }
   ],
   "source": [
    "#matplotlob timeline\n",
    "# Choose some nice levels\n",
    "levels = np.tile([-5, 5, -3, 3, -1, 1],\n",
    "                 int(np.ceil(len(dates)/6)))[:len(dates)]\n",
    "\n",
    "# Create figure and plot a stem plot with the date\n",
    "fig, ax = plt.subplots(figsize=(20, 4), constrained_layout=True)\n",
    "ax.set(title=\"Daniel Sbarra Complaint Timeline\")\n",
    "\n",
    "markerline, stemline, baseline = ax.stem(dates, levels,\n",
    "                                         linefmt=\"C3-\", basefmt=\"k-\",\n",
    "                                         use_line_collection=True)\n",
    "\n",
    "plt.setp(markerline, mec=\"k\", mfc=\"w\", zorder=3)\n",
    "\n",
    "# Shift the markers to the baseline by replacing the y-data by zeros.\n",
    "markerline.set_ydata(np.zeros(len(dates)))\n",
    "\n",
    "# annotate lines\n",
    "vert = np.array(['top', 'bottom'])[(levels > 0).astype(int)]\n",
    "for d, l, r, va in zip(dates, levels, names, vert):\n",
    "    ax.annotate(r, xy=(d, l), xytext=(-3, np.sign(l)*3),\n",
    "                textcoords=\"offset points\", va=va, ha=\"right\")\n",
    "\n",
    "# format xaxis with 4 month intervals\n",
    "ax.get_xaxis().set_major_locator(mdates.MonthLocator(interval=4))\n",
    "ax.get_xaxis().set_major_formatter(mdates.DateFormatter(\"%b %Y\"))\n",
    "plt.setp(ax.get_xticklabels(), rotation=30, ha=\"right\")\n",
    "\n",
    "# remove y axis and spines\n",
    "ax.get_yaxis().set_visible(False)\n",
    "for spine in [\"left\", \"top\", \"right\"]:\n",
    "    ax.spines[spine].set_visible(False)\n",
    "\n",
    "ax.margins(y=0.1)\n",
    "plt.show()"
   ]
  },
  {
   "cell_type": "code",
   "execution_count": 196,
   "metadata": {},
   "outputs": [],
   "source": [
    "#reformat neccessary columns for olotly gannt chart\n",
    "sbarra_gnt = sbarra[['bd_abbr','date_received','date_closed','fado_type']]\n",
    "sbarra_gnt.columns = ['Task','Start','Finish','Type']"
   ]
  },
  {
   "cell_type": "code",
   "execution_count": 197,
   "metadata": {},
   "outputs": [
    {
     "data": {
      "text/plain": [
       "array(['Discourtesy', 'Force', 'Abuse of Authority', 'Offensive Language'],\n",
       "      dtype=object)"
      ]
     },
     "execution_count": 197,
     "metadata": {},
     "output_type": "execute_result"
    }
   ],
   "source": [
    "sbarra_gnt['Type'].unique()"
   ]
  },
  {
   "cell_type": "code",
   "execution_count": 199,
   "metadata": {
    "scrolled": true
   },
   "outputs": [
    {
     "data": {
      "text/plain": [
       "{'Discourtesy': (0, 0, 1),\n",
       " 'Force': (1, 0, 0),\n",
       " 'Abuse of Authority': (0, 0, 1),\n",
       " 'Offensive Language': (1, 0, 0)}"
      ]
     },
     "execution_count": 199,
     "metadata": {},
     "output_type": "execute_result"
    }
   ],
   "source": [
    "dict(zip(sbarra_gnt['Type'].unique(),[(0,0,1),(1,0,0),(0,0,1),(1,0,0)]))"
   ]
  },
  {
   "cell_type": "code",
   "execution_count": 200,
   "metadata": {},
   "outputs": [],
   "source": [
    "sbarra_gnt = sbarra_gnt.sort_values(by='Start')"
   ]
  },
  {
   "cell_type": "code",
   "execution_count": 201,
   "metadata": {},
   "outputs": [
    {
     "data": {
      "application/vnd.plotly.v1+json": {
       "config": {
        "plotlyServerURL": "https://plot.ly"
       },
       "data": [
        {
         "fill": "toself",
         "fillcolor": "rgb(0, 0, 0)",
         "hoverinfo": "name",
         "legendgroup": "rgb(0, 0, 0)",
         "mode": "none",
         "name": "Discourtesy",
         "type": "scatter",
         "x": [
          "2003-09-01T00:00:00",
          "2004-02-01T00:00:00",
          "2004-02-01T00:00:00",
          "2003-09-01T00:00:00",
          "2003-09-01T00:00:00",
          "2004-01-01T00:00:00",
          "2004-12-01T00:00:00",
          "2004-12-01T00:00:00",
          "2004-01-01T00:00:00",
          "2004-01-01T00:00:00",
          "2004-10-01T00:00:00",
          "2005-07-01T00:00:00",
          "2005-07-01T00:00:00",
          "2004-10-01T00:00:00",
          "2004-10-01T00:00:00",
          "2005-04-01T00:00:00",
          "2006-02-01T00:00:00",
          "2006-02-01T00:00:00",
          "2005-04-01T00:00:00",
          "2005-04-01T00:00:00",
          "2006-05-01T00:00:00",
          "2007-09-01T00:00:00",
          "2007-09-01T00:00:00",
          "2006-05-01T00:00:00",
          "2006-05-01T00:00:00",
          "2006-06-01T00:00:00",
          "2007-06-01T00:00:00",
          "2007-06-01T00:00:00",
          "2006-06-01T00:00:00",
          "2006-06-01T00:00:00",
          "2006-06-01T00:00:00",
          "2007-06-01T00:00:00",
          "2007-06-01T00:00:00",
          "2006-06-01T00:00:00",
          "2006-06-01T00:00:00",
          "2006-09-01T00:00:00",
          "2007-03-01T00:00:00",
          "2007-03-01T00:00:00",
          "2006-09-01T00:00:00",
          "2006-09-01T00:00:00",
          "2007-01-01T00:00:00",
          "2007-11-01T00:00:00",
          "2007-11-01T00:00:00",
          "2007-01-01T00:00:00",
          "2007-01-01T00:00:00",
          "2007-01-01T00:00:00",
          "2007-11-01T00:00:00",
          "2007-11-01T00:00:00",
          "2007-01-01T00:00:00",
          "2007-01-01T00:00:00",
          "2007-12-01T00:00:00",
          "2008-11-01T00:00:00",
          "2008-11-01T00:00:00",
          "2007-12-01T00:00:00",
          "2007-12-01T00:00:00",
          "2008-04-01T00:00:00",
          "2009-06-01T00:00:00",
          "2009-06-01T00:00:00",
          "2008-04-01T00:00:00",
          "2008-04-01T00:00:00",
          "2009-04-01T00:00:00",
          "2010-08-01T00:00:00",
          "2010-08-01T00:00:00",
          "2009-04-01T00:00:00",
          "2009-04-01T00:00:00",
          "2009-09-01T00:00:00",
          "2011-02-01T00:00:00",
          "2011-02-01T00:00:00",
          "2009-09-01T00:00:00",
          "2009-09-01T00:00:00",
          "2010-06-01T00:00:00",
          "2011-04-01T00:00:00",
          "2011-04-01T00:00:00",
          "2010-06-01T00:00:00",
          "2010-06-01T00:00:00",
          "2011-03-01T00:00:00",
          "2011-11-01T00:00:00",
          "2011-11-01T00:00:00",
          "2011-03-01T00:00:00"
         ],
         "y": [
          -0.4,
          -0.4,
          0.4,
          0.4,
          null,
          3.6,
          3.6,
          4.4,
          4.4,
          null,
          10.6,
          10.6,
          11.4,
          11.4,
          null,
          16.6,
          16.6,
          17.4,
          17.4,
          null,
          20.6,
          20.6,
          21.4,
          21.4,
          null,
          21.6,
          21.6,
          22.4,
          22.4,
          null,
          23.6,
          23.6,
          24.4,
          24.4,
          null,
          28.6,
          28.6,
          29.4,
          29.4,
          null,
          38.6,
          38.6,
          39.4,
          39.4,
          null,
          41.6,
          41.6,
          42.4,
          42.4,
          null,
          45.6,
          45.6,
          46.4,
          46.4,
          null,
          51.6,
          51.6,
          52.4,
          52.4,
          null,
          53.6,
          53.6,
          54.4,
          54.4,
          null,
          55.6,
          55.6,
          56.4,
          56.4,
          null,
          65.6,
          65.6,
          66.4,
          66.4,
          null,
          69.6,
          69.6,
          70.4,
          70.4
         ]
        },
        {
         "fill": "toself",
         "fillcolor": "rgb(0, 0, 255)",
         "hoverinfo": "name",
         "legendgroup": "rgb(0, 0, 255)",
         "mode": "none",
         "name": "Abuse of Authority",
         "type": "scatter",
         "x": [
          "2004-01-01T00:00:00",
          "2004-12-01T00:00:00",
          "2004-12-01T00:00:00",
          "2004-01-01T00:00:00",
          "2004-01-01T00:00:00",
          "2004-10-01T00:00:00",
          "2005-07-01T00:00:00",
          "2005-07-01T00:00:00",
          "2004-10-01T00:00:00",
          "2004-10-01T00:00:00",
          "2004-10-01T00:00:00",
          "2005-07-01T00:00:00",
          "2005-07-01T00:00:00",
          "2004-10-01T00:00:00",
          "2004-10-01T00:00:00",
          "2004-10-01T00:00:00",
          "2005-07-01T00:00:00",
          "2005-07-01T00:00:00",
          "2004-10-01T00:00:00",
          "2004-10-01T00:00:00",
          "2004-10-01T00:00:00",
          "2005-07-01T00:00:00",
          "2005-07-01T00:00:00",
          "2004-10-01T00:00:00",
          "2004-10-01T00:00:00",
          "2005-04-01T00:00:00",
          "2006-02-01T00:00:00",
          "2006-02-01T00:00:00",
          "2005-04-01T00:00:00",
          "2005-04-01T00:00:00",
          "2005-04-01T00:00:00",
          "2006-02-01T00:00:00",
          "2006-02-01T00:00:00",
          "2005-04-01T00:00:00",
          "2005-04-01T00:00:00",
          "2005-04-01T00:00:00",
          "2006-02-01T00:00:00",
          "2006-02-01T00:00:00",
          "2005-04-01T00:00:00",
          "2005-04-01T00:00:00",
          "2006-02-01T00:00:00",
          "2006-08-01T00:00:00",
          "2006-08-01T00:00:00",
          "2006-02-01T00:00:00",
          "2006-02-01T00:00:00",
          "2006-02-01T00:00:00",
          "2006-08-01T00:00:00",
          "2006-08-01T00:00:00",
          "2006-02-01T00:00:00",
          "2006-02-01T00:00:00",
          "2006-06-01T00:00:00",
          "2007-06-01T00:00:00",
          "2007-06-01T00:00:00",
          "2006-06-01T00:00:00",
          "2006-06-01T00:00:00",
          "2006-09-01T00:00:00",
          "2007-03-01T00:00:00",
          "2007-03-01T00:00:00",
          "2006-09-01T00:00:00",
          "2006-09-01T00:00:00",
          "2006-09-01T00:00:00",
          "2007-03-01T00:00:00",
          "2007-03-01T00:00:00",
          "2006-09-01T00:00:00",
          "2006-09-01T00:00:00",
          "2006-09-01T00:00:00",
          "2007-03-01T00:00:00",
          "2007-03-01T00:00:00",
          "2006-09-01T00:00:00",
          "2006-09-01T00:00:00",
          "2006-09-01T00:00:00",
          "2007-03-01T00:00:00",
          "2007-03-01T00:00:00",
          "2006-09-01T00:00:00",
          "2006-09-01T00:00:00",
          "2006-09-01T00:00:00",
          "2007-03-01T00:00:00",
          "2007-03-01T00:00:00",
          "2006-09-01T00:00:00",
          "2006-09-01T00:00:00",
          "2006-09-01T00:00:00",
          "2007-03-01T00:00:00",
          "2007-03-01T00:00:00",
          "2006-09-01T00:00:00",
          "2006-09-01T00:00:00",
          "2006-10-01T00:00:00",
          "2007-10-01T00:00:00",
          "2007-10-01T00:00:00",
          "2006-10-01T00:00:00",
          "2006-10-01T00:00:00",
          "2006-10-01T00:00:00",
          "2007-10-01T00:00:00",
          "2007-10-01T00:00:00",
          "2006-10-01T00:00:00",
          "2006-10-01T00:00:00",
          "2006-10-01T00:00:00",
          "2007-10-01T00:00:00",
          "2007-10-01T00:00:00",
          "2006-10-01T00:00:00",
          "2006-10-01T00:00:00",
          "2006-11-01T00:00:00",
          "2009-08-01T00:00:00",
          "2009-08-01T00:00:00",
          "2006-11-01T00:00:00",
          "2006-11-01T00:00:00",
          "2007-01-01T00:00:00",
          "2007-11-01T00:00:00",
          "2007-11-01T00:00:00",
          "2007-01-01T00:00:00",
          "2007-01-01T00:00:00",
          "2007-01-01T00:00:00",
          "2007-11-01T00:00:00",
          "2007-11-01T00:00:00",
          "2007-01-01T00:00:00",
          "2007-01-01T00:00:00",
          "2007-02-01T00:00:00",
          "2007-08-01T00:00:00",
          "2007-08-01T00:00:00",
          "2007-02-01T00:00:00",
          "2007-02-01T00:00:00",
          "2007-03-01T00:00:00",
          "2008-04-01T00:00:00",
          "2008-04-01T00:00:00",
          "2007-03-01T00:00:00",
          "2007-03-01T00:00:00",
          "2007-12-01T00:00:00",
          "2008-08-01T00:00:00",
          "2008-08-01T00:00:00",
          "2007-12-01T00:00:00",
          "2007-12-01T00:00:00",
          "2007-12-01T00:00:00",
          "2008-11-01T00:00:00",
          "2008-11-01T00:00:00",
          "2007-12-01T00:00:00",
          "2007-12-01T00:00:00",
          "2007-12-01T00:00:00",
          "2008-11-01T00:00:00",
          "2008-11-01T00:00:00",
          "2007-12-01T00:00:00",
          "2007-12-01T00:00:00",
          "2008-04-01T00:00:00",
          "2009-06-01T00:00:00",
          "2009-06-01T00:00:00",
          "2008-04-01T00:00:00",
          "2008-04-01T00:00:00",
          "2009-04-01T00:00:00",
          "2010-08-01T00:00:00",
          "2010-08-01T00:00:00",
          "2009-04-01T00:00:00",
          "2009-04-01T00:00:00",
          "2009-09-01T00:00:00",
          "2011-02-01T00:00:00",
          "2011-02-01T00:00:00",
          "2009-09-01T00:00:00",
          "2009-09-01T00:00:00",
          "2009-09-01T00:00:00",
          "2011-02-01T00:00:00",
          "2011-02-01T00:00:00",
          "2009-09-01T00:00:00",
          "2009-09-01T00:00:00",
          "2010-01-01T00:00:00",
          "2011-04-01T00:00:00",
          "2011-04-01T00:00:00",
          "2010-01-01T00:00:00",
          "2010-01-01T00:00:00",
          "2010-02-01T00:00:00",
          "2011-04-01T00:00:00",
          "2011-04-01T00:00:00",
          "2010-02-01T00:00:00",
          "2010-02-01T00:00:00",
          "2010-02-01T00:00:00",
          "2011-04-01T00:00:00",
          "2011-04-01T00:00:00",
          "2010-02-01T00:00:00",
          "2010-02-01T00:00:00",
          "2010-10-01T00:00:00",
          "2011-11-01T00:00:00",
          "2011-11-01T00:00:00",
          "2010-10-01T00:00:00",
          "2010-10-01T00:00:00",
          "2010-11-01T00:00:00",
          "2011-07-01T00:00:00",
          "2011-07-01T00:00:00",
          "2010-11-01T00:00:00",
          "2010-11-01T00:00:00",
          "2011-03-01T00:00:00",
          "2011-11-01T00:00:00",
          "2011-11-01T00:00:00",
          "2011-03-01T00:00:00",
          "2011-03-01T00:00:00",
          "2011-04-01T00:00:00",
          "2012-06-01T00:00:00",
          "2012-06-01T00:00:00",
          "2011-04-01T00:00:00",
          "2011-04-01T00:00:00",
          "2011-04-01T00:00:00",
          "2012-06-01T00:00:00",
          "2012-06-01T00:00:00",
          "2011-04-01T00:00:00",
          "2011-04-01T00:00:00",
          "2012-05-01T00:00:00",
          "2013-07-01T00:00:00",
          "2013-07-01T00:00:00",
          "2012-05-01T00:00:00",
          "2012-05-01T00:00:00",
          "2012-05-01T00:00:00",
          "2013-07-01T00:00:00",
          "2013-07-01T00:00:00",
          "2012-05-01T00:00:00"
         ],
         "y": [
          2.6,
          2.6,
          3.4,
          3.4,
          null,
          4.6,
          4.6,
          5.4,
          5.4,
          null,
          5.6,
          5.6,
          6.4,
          6.4,
          null,
          7.6,
          7.6,
          8.4,
          8.4,
          null,
          9.6,
          9.6,
          10.4,
          10.4,
          null,
          12.6,
          12.6,
          13.4,
          13.4,
          null,
          13.6,
          13.6,
          14.4,
          14.4,
          null,
          14.6,
          14.6,
          15.4,
          15.4,
          null,
          17.6,
          17.6,
          18.4,
          18.4,
          null,
          18.6,
          18.6,
          19.4,
          19.4,
          null,
          22.6,
          22.6,
          23.4,
          23.4,
          null,
          24.6,
          24.6,
          25.4,
          25.4,
          null,
          25.6,
          25.6,
          26.4,
          26.4,
          null,
          27.6,
          27.6,
          28.4,
          28.4,
          null,
          29.6,
          29.6,
          30.4,
          30.4,
          null,
          30.6,
          30.6,
          31.4,
          31.4,
          null,
          31.6,
          31.6,
          32.4,
          32.4,
          null,
          34.6,
          34.6,
          35.4,
          35.4,
          null,
          35.6,
          35.6,
          36.4,
          36.4,
          null,
          36.6,
          36.6,
          37.4,
          37.4,
          null,
          37.6,
          37.6,
          38.4,
          38.4,
          null,
          39.6,
          39.6,
          40.4,
          40.4,
          null,
          40.6,
          40.6,
          41.4,
          41.4,
          null,
          42.6,
          42.6,
          43.4,
          43.4,
          null,
          44.6,
          44.6,
          45.4,
          45.4,
          null,
          46.6,
          46.6,
          47.4,
          47.4,
          null,
          47.6,
          47.6,
          48.4,
          48.4,
          null,
          48.6,
          48.6,
          49.4,
          49.4,
          null,
          50.6,
          50.6,
          51.4,
          51.4,
          null,
          54.6,
          54.6,
          55.4,
          55.4,
          null,
          57.6,
          57.6,
          58.4,
          58.4,
          null,
          59.6,
          59.6,
          60.4,
          60.4,
          null,
          62.6,
          62.6,
          63.4,
          63.4,
          null,
          63.6,
          63.6,
          64.4,
          64.4,
          null,
          64.6,
          64.6,
          65.4,
          65.4,
          null,
          66.6,
          66.6,
          67.4,
          67.4,
          null,
          67.6,
          67.6,
          68.4,
          68.4,
          null,
          68.6,
          68.6,
          69.4,
          69.4,
          null,
          70.6,
          70.6,
          71.4,
          71.4,
          null,
          71.6,
          71.6,
          72.4,
          72.4,
          null,
          72.6,
          72.6,
          73.4,
          73.4,
          null,
          73.6,
          73.6,
          74.4,
          74.4
         ]
        },
        {
         "fill": "toself",
         "fillcolor": "rgb(0, 255, 0)",
         "hoverinfo": "name",
         "legendgroup": "rgb(0, 255, 0)",
         "mode": "none",
         "name": "Force",
         "type": "scatter",
         "x": [
          "2003-09-01T00:00:00",
          "2004-02-01T00:00:00",
          "2004-02-01T00:00:00",
          "2003-09-01T00:00:00",
          "2003-09-01T00:00:00",
          "2004-01-01T00:00:00",
          "2004-12-01T00:00:00",
          "2004-12-01T00:00:00",
          "2004-01-01T00:00:00",
          "2004-01-01T00:00:00",
          "2004-10-01T00:00:00",
          "2005-07-01T00:00:00",
          "2005-07-01T00:00:00",
          "2004-10-01T00:00:00",
          "2004-10-01T00:00:00",
          "2004-11-01T00:00:00",
          "2006-01-01T00:00:00",
          "2006-01-01T00:00:00",
          "2004-11-01T00:00:00",
          "2004-11-01T00:00:00",
          "2005-04-01T00:00:00",
          "2006-02-01T00:00:00",
          "2006-02-01T00:00:00",
          "2005-04-01T00:00:00",
          "2005-04-01T00:00:00",
          "2006-09-01T00:00:00",
          "2007-03-01T00:00:00",
          "2007-03-01T00:00:00",
          "2006-09-01T00:00:00",
          "2006-09-01T00:00:00",
          "2006-10-01T00:00:00",
          "2008-02-01T00:00:00",
          "2008-02-01T00:00:00",
          "2006-10-01T00:00:00",
          "2006-10-01T00:00:00",
          "2006-10-01T00:00:00",
          "2007-10-01T00:00:00",
          "2007-10-01T00:00:00",
          "2006-10-01T00:00:00",
          "2006-10-01T00:00:00",
          "2007-02-01T00:00:00",
          "2007-08-01T00:00:00",
          "2007-08-01T00:00:00",
          "2007-02-01T00:00:00",
          "2007-02-01T00:00:00",
          "2008-01-01T00:00:00",
          "2009-02-01T00:00:00",
          "2009-02-01T00:00:00",
          "2008-01-01T00:00:00",
          "2008-01-01T00:00:00",
          "2009-04-01T00:00:00",
          "2010-08-01T00:00:00",
          "2010-08-01T00:00:00",
          "2009-04-01T00:00:00",
          "2009-04-01T00:00:00",
          "2009-09-01T00:00:00",
          "2011-02-01T00:00:00",
          "2011-02-01T00:00:00",
          "2009-09-01T00:00:00",
          "2009-09-01T00:00:00",
          "2009-09-01T00:00:00",
          "2011-02-01T00:00:00",
          "2011-02-01T00:00:00",
          "2009-09-01T00:00:00",
          "2009-09-01T00:00:00",
          "2010-01-01T00:00:00",
          "2011-04-01T00:00:00",
          "2011-04-01T00:00:00",
          "2010-01-01T00:00:00"
         ],
         "y": [
          0.6,
          0.6,
          1.4,
          1.4,
          null,
          1.6,
          1.6,
          2.4,
          2.4,
          null,
          6.6,
          6.6,
          7.4,
          7.4,
          null,
          11.6,
          11.6,
          12.4,
          12.4,
          null,
          15.6,
          15.6,
          16.4,
          16.4,
          null,
          26.6,
          26.6,
          27.4,
          27.4,
          null,
          32.6,
          32.6,
          33.4,
          33.4,
          null,
          33.6,
          33.6,
          34.4,
          34.4,
          null,
          43.6,
          43.6,
          44.4,
          44.4,
          null,
          49.6,
          49.6,
          50.4,
          50.4,
          null,
          52.6,
          52.6,
          53.4,
          53.4,
          null,
          58.6,
          58.6,
          59.4,
          59.4,
          null,
          60.6,
          60.6,
          61.4,
          61.4,
          null,
          61.6,
          61.6,
          62.4,
          62.4
         ]
        },
        {
         "fill": "toself",
         "fillcolor": "rgb(255, 0, 0)",
         "hoverinfo": "name",
         "legendgroup": "rgb(255, 0, 0)",
         "mode": "none",
         "name": "Offensive Language",
         "type": "scatter",
         "x": [
          "2004-10-01T00:00:00",
          "2005-07-01T00:00:00",
          "2005-07-01T00:00:00",
          "2004-10-01T00:00:00",
          "2004-10-01T00:00:00",
          "2006-05-01T00:00:00",
          "2007-09-01T00:00:00",
          "2007-09-01T00:00:00",
          "2006-05-01T00:00:00",
          "2006-05-01T00:00:00",
          "2009-09-01T00:00:00",
          "2011-02-01T00:00:00",
          "2011-02-01T00:00:00",
          "2009-09-01T00:00:00"
         ],
         "y": [
          8.6,
          8.6,
          9.4,
          9.4,
          null,
          19.6,
          19.6,
          20.4,
          20.4,
          null,
          56.6,
          56.6,
          57.4,
          57.4
         ]
        },
        {
         "legendgroup": "rgb(0, 0, 0)",
         "marker": {
          "color": "rgb(0, 0, 0)",
          "opacity": 0,
          "size": 1
         },
         "mode": "markers",
         "name": "",
         "showlegend": false,
         "text": [
          null,
          null,
          null,
          null,
          null,
          null,
          null,
          null,
          null,
          null,
          null,
          null,
          null,
          null,
          null,
          null,
          null,
          null,
          null,
          null,
          null,
          null,
          null,
          null,
          null,
          null,
          null,
          null,
          null,
          null,
          null,
          null
         ],
         "type": "scatter",
         "x": [
          "2003-09-01T00:00:00",
          "2004-02-01T00:00:00",
          "2004-01-01T00:00:00",
          "2004-12-01T00:00:00",
          "2004-10-01T00:00:00",
          "2005-07-01T00:00:00",
          "2005-04-01T00:00:00",
          "2006-02-01T00:00:00",
          "2006-05-01T00:00:00",
          "2007-09-01T00:00:00",
          "2006-06-01T00:00:00",
          "2007-06-01T00:00:00",
          "2006-06-01T00:00:00",
          "2007-06-01T00:00:00",
          "2006-09-01T00:00:00",
          "2007-03-01T00:00:00",
          "2007-01-01T00:00:00",
          "2007-11-01T00:00:00",
          "2007-01-01T00:00:00",
          "2007-11-01T00:00:00",
          "2007-12-01T00:00:00",
          "2008-11-01T00:00:00",
          "2008-04-01T00:00:00",
          "2009-06-01T00:00:00",
          "2009-04-01T00:00:00",
          "2010-08-01T00:00:00",
          "2009-09-01T00:00:00",
          "2011-02-01T00:00:00",
          "2010-06-01T00:00:00",
          "2011-04-01T00:00:00",
          "2011-03-01T00:00:00",
          "2011-11-01T00:00:00"
         ],
         "y": [
          0,
          0,
          4,
          4,
          11,
          11,
          17,
          17,
          21,
          21,
          22,
          22,
          24,
          24,
          29,
          29,
          39,
          39,
          42,
          42,
          46,
          46,
          52,
          52,
          54,
          54,
          56,
          56,
          66,
          66,
          70,
          70
         ]
        },
        {
         "legendgroup": "rgb(0, 0, 255)",
         "marker": {
          "color": "rgb(0, 0, 255)",
          "opacity": 0,
          "size": 1
         },
         "mode": "markers",
         "name": "",
         "showlegend": false,
         "text": [
          null,
          null,
          null,
          null,
          null,
          null,
          null,
          null,
          null,
          null,
          null,
          null,
          null,
          null,
          null,
          null,
          null,
          null,
          null,
          null,
          null,
          null,
          null,
          null,
          null,
          null,
          null,
          null,
          null,
          null,
          null,
          null,
          null,
          null,
          null,
          null,
          null,
          null,
          null,
          null,
          null,
          null,
          null,
          null,
          null,
          null,
          null,
          null,
          null,
          null,
          null,
          null,
          null,
          null,
          null,
          null,
          null,
          null,
          null,
          null,
          null,
          null,
          null,
          null,
          null,
          null,
          null,
          null,
          null,
          null,
          null,
          null,
          null,
          null,
          null,
          null,
          null,
          null,
          null,
          null,
          null,
          null,
          null,
          null
         ],
         "type": "scatter",
         "x": [
          "2004-01-01T00:00:00",
          "2004-12-01T00:00:00",
          "2004-10-01T00:00:00",
          "2005-07-01T00:00:00",
          "2004-10-01T00:00:00",
          "2005-07-01T00:00:00",
          "2004-10-01T00:00:00",
          "2005-07-01T00:00:00",
          "2004-10-01T00:00:00",
          "2005-07-01T00:00:00",
          "2005-04-01T00:00:00",
          "2006-02-01T00:00:00",
          "2005-04-01T00:00:00",
          "2006-02-01T00:00:00",
          "2005-04-01T00:00:00",
          "2006-02-01T00:00:00",
          "2006-02-01T00:00:00",
          "2006-08-01T00:00:00",
          "2006-02-01T00:00:00",
          "2006-08-01T00:00:00",
          "2006-06-01T00:00:00",
          "2007-06-01T00:00:00",
          "2006-09-01T00:00:00",
          "2007-03-01T00:00:00",
          "2006-09-01T00:00:00",
          "2007-03-01T00:00:00",
          "2006-09-01T00:00:00",
          "2007-03-01T00:00:00",
          "2006-09-01T00:00:00",
          "2007-03-01T00:00:00",
          "2006-09-01T00:00:00",
          "2007-03-01T00:00:00",
          "2006-09-01T00:00:00",
          "2007-03-01T00:00:00",
          "2006-10-01T00:00:00",
          "2007-10-01T00:00:00",
          "2006-10-01T00:00:00",
          "2007-10-01T00:00:00",
          "2006-10-01T00:00:00",
          "2007-10-01T00:00:00",
          "2006-11-01T00:00:00",
          "2009-08-01T00:00:00",
          "2007-01-01T00:00:00",
          "2007-11-01T00:00:00",
          "2007-01-01T00:00:00",
          "2007-11-01T00:00:00",
          "2007-02-01T00:00:00",
          "2007-08-01T00:00:00",
          "2007-03-01T00:00:00",
          "2008-04-01T00:00:00",
          "2007-12-01T00:00:00",
          "2008-08-01T00:00:00",
          "2007-12-01T00:00:00",
          "2008-11-01T00:00:00",
          "2007-12-01T00:00:00",
          "2008-11-01T00:00:00",
          "2008-04-01T00:00:00",
          "2009-06-01T00:00:00",
          "2009-04-01T00:00:00",
          "2010-08-01T00:00:00",
          "2009-09-01T00:00:00",
          "2011-02-01T00:00:00",
          "2009-09-01T00:00:00",
          "2011-02-01T00:00:00",
          "2010-01-01T00:00:00",
          "2011-04-01T00:00:00",
          "2010-02-01T00:00:00",
          "2011-04-01T00:00:00",
          "2010-02-01T00:00:00",
          "2011-04-01T00:00:00",
          "2010-10-01T00:00:00",
          "2011-11-01T00:00:00",
          "2010-11-01T00:00:00",
          "2011-07-01T00:00:00",
          "2011-03-01T00:00:00",
          "2011-11-01T00:00:00",
          "2011-04-01T00:00:00",
          "2012-06-01T00:00:00",
          "2011-04-01T00:00:00",
          "2012-06-01T00:00:00",
          "2012-05-01T00:00:00",
          "2013-07-01T00:00:00",
          "2012-05-01T00:00:00",
          "2013-07-01T00:00:00"
         ],
         "y": [
          3,
          3,
          5,
          5,
          6,
          6,
          8,
          8,
          10,
          10,
          13,
          13,
          14,
          14,
          15,
          15,
          18,
          18,
          19,
          19,
          23,
          23,
          25,
          25,
          26,
          26,
          28,
          28,
          30,
          30,
          31,
          31,
          32,
          32,
          35,
          35,
          36,
          36,
          37,
          37,
          38,
          38,
          40,
          40,
          41,
          41,
          43,
          43,
          45,
          45,
          47,
          47,
          48,
          48,
          49,
          49,
          51,
          51,
          55,
          55,
          58,
          58,
          60,
          60,
          63,
          63,
          64,
          64,
          65,
          65,
          67,
          67,
          68,
          68,
          69,
          69,
          71,
          71,
          72,
          72,
          73,
          73,
          74,
          74
         ]
        },
        {
         "legendgroup": "rgb(0, 255, 0)",
         "marker": {
          "color": "rgb(0, 255, 0)",
          "opacity": 0,
          "size": 1
         },
         "mode": "markers",
         "name": "",
         "showlegend": false,
         "text": [
          null,
          null,
          null,
          null,
          null,
          null,
          null,
          null,
          null,
          null,
          null,
          null,
          null,
          null,
          null,
          null,
          null,
          null,
          null,
          null,
          null,
          null,
          null,
          null,
          null,
          null,
          null,
          null
         ],
         "type": "scatter",
         "x": [
          "2003-09-01T00:00:00",
          "2004-02-01T00:00:00",
          "2004-01-01T00:00:00",
          "2004-12-01T00:00:00",
          "2004-10-01T00:00:00",
          "2005-07-01T00:00:00",
          "2004-11-01T00:00:00",
          "2006-01-01T00:00:00",
          "2005-04-01T00:00:00",
          "2006-02-01T00:00:00",
          "2006-09-01T00:00:00",
          "2007-03-01T00:00:00",
          "2006-10-01T00:00:00",
          "2008-02-01T00:00:00",
          "2006-10-01T00:00:00",
          "2007-10-01T00:00:00",
          "2007-02-01T00:00:00",
          "2007-08-01T00:00:00",
          "2008-01-01T00:00:00",
          "2009-02-01T00:00:00",
          "2009-04-01T00:00:00",
          "2010-08-01T00:00:00",
          "2009-09-01T00:00:00",
          "2011-02-01T00:00:00",
          "2009-09-01T00:00:00",
          "2011-02-01T00:00:00",
          "2010-01-01T00:00:00",
          "2011-04-01T00:00:00"
         ],
         "y": [
          1,
          1,
          2,
          2,
          7,
          7,
          12,
          12,
          16,
          16,
          27,
          27,
          33,
          33,
          34,
          34,
          44,
          44,
          50,
          50,
          53,
          53,
          59,
          59,
          61,
          61,
          62,
          62
         ]
        },
        {
         "legendgroup": "rgb(255, 0, 0)",
         "marker": {
          "color": "rgb(255, 0, 0)",
          "opacity": 0,
          "size": 1
         },
         "mode": "markers",
         "name": "",
         "showlegend": false,
         "text": [
          null,
          null,
          null,
          null,
          null,
          null
         ],
         "type": "scatter",
         "x": [
          "2004-10-01T00:00:00",
          "2005-07-01T00:00:00",
          "2006-05-01T00:00:00",
          "2007-09-01T00:00:00",
          "2009-09-01T00:00:00",
          "2011-02-01T00:00:00"
         ],
         "y": [
          9,
          9,
          20,
          20,
          57,
          57
         ]
        }
       ],
       "layout": {
        "height": 600,
        "hovermode": "closest",
        "showlegend": true,
        "template": {
         "data": {
          "bar": [
           {
            "error_x": {
             "color": "#2a3f5f"
            },
            "error_y": {
             "color": "#2a3f5f"
            },
            "marker": {
             "line": {
              "color": "#E5ECF6",
              "width": 0.5
             }
            },
            "type": "bar"
           }
          ],
          "barpolar": [
           {
            "marker": {
             "line": {
              "color": "#E5ECF6",
              "width": 0.5
             }
            },
            "type": "barpolar"
           }
          ],
          "carpet": [
           {
            "aaxis": {
             "endlinecolor": "#2a3f5f",
             "gridcolor": "white",
             "linecolor": "white",
             "minorgridcolor": "white",
             "startlinecolor": "#2a3f5f"
            },
            "baxis": {
             "endlinecolor": "#2a3f5f",
             "gridcolor": "white",
             "linecolor": "white",
             "minorgridcolor": "white",
             "startlinecolor": "#2a3f5f"
            },
            "type": "carpet"
           }
          ],
          "choropleth": [
           {
            "colorbar": {
             "outlinewidth": 0,
             "ticks": ""
            },
            "type": "choropleth"
           }
          ],
          "contour": [
           {
            "colorbar": {
             "outlinewidth": 0,
             "ticks": ""
            },
            "colorscale": [
             [
              0,
              "#0d0887"
             ],
             [
              0.1111111111111111,
              "#46039f"
             ],
             [
              0.2222222222222222,
              "#7201a8"
             ],
             [
              0.3333333333333333,
              "#9c179e"
             ],
             [
              0.4444444444444444,
              "#bd3786"
             ],
             [
              0.5555555555555556,
              "#d8576b"
             ],
             [
              0.6666666666666666,
              "#ed7953"
             ],
             [
              0.7777777777777778,
              "#fb9f3a"
             ],
             [
              0.8888888888888888,
              "#fdca26"
             ],
             [
              1,
              "#f0f921"
             ]
            ],
            "type": "contour"
           }
          ],
          "contourcarpet": [
           {
            "colorbar": {
             "outlinewidth": 0,
             "ticks": ""
            },
            "type": "contourcarpet"
           }
          ],
          "heatmap": [
           {
            "colorbar": {
             "outlinewidth": 0,
             "ticks": ""
            },
            "colorscale": [
             [
              0,
              "#0d0887"
             ],
             [
              0.1111111111111111,
              "#46039f"
             ],
             [
              0.2222222222222222,
              "#7201a8"
             ],
             [
              0.3333333333333333,
              "#9c179e"
             ],
             [
              0.4444444444444444,
              "#bd3786"
             ],
             [
              0.5555555555555556,
              "#d8576b"
             ],
             [
              0.6666666666666666,
              "#ed7953"
             ],
             [
              0.7777777777777778,
              "#fb9f3a"
             ],
             [
              0.8888888888888888,
              "#fdca26"
             ],
             [
              1,
              "#f0f921"
             ]
            ],
            "type": "heatmap"
           }
          ],
          "heatmapgl": [
           {
            "colorbar": {
             "outlinewidth": 0,
             "ticks": ""
            },
            "colorscale": [
             [
              0,
              "#0d0887"
             ],
             [
              0.1111111111111111,
              "#46039f"
             ],
             [
              0.2222222222222222,
              "#7201a8"
             ],
             [
              0.3333333333333333,
              "#9c179e"
             ],
             [
              0.4444444444444444,
              "#bd3786"
             ],
             [
              0.5555555555555556,
              "#d8576b"
             ],
             [
              0.6666666666666666,
              "#ed7953"
             ],
             [
              0.7777777777777778,
              "#fb9f3a"
             ],
             [
              0.8888888888888888,
              "#fdca26"
             ],
             [
              1,
              "#f0f921"
             ]
            ],
            "type": "heatmapgl"
           }
          ],
          "histogram": [
           {
            "marker": {
             "colorbar": {
              "outlinewidth": 0,
              "ticks": ""
             }
            },
            "type": "histogram"
           }
          ],
          "histogram2d": [
           {
            "colorbar": {
             "outlinewidth": 0,
             "ticks": ""
            },
            "colorscale": [
             [
              0,
              "#0d0887"
             ],
             [
              0.1111111111111111,
              "#46039f"
             ],
             [
              0.2222222222222222,
              "#7201a8"
             ],
             [
              0.3333333333333333,
              "#9c179e"
             ],
             [
              0.4444444444444444,
              "#bd3786"
             ],
             [
              0.5555555555555556,
              "#d8576b"
             ],
             [
              0.6666666666666666,
              "#ed7953"
             ],
             [
              0.7777777777777778,
              "#fb9f3a"
             ],
             [
              0.8888888888888888,
              "#fdca26"
             ],
             [
              1,
              "#f0f921"
             ]
            ],
            "type": "histogram2d"
           }
          ],
          "histogram2dcontour": [
           {
            "colorbar": {
             "outlinewidth": 0,
             "ticks": ""
            },
            "colorscale": [
             [
              0,
              "#0d0887"
             ],
             [
              0.1111111111111111,
              "#46039f"
             ],
             [
              0.2222222222222222,
              "#7201a8"
             ],
             [
              0.3333333333333333,
              "#9c179e"
             ],
             [
              0.4444444444444444,
              "#bd3786"
             ],
             [
              0.5555555555555556,
              "#d8576b"
             ],
             [
              0.6666666666666666,
              "#ed7953"
             ],
             [
              0.7777777777777778,
              "#fb9f3a"
             ],
             [
              0.8888888888888888,
              "#fdca26"
             ],
             [
              1,
              "#f0f921"
             ]
            ],
            "type": "histogram2dcontour"
           }
          ],
          "mesh3d": [
           {
            "colorbar": {
             "outlinewidth": 0,
             "ticks": ""
            },
            "type": "mesh3d"
           }
          ],
          "parcoords": [
           {
            "line": {
             "colorbar": {
              "outlinewidth": 0,
              "ticks": ""
             }
            },
            "type": "parcoords"
           }
          ],
          "pie": [
           {
            "automargin": true,
            "type": "pie"
           }
          ],
          "scatter": [
           {
            "marker": {
             "colorbar": {
              "outlinewidth": 0,
              "ticks": ""
             }
            },
            "type": "scatter"
           }
          ],
          "scatter3d": [
           {
            "line": {
             "colorbar": {
              "outlinewidth": 0,
              "ticks": ""
             }
            },
            "marker": {
             "colorbar": {
              "outlinewidth": 0,
              "ticks": ""
             }
            },
            "type": "scatter3d"
           }
          ],
          "scattercarpet": [
           {
            "marker": {
             "colorbar": {
              "outlinewidth": 0,
              "ticks": ""
             }
            },
            "type": "scattercarpet"
           }
          ],
          "scattergeo": [
           {
            "marker": {
             "colorbar": {
              "outlinewidth": 0,
              "ticks": ""
             }
            },
            "type": "scattergeo"
           }
          ],
          "scattergl": [
           {
            "marker": {
             "colorbar": {
              "outlinewidth": 0,
              "ticks": ""
             }
            },
            "type": "scattergl"
           }
          ],
          "scattermapbox": [
           {
            "marker": {
             "colorbar": {
              "outlinewidth": 0,
              "ticks": ""
             }
            },
            "type": "scattermapbox"
           }
          ],
          "scatterpolar": [
           {
            "marker": {
             "colorbar": {
              "outlinewidth": 0,
              "ticks": ""
             }
            },
            "type": "scatterpolar"
           }
          ],
          "scatterpolargl": [
           {
            "marker": {
             "colorbar": {
              "outlinewidth": 0,
              "ticks": ""
             }
            },
            "type": "scatterpolargl"
           }
          ],
          "scatterternary": [
           {
            "marker": {
             "colorbar": {
              "outlinewidth": 0,
              "ticks": ""
             }
            },
            "type": "scatterternary"
           }
          ],
          "surface": [
           {
            "colorbar": {
             "outlinewidth": 0,
             "ticks": ""
            },
            "colorscale": [
             [
              0,
              "#0d0887"
             ],
             [
              0.1111111111111111,
              "#46039f"
             ],
             [
              0.2222222222222222,
              "#7201a8"
             ],
             [
              0.3333333333333333,
              "#9c179e"
             ],
             [
              0.4444444444444444,
              "#bd3786"
             ],
             [
              0.5555555555555556,
              "#d8576b"
             ],
             [
              0.6666666666666666,
              "#ed7953"
             ],
             [
              0.7777777777777778,
              "#fb9f3a"
             ],
             [
              0.8888888888888888,
              "#fdca26"
             ],
             [
              1,
              "#f0f921"
             ]
            ],
            "type": "surface"
           }
          ],
          "table": [
           {
            "cells": {
             "fill": {
              "color": "#EBF0F8"
             },
             "line": {
              "color": "white"
             }
            },
            "header": {
             "fill": {
              "color": "#C8D4E3"
             },
             "line": {
              "color": "white"
             }
            },
            "type": "table"
           }
          ]
         },
         "layout": {
          "annotationdefaults": {
           "arrowcolor": "#2a3f5f",
           "arrowhead": 0,
           "arrowwidth": 1
          },
          "coloraxis": {
           "colorbar": {
            "outlinewidth": 0,
            "ticks": ""
           }
          },
          "colorscale": {
           "diverging": [
            [
             0,
             "#8e0152"
            ],
            [
             0.1,
             "#c51b7d"
            ],
            [
             0.2,
             "#de77ae"
            ],
            [
             0.3,
             "#f1b6da"
            ],
            [
             0.4,
             "#fde0ef"
            ],
            [
             0.5,
             "#f7f7f7"
            ],
            [
             0.6,
             "#e6f5d0"
            ],
            [
             0.7,
             "#b8e186"
            ],
            [
             0.8,
             "#7fbc41"
            ],
            [
             0.9,
             "#4d9221"
            ],
            [
             1,
             "#276419"
            ]
           ],
           "sequential": [
            [
             0,
             "#0d0887"
            ],
            [
             0.1111111111111111,
             "#46039f"
            ],
            [
             0.2222222222222222,
             "#7201a8"
            ],
            [
             0.3333333333333333,
             "#9c179e"
            ],
            [
             0.4444444444444444,
             "#bd3786"
            ],
            [
             0.5555555555555556,
             "#d8576b"
            ],
            [
             0.6666666666666666,
             "#ed7953"
            ],
            [
             0.7777777777777778,
             "#fb9f3a"
            ],
            [
             0.8888888888888888,
             "#fdca26"
            ],
            [
             1,
             "#f0f921"
            ]
           ],
           "sequentialminus": [
            [
             0,
             "#0d0887"
            ],
            [
             0.1111111111111111,
             "#46039f"
            ],
            [
             0.2222222222222222,
             "#7201a8"
            ],
            [
             0.3333333333333333,
             "#9c179e"
            ],
            [
             0.4444444444444444,
             "#bd3786"
            ],
            [
             0.5555555555555556,
             "#d8576b"
            ],
            [
             0.6666666666666666,
             "#ed7953"
            ],
            [
             0.7777777777777778,
             "#fb9f3a"
            ],
            [
             0.8888888888888888,
             "#fdca26"
            ],
            [
             1,
             "#f0f921"
            ]
           ]
          },
          "colorway": [
           "#636efa",
           "#EF553B",
           "#00cc96",
           "#ab63fa",
           "#FFA15A",
           "#19d3f3",
           "#FF6692",
           "#B6E880",
           "#FF97FF",
           "#FECB52"
          ],
          "font": {
           "color": "#2a3f5f"
          },
          "geo": {
           "bgcolor": "white",
           "lakecolor": "white",
           "landcolor": "#E5ECF6",
           "showlakes": true,
           "showland": true,
           "subunitcolor": "white"
          },
          "hoverlabel": {
           "align": "left"
          },
          "hovermode": "closest",
          "mapbox": {
           "style": "light"
          },
          "paper_bgcolor": "white",
          "plot_bgcolor": "#E5ECF6",
          "polar": {
           "angularaxis": {
            "gridcolor": "white",
            "linecolor": "white",
            "ticks": ""
           },
           "bgcolor": "#E5ECF6",
           "radialaxis": {
            "gridcolor": "white",
            "linecolor": "white",
            "ticks": ""
           }
          },
          "scene": {
           "xaxis": {
            "backgroundcolor": "#E5ECF6",
            "gridcolor": "white",
            "gridwidth": 2,
            "linecolor": "white",
            "showbackground": true,
            "ticks": "",
            "zerolinecolor": "white"
           },
           "yaxis": {
            "backgroundcolor": "#E5ECF6",
            "gridcolor": "white",
            "gridwidth": 2,
            "linecolor": "white",
            "showbackground": true,
            "ticks": "",
            "zerolinecolor": "white"
           },
           "zaxis": {
            "backgroundcolor": "#E5ECF6",
            "gridcolor": "white",
            "gridwidth": 2,
            "linecolor": "white",
            "showbackground": true,
            "ticks": "",
            "zerolinecolor": "white"
           }
          },
          "shapedefaults": {
           "line": {
            "color": "#2a3f5f"
           }
          },
          "ternary": {
           "aaxis": {
            "gridcolor": "white",
            "linecolor": "white",
            "ticks": ""
           },
           "baxis": {
            "gridcolor": "white",
            "linecolor": "white",
            "ticks": ""
           },
           "bgcolor": "#E5ECF6",
           "caxis": {
            "gridcolor": "white",
            "linecolor": "white",
            "ticks": ""
           }
          },
          "title": {
           "x": 0.05
          },
          "xaxis": {
           "automargin": true,
           "gridcolor": "white",
           "linecolor": "white",
           "ticks": "",
           "title": {
            "standoff": 15
           },
           "zerolinecolor": "white",
           "zerolinewidth": 2
          },
          "yaxis": {
           "automargin": true,
           "gridcolor": "white",
           "linecolor": "white",
           "ticks": "",
           "title": {
            "standoff": 15
           },
           "zerolinecolor": "white",
           "zerolinewidth": 2
          }
         }
        },
        "title": {
         "text": "Gantt Chart"
        },
        "xaxis": {
         "rangeselector": {
          "buttons": [
           {
            "count": 7,
            "label": "1w",
            "step": "day",
            "stepmode": "backward"
           },
           {
            "count": 1,
            "label": "1m",
            "step": "month",
            "stepmode": "backward"
           },
           {
            "count": 6,
            "label": "6m",
            "step": "month",
            "stepmode": "backward"
           },
           {
            "count": 1,
            "label": "YTD",
            "step": "year",
            "stepmode": "todate"
           },
           {
            "count": 1,
            "label": "1y",
            "step": "year",
            "stepmode": "backward"
           },
           {
            "step": "all"
           }
          ]
         },
         "showgrid": true,
         "type": "date",
         "zeroline": false
        },
        "yaxis": {
         "autorange": false,
         "range": [
          -1,
          76
         ],
         "showgrid": true,
         "ticktext": [
          "U",
          "X",
          "U",
          "U",
          "U",
          "S(c)",
          "S(c)",
          "S(c)",
          "S(c)",
          "S(c)",
          "S(c)",
          "S(c)",
          "X",
          "X",
          "X",
          "X",
          "S(c)",
          "S(c)",
          "X",
          "X",
          "U",
          "U",
          "U",
          "U",
          "U",
          "S(cd)",
          "X",
          "X",
          "X",
          "U",
          "X",
          "S(cd)",
          "U",
          "U",
          "U",
          "X",
          "U",
          "X",
          "X",
          "U",
          "U",
          "X",
          "U",
          "X",
          "U",
          "X",
          "U",
          "X",
          "U",
          "U",
          "X",
          "U",
          "U",
          "U",
          "U",
          "X",
          "U",
          "U",
          "X",
          "U",
          "U",
          "X",
          "X",
          "X",
          "S(c)",
          "X",
          "U",
          "U",
          "X",
          "U",
          "U",
          "S(c)",
          "S(c)",
          "S(c)",
          "S(c)"
         ],
         "tickvals": [
          0,
          1,
          2,
          3,
          4,
          5,
          6,
          7,
          8,
          9,
          10,
          11,
          12,
          13,
          14,
          15,
          16,
          17,
          18,
          19,
          20,
          21,
          22,
          23,
          24,
          25,
          26,
          27,
          28,
          29,
          30,
          31,
          32,
          33,
          34,
          35,
          36,
          37,
          38,
          39,
          40,
          41,
          42,
          43,
          44,
          45,
          46,
          47,
          48,
          49,
          50,
          51,
          52,
          53,
          54,
          55,
          56,
          57,
          58,
          59,
          60,
          61,
          62,
          63,
          64,
          65,
          66,
          67,
          68,
          69,
          70,
          71,
          72,
          73,
          74
         ],
         "zeroline": false
        }
       }
      },
      "text/html": [
       "<div>\n",
       "        \n",
       "        \n",
       "            <div id=\"8294fd7f-6e36-476b-8048-9e0014a6b8b1\" class=\"plotly-graph-div\" style=\"height:600px; width:100%;\"></div>\n",
       "            <script type=\"text/javascript\">\n",
       "                require([\"plotly\"], function(Plotly) {\n",
       "                    window.PLOTLYENV=window.PLOTLYENV || {};\n",
       "                    \n",
       "                if (document.getElementById(\"8294fd7f-6e36-476b-8048-9e0014a6b8b1\")) {\n",
       "                    Plotly.newPlot(\n",
       "                        '8294fd7f-6e36-476b-8048-9e0014a6b8b1',\n",
       "                        [{\"fill\": \"toself\", \"fillcolor\": \"rgb(0, 0, 0)\", \"hoverinfo\": \"name\", \"legendgroup\": \"rgb(0, 0, 0)\", \"mode\": \"none\", \"name\": \"Discourtesy\", \"type\": \"scatter\", \"x\": [\"2003-09-01T00:00:00\", \"2004-02-01T00:00:00\", \"2004-02-01T00:00:00\", \"2003-09-01T00:00:00\", \"2003-09-01T00:00:00\", \"2004-01-01T00:00:00\", \"2004-12-01T00:00:00\", \"2004-12-01T00:00:00\", \"2004-01-01T00:00:00\", \"2004-01-01T00:00:00\", \"2004-10-01T00:00:00\", \"2005-07-01T00:00:00\", \"2005-07-01T00:00:00\", \"2004-10-01T00:00:00\", \"2004-10-01T00:00:00\", \"2005-04-01T00:00:00\", \"2006-02-01T00:00:00\", \"2006-02-01T00:00:00\", \"2005-04-01T00:00:00\", \"2005-04-01T00:00:00\", \"2006-05-01T00:00:00\", \"2007-09-01T00:00:00\", \"2007-09-01T00:00:00\", \"2006-05-01T00:00:00\", \"2006-05-01T00:00:00\", \"2006-06-01T00:00:00\", \"2007-06-01T00:00:00\", \"2007-06-01T00:00:00\", \"2006-06-01T00:00:00\", \"2006-06-01T00:00:00\", \"2006-06-01T00:00:00\", \"2007-06-01T00:00:00\", \"2007-06-01T00:00:00\", \"2006-06-01T00:00:00\", \"2006-06-01T00:00:00\", \"2006-09-01T00:00:00\", \"2007-03-01T00:00:00\", \"2007-03-01T00:00:00\", \"2006-09-01T00:00:00\", \"2006-09-01T00:00:00\", \"2007-01-01T00:00:00\", \"2007-11-01T00:00:00\", \"2007-11-01T00:00:00\", \"2007-01-01T00:00:00\", \"2007-01-01T00:00:00\", \"2007-01-01T00:00:00\", \"2007-11-01T00:00:00\", \"2007-11-01T00:00:00\", \"2007-01-01T00:00:00\", \"2007-01-01T00:00:00\", \"2007-12-01T00:00:00\", \"2008-11-01T00:00:00\", \"2008-11-01T00:00:00\", \"2007-12-01T00:00:00\", \"2007-12-01T00:00:00\", \"2008-04-01T00:00:00\", \"2009-06-01T00:00:00\", \"2009-06-01T00:00:00\", \"2008-04-01T00:00:00\", \"2008-04-01T00:00:00\", \"2009-04-01T00:00:00\", \"2010-08-01T00:00:00\", \"2010-08-01T00:00:00\", \"2009-04-01T00:00:00\", \"2009-04-01T00:00:00\", \"2009-09-01T00:00:00\", \"2011-02-01T00:00:00\", \"2011-02-01T00:00:00\", \"2009-09-01T00:00:00\", \"2009-09-01T00:00:00\", \"2010-06-01T00:00:00\", \"2011-04-01T00:00:00\", \"2011-04-01T00:00:00\", \"2010-06-01T00:00:00\", \"2010-06-01T00:00:00\", \"2011-03-01T00:00:00\", \"2011-11-01T00:00:00\", \"2011-11-01T00:00:00\", \"2011-03-01T00:00:00\"], \"y\": [-0.4, -0.4, 0.4, 0.4, null, 3.6, 3.6, 4.4, 4.4, null, 10.6, 10.6, 11.4, 11.4, null, 16.6, 16.6, 17.4, 17.4, null, 20.6, 20.6, 21.4, 21.4, null, 21.6, 21.6, 22.4, 22.4, null, 23.6, 23.6, 24.4, 24.4, null, 28.6, 28.6, 29.4, 29.4, null, 38.6, 38.6, 39.4, 39.4, null, 41.6, 41.6, 42.4, 42.4, null, 45.6, 45.6, 46.4, 46.4, null, 51.6, 51.6, 52.4, 52.4, null, 53.6, 53.6, 54.4, 54.4, null, 55.6, 55.6, 56.4, 56.4, null, 65.6, 65.6, 66.4, 66.4, null, 69.6, 69.6, 70.4, 70.4]}, {\"fill\": \"toself\", \"fillcolor\": \"rgb(0, 0, 255)\", \"hoverinfo\": \"name\", \"legendgroup\": \"rgb(0, 0, 255)\", \"mode\": \"none\", \"name\": \"Abuse of Authority\", \"type\": \"scatter\", \"x\": [\"2004-01-01T00:00:00\", \"2004-12-01T00:00:00\", \"2004-12-01T00:00:00\", \"2004-01-01T00:00:00\", \"2004-01-01T00:00:00\", \"2004-10-01T00:00:00\", \"2005-07-01T00:00:00\", \"2005-07-01T00:00:00\", \"2004-10-01T00:00:00\", \"2004-10-01T00:00:00\", \"2004-10-01T00:00:00\", \"2005-07-01T00:00:00\", \"2005-07-01T00:00:00\", \"2004-10-01T00:00:00\", \"2004-10-01T00:00:00\", \"2004-10-01T00:00:00\", \"2005-07-01T00:00:00\", \"2005-07-01T00:00:00\", \"2004-10-01T00:00:00\", \"2004-10-01T00:00:00\", \"2004-10-01T00:00:00\", \"2005-07-01T00:00:00\", \"2005-07-01T00:00:00\", \"2004-10-01T00:00:00\", \"2004-10-01T00:00:00\", \"2005-04-01T00:00:00\", \"2006-02-01T00:00:00\", \"2006-02-01T00:00:00\", \"2005-04-01T00:00:00\", \"2005-04-01T00:00:00\", \"2005-04-01T00:00:00\", \"2006-02-01T00:00:00\", \"2006-02-01T00:00:00\", \"2005-04-01T00:00:00\", \"2005-04-01T00:00:00\", \"2005-04-01T00:00:00\", \"2006-02-01T00:00:00\", \"2006-02-01T00:00:00\", \"2005-04-01T00:00:00\", \"2005-04-01T00:00:00\", \"2006-02-01T00:00:00\", \"2006-08-01T00:00:00\", \"2006-08-01T00:00:00\", \"2006-02-01T00:00:00\", \"2006-02-01T00:00:00\", \"2006-02-01T00:00:00\", \"2006-08-01T00:00:00\", \"2006-08-01T00:00:00\", \"2006-02-01T00:00:00\", \"2006-02-01T00:00:00\", \"2006-06-01T00:00:00\", \"2007-06-01T00:00:00\", \"2007-06-01T00:00:00\", \"2006-06-01T00:00:00\", \"2006-06-01T00:00:00\", \"2006-09-01T00:00:00\", \"2007-03-01T00:00:00\", \"2007-03-01T00:00:00\", \"2006-09-01T00:00:00\", \"2006-09-01T00:00:00\", \"2006-09-01T00:00:00\", \"2007-03-01T00:00:00\", \"2007-03-01T00:00:00\", \"2006-09-01T00:00:00\", \"2006-09-01T00:00:00\", \"2006-09-01T00:00:00\", \"2007-03-01T00:00:00\", \"2007-03-01T00:00:00\", \"2006-09-01T00:00:00\", \"2006-09-01T00:00:00\", \"2006-09-01T00:00:00\", \"2007-03-01T00:00:00\", \"2007-03-01T00:00:00\", \"2006-09-01T00:00:00\", \"2006-09-01T00:00:00\", \"2006-09-01T00:00:00\", \"2007-03-01T00:00:00\", \"2007-03-01T00:00:00\", \"2006-09-01T00:00:00\", \"2006-09-01T00:00:00\", \"2006-09-01T00:00:00\", \"2007-03-01T00:00:00\", \"2007-03-01T00:00:00\", \"2006-09-01T00:00:00\", \"2006-09-01T00:00:00\", \"2006-10-01T00:00:00\", \"2007-10-01T00:00:00\", \"2007-10-01T00:00:00\", \"2006-10-01T00:00:00\", \"2006-10-01T00:00:00\", \"2006-10-01T00:00:00\", \"2007-10-01T00:00:00\", \"2007-10-01T00:00:00\", \"2006-10-01T00:00:00\", \"2006-10-01T00:00:00\", \"2006-10-01T00:00:00\", \"2007-10-01T00:00:00\", \"2007-10-01T00:00:00\", \"2006-10-01T00:00:00\", \"2006-10-01T00:00:00\", \"2006-11-01T00:00:00\", \"2009-08-01T00:00:00\", \"2009-08-01T00:00:00\", \"2006-11-01T00:00:00\", \"2006-11-01T00:00:00\", \"2007-01-01T00:00:00\", \"2007-11-01T00:00:00\", \"2007-11-01T00:00:00\", \"2007-01-01T00:00:00\", \"2007-01-01T00:00:00\", \"2007-01-01T00:00:00\", \"2007-11-01T00:00:00\", \"2007-11-01T00:00:00\", \"2007-01-01T00:00:00\", \"2007-01-01T00:00:00\", \"2007-02-01T00:00:00\", \"2007-08-01T00:00:00\", \"2007-08-01T00:00:00\", \"2007-02-01T00:00:00\", \"2007-02-01T00:00:00\", \"2007-03-01T00:00:00\", \"2008-04-01T00:00:00\", \"2008-04-01T00:00:00\", \"2007-03-01T00:00:00\", \"2007-03-01T00:00:00\", \"2007-12-01T00:00:00\", \"2008-08-01T00:00:00\", \"2008-08-01T00:00:00\", \"2007-12-01T00:00:00\", \"2007-12-01T00:00:00\", \"2007-12-01T00:00:00\", \"2008-11-01T00:00:00\", \"2008-11-01T00:00:00\", \"2007-12-01T00:00:00\", \"2007-12-01T00:00:00\", \"2007-12-01T00:00:00\", \"2008-11-01T00:00:00\", \"2008-11-01T00:00:00\", \"2007-12-01T00:00:00\", \"2007-12-01T00:00:00\", \"2008-04-01T00:00:00\", \"2009-06-01T00:00:00\", \"2009-06-01T00:00:00\", \"2008-04-01T00:00:00\", \"2008-04-01T00:00:00\", \"2009-04-01T00:00:00\", \"2010-08-01T00:00:00\", \"2010-08-01T00:00:00\", \"2009-04-01T00:00:00\", \"2009-04-01T00:00:00\", \"2009-09-01T00:00:00\", \"2011-02-01T00:00:00\", \"2011-02-01T00:00:00\", \"2009-09-01T00:00:00\", \"2009-09-01T00:00:00\", \"2009-09-01T00:00:00\", \"2011-02-01T00:00:00\", \"2011-02-01T00:00:00\", \"2009-09-01T00:00:00\", \"2009-09-01T00:00:00\", \"2010-01-01T00:00:00\", \"2011-04-01T00:00:00\", \"2011-04-01T00:00:00\", \"2010-01-01T00:00:00\", \"2010-01-01T00:00:00\", \"2010-02-01T00:00:00\", \"2011-04-01T00:00:00\", \"2011-04-01T00:00:00\", \"2010-02-01T00:00:00\", \"2010-02-01T00:00:00\", \"2010-02-01T00:00:00\", \"2011-04-01T00:00:00\", \"2011-04-01T00:00:00\", \"2010-02-01T00:00:00\", \"2010-02-01T00:00:00\", \"2010-10-01T00:00:00\", \"2011-11-01T00:00:00\", \"2011-11-01T00:00:00\", \"2010-10-01T00:00:00\", \"2010-10-01T00:00:00\", \"2010-11-01T00:00:00\", \"2011-07-01T00:00:00\", \"2011-07-01T00:00:00\", \"2010-11-01T00:00:00\", \"2010-11-01T00:00:00\", \"2011-03-01T00:00:00\", \"2011-11-01T00:00:00\", \"2011-11-01T00:00:00\", \"2011-03-01T00:00:00\", \"2011-03-01T00:00:00\", \"2011-04-01T00:00:00\", \"2012-06-01T00:00:00\", \"2012-06-01T00:00:00\", \"2011-04-01T00:00:00\", \"2011-04-01T00:00:00\", \"2011-04-01T00:00:00\", \"2012-06-01T00:00:00\", \"2012-06-01T00:00:00\", \"2011-04-01T00:00:00\", \"2011-04-01T00:00:00\", \"2012-05-01T00:00:00\", \"2013-07-01T00:00:00\", \"2013-07-01T00:00:00\", \"2012-05-01T00:00:00\", \"2012-05-01T00:00:00\", \"2012-05-01T00:00:00\", \"2013-07-01T00:00:00\", \"2013-07-01T00:00:00\", \"2012-05-01T00:00:00\"], \"y\": [2.6, 2.6, 3.4, 3.4, null, 4.6, 4.6, 5.4, 5.4, null, 5.6, 5.6, 6.4, 6.4, null, 7.6, 7.6, 8.4, 8.4, null, 9.6, 9.6, 10.4, 10.4, null, 12.6, 12.6, 13.4, 13.4, null, 13.6, 13.6, 14.4, 14.4, null, 14.6, 14.6, 15.4, 15.4, null, 17.6, 17.6, 18.4, 18.4, null, 18.6, 18.6, 19.4, 19.4, null, 22.6, 22.6, 23.4, 23.4, null, 24.6, 24.6, 25.4, 25.4, null, 25.6, 25.6, 26.4, 26.4, null, 27.6, 27.6, 28.4, 28.4, null, 29.6, 29.6, 30.4, 30.4, null, 30.6, 30.6, 31.4, 31.4, null, 31.6, 31.6, 32.4, 32.4, null, 34.6, 34.6, 35.4, 35.4, null, 35.6, 35.6, 36.4, 36.4, null, 36.6, 36.6, 37.4, 37.4, null, 37.6, 37.6, 38.4, 38.4, null, 39.6, 39.6, 40.4, 40.4, null, 40.6, 40.6, 41.4, 41.4, null, 42.6, 42.6, 43.4, 43.4, null, 44.6, 44.6, 45.4, 45.4, null, 46.6, 46.6, 47.4, 47.4, null, 47.6, 47.6, 48.4, 48.4, null, 48.6, 48.6, 49.4, 49.4, null, 50.6, 50.6, 51.4, 51.4, null, 54.6, 54.6, 55.4, 55.4, null, 57.6, 57.6, 58.4, 58.4, null, 59.6, 59.6, 60.4, 60.4, null, 62.6, 62.6, 63.4, 63.4, null, 63.6, 63.6, 64.4, 64.4, null, 64.6, 64.6, 65.4, 65.4, null, 66.6, 66.6, 67.4, 67.4, null, 67.6, 67.6, 68.4, 68.4, null, 68.6, 68.6, 69.4, 69.4, null, 70.6, 70.6, 71.4, 71.4, null, 71.6, 71.6, 72.4, 72.4, null, 72.6, 72.6, 73.4, 73.4, null, 73.6, 73.6, 74.4, 74.4]}, {\"fill\": \"toself\", \"fillcolor\": \"rgb(0, 255, 0)\", \"hoverinfo\": \"name\", \"legendgroup\": \"rgb(0, 255, 0)\", \"mode\": \"none\", \"name\": \"Force\", \"type\": \"scatter\", \"x\": [\"2003-09-01T00:00:00\", \"2004-02-01T00:00:00\", \"2004-02-01T00:00:00\", \"2003-09-01T00:00:00\", \"2003-09-01T00:00:00\", \"2004-01-01T00:00:00\", \"2004-12-01T00:00:00\", \"2004-12-01T00:00:00\", \"2004-01-01T00:00:00\", \"2004-01-01T00:00:00\", \"2004-10-01T00:00:00\", \"2005-07-01T00:00:00\", \"2005-07-01T00:00:00\", \"2004-10-01T00:00:00\", \"2004-10-01T00:00:00\", \"2004-11-01T00:00:00\", \"2006-01-01T00:00:00\", \"2006-01-01T00:00:00\", \"2004-11-01T00:00:00\", \"2004-11-01T00:00:00\", \"2005-04-01T00:00:00\", \"2006-02-01T00:00:00\", \"2006-02-01T00:00:00\", \"2005-04-01T00:00:00\", \"2005-04-01T00:00:00\", \"2006-09-01T00:00:00\", \"2007-03-01T00:00:00\", \"2007-03-01T00:00:00\", \"2006-09-01T00:00:00\", \"2006-09-01T00:00:00\", \"2006-10-01T00:00:00\", \"2008-02-01T00:00:00\", \"2008-02-01T00:00:00\", \"2006-10-01T00:00:00\", \"2006-10-01T00:00:00\", \"2006-10-01T00:00:00\", \"2007-10-01T00:00:00\", \"2007-10-01T00:00:00\", \"2006-10-01T00:00:00\", \"2006-10-01T00:00:00\", \"2007-02-01T00:00:00\", \"2007-08-01T00:00:00\", \"2007-08-01T00:00:00\", \"2007-02-01T00:00:00\", \"2007-02-01T00:00:00\", \"2008-01-01T00:00:00\", \"2009-02-01T00:00:00\", \"2009-02-01T00:00:00\", \"2008-01-01T00:00:00\", \"2008-01-01T00:00:00\", \"2009-04-01T00:00:00\", \"2010-08-01T00:00:00\", \"2010-08-01T00:00:00\", \"2009-04-01T00:00:00\", \"2009-04-01T00:00:00\", \"2009-09-01T00:00:00\", \"2011-02-01T00:00:00\", \"2011-02-01T00:00:00\", \"2009-09-01T00:00:00\", \"2009-09-01T00:00:00\", \"2009-09-01T00:00:00\", \"2011-02-01T00:00:00\", \"2011-02-01T00:00:00\", \"2009-09-01T00:00:00\", \"2009-09-01T00:00:00\", \"2010-01-01T00:00:00\", \"2011-04-01T00:00:00\", \"2011-04-01T00:00:00\", \"2010-01-01T00:00:00\"], \"y\": [0.6, 0.6, 1.4, 1.4, null, 1.6, 1.6, 2.4, 2.4, null, 6.6, 6.6, 7.4, 7.4, null, 11.6, 11.6, 12.4, 12.4, null, 15.6, 15.6, 16.4, 16.4, null, 26.6, 26.6, 27.4, 27.4, null, 32.6, 32.6, 33.4, 33.4, null, 33.6, 33.6, 34.4, 34.4, null, 43.6, 43.6, 44.4, 44.4, null, 49.6, 49.6, 50.4, 50.4, null, 52.6, 52.6, 53.4, 53.4, null, 58.6, 58.6, 59.4, 59.4, null, 60.6, 60.6, 61.4, 61.4, null, 61.6, 61.6, 62.4, 62.4]}, {\"fill\": \"toself\", \"fillcolor\": \"rgb(255, 0, 0)\", \"hoverinfo\": \"name\", \"legendgroup\": \"rgb(255, 0, 0)\", \"mode\": \"none\", \"name\": \"Offensive Language\", \"type\": \"scatter\", \"x\": [\"2004-10-01T00:00:00\", \"2005-07-01T00:00:00\", \"2005-07-01T00:00:00\", \"2004-10-01T00:00:00\", \"2004-10-01T00:00:00\", \"2006-05-01T00:00:00\", \"2007-09-01T00:00:00\", \"2007-09-01T00:00:00\", \"2006-05-01T00:00:00\", \"2006-05-01T00:00:00\", \"2009-09-01T00:00:00\", \"2011-02-01T00:00:00\", \"2011-02-01T00:00:00\", \"2009-09-01T00:00:00\"], \"y\": [8.6, 8.6, 9.4, 9.4, null, 19.6, 19.6, 20.4, 20.4, null, 56.6, 56.6, 57.4, 57.4]}, {\"legendgroup\": \"rgb(0, 0, 0)\", \"marker\": {\"color\": \"rgb(0, 0, 0)\", \"opacity\": 0, \"size\": 1}, \"mode\": \"markers\", \"name\": \"\", \"showlegend\": false, \"text\": [null, null, null, null, null, null, null, null, null, null, null, null, null, null, null, null, null, null, null, null, null, null, null, null, null, null, null, null, null, null, null, null], \"type\": \"scatter\", \"x\": [\"2003-09-01T00:00:00\", \"2004-02-01T00:00:00\", \"2004-01-01T00:00:00\", \"2004-12-01T00:00:00\", \"2004-10-01T00:00:00\", \"2005-07-01T00:00:00\", \"2005-04-01T00:00:00\", \"2006-02-01T00:00:00\", \"2006-05-01T00:00:00\", \"2007-09-01T00:00:00\", \"2006-06-01T00:00:00\", \"2007-06-01T00:00:00\", \"2006-06-01T00:00:00\", \"2007-06-01T00:00:00\", \"2006-09-01T00:00:00\", \"2007-03-01T00:00:00\", \"2007-01-01T00:00:00\", \"2007-11-01T00:00:00\", \"2007-01-01T00:00:00\", \"2007-11-01T00:00:00\", \"2007-12-01T00:00:00\", \"2008-11-01T00:00:00\", \"2008-04-01T00:00:00\", \"2009-06-01T00:00:00\", \"2009-04-01T00:00:00\", \"2010-08-01T00:00:00\", \"2009-09-01T00:00:00\", \"2011-02-01T00:00:00\", \"2010-06-01T00:00:00\", \"2011-04-01T00:00:00\", \"2011-03-01T00:00:00\", \"2011-11-01T00:00:00\"], \"y\": [0, 0, 4, 4, 11, 11, 17, 17, 21, 21, 22, 22, 24, 24, 29, 29, 39, 39, 42, 42, 46, 46, 52, 52, 54, 54, 56, 56, 66, 66, 70, 70]}, {\"legendgroup\": \"rgb(0, 0, 255)\", \"marker\": {\"color\": \"rgb(0, 0, 255)\", \"opacity\": 0, \"size\": 1}, \"mode\": \"markers\", \"name\": \"\", \"showlegend\": false, \"text\": [null, null, null, null, null, null, null, null, null, null, null, null, null, null, null, null, null, null, null, null, null, null, null, null, null, null, null, null, null, null, null, null, null, null, null, null, null, null, null, null, null, null, null, null, null, null, null, null, null, null, null, null, null, null, null, null, null, null, null, null, null, null, null, null, null, null, null, null, null, null, null, null, null, null, null, null, null, null, null, null, null, null, null, null], \"type\": \"scatter\", \"x\": [\"2004-01-01T00:00:00\", \"2004-12-01T00:00:00\", \"2004-10-01T00:00:00\", \"2005-07-01T00:00:00\", \"2004-10-01T00:00:00\", \"2005-07-01T00:00:00\", \"2004-10-01T00:00:00\", \"2005-07-01T00:00:00\", \"2004-10-01T00:00:00\", \"2005-07-01T00:00:00\", \"2005-04-01T00:00:00\", \"2006-02-01T00:00:00\", \"2005-04-01T00:00:00\", \"2006-02-01T00:00:00\", \"2005-04-01T00:00:00\", \"2006-02-01T00:00:00\", \"2006-02-01T00:00:00\", \"2006-08-01T00:00:00\", \"2006-02-01T00:00:00\", \"2006-08-01T00:00:00\", \"2006-06-01T00:00:00\", \"2007-06-01T00:00:00\", \"2006-09-01T00:00:00\", \"2007-03-01T00:00:00\", \"2006-09-01T00:00:00\", \"2007-03-01T00:00:00\", \"2006-09-01T00:00:00\", \"2007-03-01T00:00:00\", \"2006-09-01T00:00:00\", \"2007-03-01T00:00:00\", \"2006-09-01T00:00:00\", \"2007-03-01T00:00:00\", \"2006-09-01T00:00:00\", \"2007-03-01T00:00:00\", \"2006-10-01T00:00:00\", \"2007-10-01T00:00:00\", \"2006-10-01T00:00:00\", \"2007-10-01T00:00:00\", \"2006-10-01T00:00:00\", \"2007-10-01T00:00:00\", \"2006-11-01T00:00:00\", \"2009-08-01T00:00:00\", \"2007-01-01T00:00:00\", \"2007-11-01T00:00:00\", \"2007-01-01T00:00:00\", \"2007-11-01T00:00:00\", \"2007-02-01T00:00:00\", \"2007-08-01T00:00:00\", \"2007-03-01T00:00:00\", \"2008-04-01T00:00:00\", \"2007-12-01T00:00:00\", \"2008-08-01T00:00:00\", \"2007-12-01T00:00:00\", \"2008-11-01T00:00:00\", \"2007-12-01T00:00:00\", \"2008-11-01T00:00:00\", \"2008-04-01T00:00:00\", \"2009-06-01T00:00:00\", \"2009-04-01T00:00:00\", \"2010-08-01T00:00:00\", \"2009-09-01T00:00:00\", \"2011-02-01T00:00:00\", \"2009-09-01T00:00:00\", \"2011-02-01T00:00:00\", \"2010-01-01T00:00:00\", \"2011-04-01T00:00:00\", \"2010-02-01T00:00:00\", \"2011-04-01T00:00:00\", \"2010-02-01T00:00:00\", \"2011-04-01T00:00:00\", \"2010-10-01T00:00:00\", \"2011-11-01T00:00:00\", \"2010-11-01T00:00:00\", \"2011-07-01T00:00:00\", \"2011-03-01T00:00:00\", \"2011-11-01T00:00:00\", \"2011-04-01T00:00:00\", \"2012-06-01T00:00:00\", \"2011-04-01T00:00:00\", \"2012-06-01T00:00:00\", \"2012-05-01T00:00:00\", \"2013-07-01T00:00:00\", \"2012-05-01T00:00:00\", \"2013-07-01T00:00:00\"], \"y\": [3, 3, 5, 5, 6, 6, 8, 8, 10, 10, 13, 13, 14, 14, 15, 15, 18, 18, 19, 19, 23, 23, 25, 25, 26, 26, 28, 28, 30, 30, 31, 31, 32, 32, 35, 35, 36, 36, 37, 37, 38, 38, 40, 40, 41, 41, 43, 43, 45, 45, 47, 47, 48, 48, 49, 49, 51, 51, 55, 55, 58, 58, 60, 60, 63, 63, 64, 64, 65, 65, 67, 67, 68, 68, 69, 69, 71, 71, 72, 72, 73, 73, 74, 74]}, {\"legendgroup\": \"rgb(0, 255, 0)\", \"marker\": {\"color\": \"rgb(0, 255, 0)\", \"opacity\": 0, \"size\": 1}, \"mode\": \"markers\", \"name\": \"\", \"showlegend\": false, \"text\": [null, null, null, null, null, null, null, null, null, null, null, null, null, null, null, null, null, null, null, null, null, null, null, null, null, null, null, null], \"type\": \"scatter\", \"x\": [\"2003-09-01T00:00:00\", \"2004-02-01T00:00:00\", \"2004-01-01T00:00:00\", \"2004-12-01T00:00:00\", \"2004-10-01T00:00:00\", \"2005-07-01T00:00:00\", \"2004-11-01T00:00:00\", \"2006-01-01T00:00:00\", \"2005-04-01T00:00:00\", \"2006-02-01T00:00:00\", \"2006-09-01T00:00:00\", \"2007-03-01T00:00:00\", \"2006-10-01T00:00:00\", \"2008-02-01T00:00:00\", \"2006-10-01T00:00:00\", \"2007-10-01T00:00:00\", \"2007-02-01T00:00:00\", \"2007-08-01T00:00:00\", \"2008-01-01T00:00:00\", \"2009-02-01T00:00:00\", \"2009-04-01T00:00:00\", \"2010-08-01T00:00:00\", \"2009-09-01T00:00:00\", \"2011-02-01T00:00:00\", \"2009-09-01T00:00:00\", \"2011-02-01T00:00:00\", \"2010-01-01T00:00:00\", \"2011-04-01T00:00:00\"], \"y\": [1, 1, 2, 2, 7, 7, 12, 12, 16, 16, 27, 27, 33, 33, 34, 34, 44, 44, 50, 50, 53, 53, 59, 59, 61, 61, 62, 62]}, {\"legendgroup\": \"rgb(255, 0, 0)\", \"marker\": {\"color\": \"rgb(255, 0, 0)\", \"opacity\": 0, \"size\": 1}, \"mode\": \"markers\", \"name\": \"\", \"showlegend\": false, \"text\": [null, null, null, null, null, null], \"type\": \"scatter\", \"x\": [\"2004-10-01T00:00:00\", \"2005-07-01T00:00:00\", \"2006-05-01T00:00:00\", \"2007-09-01T00:00:00\", \"2009-09-01T00:00:00\", \"2011-02-01T00:00:00\"], \"y\": [9, 9, 20, 20, 57, 57]}],\n",
       "                        {\"height\": 600, \"hovermode\": \"closest\", \"showlegend\": true, \"template\": {\"data\": {\"bar\": [{\"error_x\": {\"color\": \"#2a3f5f\"}, \"error_y\": {\"color\": \"#2a3f5f\"}, \"marker\": {\"line\": {\"color\": \"#E5ECF6\", \"width\": 0.5}}, \"type\": \"bar\"}], \"barpolar\": [{\"marker\": {\"line\": {\"color\": \"#E5ECF6\", \"width\": 0.5}}, \"type\": \"barpolar\"}], \"carpet\": [{\"aaxis\": {\"endlinecolor\": \"#2a3f5f\", \"gridcolor\": \"white\", \"linecolor\": \"white\", \"minorgridcolor\": \"white\", \"startlinecolor\": \"#2a3f5f\"}, \"baxis\": {\"endlinecolor\": \"#2a3f5f\", \"gridcolor\": \"white\", \"linecolor\": \"white\", \"minorgridcolor\": \"white\", \"startlinecolor\": \"#2a3f5f\"}, \"type\": \"carpet\"}], \"choropleth\": [{\"colorbar\": {\"outlinewidth\": 0, \"ticks\": \"\"}, \"type\": \"choropleth\"}], \"contour\": [{\"colorbar\": {\"outlinewidth\": 0, \"ticks\": \"\"}, \"colorscale\": [[0.0, \"#0d0887\"], [0.1111111111111111, \"#46039f\"], [0.2222222222222222, \"#7201a8\"], [0.3333333333333333, \"#9c179e\"], [0.4444444444444444, \"#bd3786\"], [0.5555555555555556, \"#d8576b\"], [0.6666666666666666, \"#ed7953\"], [0.7777777777777778, \"#fb9f3a\"], [0.8888888888888888, \"#fdca26\"], [1.0, \"#f0f921\"]], \"type\": \"contour\"}], \"contourcarpet\": [{\"colorbar\": {\"outlinewidth\": 0, \"ticks\": \"\"}, \"type\": \"contourcarpet\"}], \"heatmap\": [{\"colorbar\": {\"outlinewidth\": 0, \"ticks\": \"\"}, \"colorscale\": [[0.0, \"#0d0887\"], [0.1111111111111111, \"#46039f\"], [0.2222222222222222, \"#7201a8\"], [0.3333333333333333, \"#9c179e\"], [0.4444444444444444, \"#bd3786\"], [0.5555555555555556, \"#d8576b\"], [0.6666666666666666, \"#ed7953\"], [0.7777777777777778, \"#fb9f3a\"], [0.8888888888888888, \"#fdca26\"], [1.0, \"#f0f921\"]], \"type\": \"heatmap\"}], \"heatmapgl\": [{\"colorbar\": {\"outlinewidth\": 0, \"ticks\": \"\"}, \"colorscale\": [[0.0, \"#0d0887\"], [0.1111111111111111, \"#46039f\"], [0.2222222222222222, \"#7201a8\"], [0.3333333333333333, \"#9c179e\"], [0.4444444444444444, \"#bd3786\"], [0.5555555555555556, \"#d8576b\"], [0.6666666666666666, \"#ed7953\"], [0.7777777777777778, \"#fb9f3a\"], [0.8888888888888888, \"#fdca26\"], [1.0, \"#f0f921\"]], \"type\": \"heatmapgl\"}], \"histogram\": [{\"marker\": {\"colorbar\": {\"outlinewidth\": 0, \"ticks\": \"\"}}, \"type\": \"histogram\"}], \"histogram2d\": [{\"colorbar\": {\"outlinewidth\": 0, \"ticks\": \"\"}, \"colorscale\": [[0.0, \"#0d0887\"], [0.1111111111111111, \"#46039f\"], [0.2222222222222222, \"#7201a8\"], [0.3333333333333333, \"#9c179e\"], [0.4444444444444444, \"#bd3786\"], [0.5555555555555556, \"#d8576b\"], [0.6666666666666666, \"#ed7953\"], [0.7777777777777778, \"#fb9f3a\"], [0.8888888888888888, \"#fdca26\"], [1.0, \"#f0f921\"]], \"type\": \"histogram2d\"}], \"histogram2dcontour\": [{\"colorbar\": {\"outlinewidth\": 0, \"ticks\": \"\"}, \"colorscale\": [[0.0, \"#0d0887\"], [0.1111111111111111, \"#46039f\"], [0.2222222222222222, \"#7201a8\"], [0.3333333333333333, \"#9c179e\"], [0.4444444444444444, \"#bd3786\"], [0.5555555555555556, \"#d8576b\"], [0.6666666666666666, \"#ed7953\"], [0.7777777777777778, \"#fb9f3a\"], [0.8888888888888888, \"#fdca26\"], [1.0, \"#f0f921\"]], \"type\": \"histogram2dcontour\"}], \"mesh3d\": [{\"colorbar\": {\"outlinewidth\": 0, \"ticks\": \"\"}, \"type\": \"mesh3d\"}], \"parcoords\": [{\"line\": {\"colorbar\": {\"outlinewidth\": 0, \"ticks\": \"\"}}, \"type\": \"parcoords\"}], \"pie\": [{\"automargin\": true, \"type\": \"pie\"}], \"scatter\": [{\"marker\": {\"colorbar\": {\"outlinewidth\": 0, \"ticks\": \"\"}}, \"type\": \"scatter\"}], \"scatter3d\": [{\"line\": {\"colorbar\": {\"outlinewidth\": 0, \"ticks\": \"\"}}, \"marker\": {\"colorbar\": {\"outlinewidth\": 0, \"ticks\": \"\"}}, \"type\": \"scatter3d\"}], \"scattercarpet\": [{\"marker\": {\"colorbar\": {\"outlinewidth\": 0, \"ticks\": \"\"}}, \"type\": \"scattercarpet\"}], \"scattergeo\": [{\"marker\": {\"colorbar\": {\"outlinewidth\": 0, \"ticks\": \"\"}}, \"type\": \"scattergeo\"}], \"scattergl\": [{\"marker\": {\"colorbar\": {\"outlinewidth\": 0, \"ticks\": \"\"}}, \"type\": \"scattergl\"}], \"scattermapbox\": [{\"marker\": {\"colorbar\": {\"outlinewidth\": 0, \"ticks\": \"\"}}, \"type\": \"scattermapbox\"}], \"scatterpolar\": [{\"marker\": {\"colorbar\": {\"outlinewidth\": 0, \"ticks\": \"\"}}, \"type\": \"scatterpolar\"}], \"scatterpolargl\": [{\"marker\": {\"colorbar\": {\"outlinewidth\": 0, \"ticks\": \"\"}}, \"type\": \"scatterpolargl\"}], \"scatterternary\": [{\"marker\": {\"colorbar\": {\"outlinewidth\": 0, \"ticks\": \"\"}}, \"type\": \"scatterternary\"}], \"surface\": [{\"colorbar\": {\"outlinewidth\": 0, \"ticks\": \"\"}, \"colorscale\": [[0.0, \"#0d0887\"], [0.1111111111111111, \"#46039f\"], [0.2222222222222222, \"#7201a8\"], [0.3333333333333333, \"#9c179e\"], [0.4444444444444444, \"#bd3786\"], [0.5555555555555556, \"#d8576b\"], [0.6666666666666666, \"#ed7953\"], [0.7777777777777778, \"#fb9f3a\"], [0.8888888888888888, \"#fdca26\"], [1.0, \"#f0f921\"]], \"type\": \"surface\"}], \"table\": [{\"cells\": {\"fill\": {\"color\": \"#EBF0F8\"}, \"line\": {\"color\": \"white\"}}, \"header\": {\"fill\": {\"color\": \"#C8D4E3\"}, \"line\": {\"color\": \"white\"}}, \"type\": \"table\"}]}, \"layout\": {\"annotationdefaults\": {\"arrowcolor\": \"#2a3f5f\", \"arrowhead\": 0, \"arrowwidth\": 1}, \"coloraxis\": {\"colorbar\": {\"outlinewidth\": 0, \"ticks\": \"\"}}, \"colorscale\": {\"diverging\": [[0, \"#8e0152\"], [0.1, \"#c51b7d\"], [0.2, \"#de77ae\"], [0.3, \"#f1b6da\"], [0.4, \"#fde0ef\"], [0.5, \"#f7f7f7\"], [0.6, \"#e6f5d0\"], [0.7, \"#b8e186\"], [0.8, \"#7fbc41\"], [0.9, \"#4d9221\"], [1, \"#276419\"]], \"sequential\": [[0.0, \"#0d0887\"], [0.1111111111111111, \"#46039f\"], [0.2222222222222222, \"#7201a8\"], [0.3333333333333333, \"#9c179e\"], [0.4444444444444444, \"#bd3786\"], [0.5555555555555556, \"#d8576b\"], [0.6666666666666666, \"#ed7953\"], [0.7777777777777778, \"#fb9f3a\"], [0.8888888888888888, \"#fdca26\"], [1.0, \"#f0f921\"]], \"sequentialminus\": [[0.0, \"#0d0887\"], [0.1111111111111111, \"#46039f\"], [0.2222222222222222, \"#7201a8\"], [0.3333333333333333, \"#9c179e\"], [0.4444444444444444, \"#bd3786\"], [0.5555555555555556, \"#d8576b\"], [0.6666666666666666, \"#ed7953\"], [0.7777777777777778, \"#fb9f3a\"], [0.8888888888888888, \"#fdca26\"], [1.0, \"#f0f921\"]]}, \"colorway\": [\"#636efa\", \"#EF553B\", \"#00cc96\", \"#ab63fa\", \"#FFA15A\", \"#19d3f3\", \"#FF6692\", \"#B6E880\", \"#FF97FF\", \"#FECB52\"], \"font\": {\"color\": \"#2a3f5f\"}, \"geo\": {\"bgcolor\": \"white\", \"lakecolor\": \"white\", \"landcolor\": \"#E5ECF6\", \"showlakes\": true, \"showland\": true, \"subunitcolor\": \"white\"}, \"hoverlabel\": {\"align\": \"left\"}, \"hovermode\": \"closest\", \"mapbox\": {\"style\": \"light\"}, \"paper_bgcolor\": \"white\", \"plot_bgcolor\": \"#E5ECF6\", \"polar\": {\"angularaxis\": {\"gridcolor\": \"white\", \"linecolor\": \"white\", \"ticks\": \"\"}, \"bgcolor\": \"#E5ECF6\", \"radialaxis\": {\"gridcolor\": \"white\", \"linecolor\": \"white\", \"ticks\": \"\"}}, \"scene\": {\"xaxis\": {\"backgroundcolor\": \"#E5ECF6\", \"gridcolor\": \"white\", \"gridwidth\": 2, \"linecolor\": \"white\", \"showbackground\": true, \"ticks\": \"\", \"zerolinecolor\": \"white\"}, \"yaxis\": {\"backgroundcolor\": \"#E5ECF6\", \"gridcolor\": \"white\", \"gridwidth\": 2, \"linecolor\": \"white\", \"showbackground\": true, \"ticks\": \"\", \"zerolinecolor\": \"white\"}, \"zaxis\": {\"backgroundcolor\": \"#E5ECF6\", \"gridcolor\": \"white\", \"gridwidth\": 2, \"linecolor\": \"white\", \"showbackground\": true, \"ticks\": \"\", \"zerolinecolor\": \"white\"}}, \"shapedefaults\": {\"line\": {\"color\": \"#2a3f5f\"}}, \"ternary\": {\"aaxis\": {\"gridcolor\": \"white\", \"linecolor\": \"white\", \"ticks\": \"\"}, \"baxis\": {\"gridcolor\": \"white\", \"linecolor\": \"white\", \"ticks\": \"\"}, \"bgcolor\": \"#E5ECF6\", \"caxis\": {\"gridcolor\": \"white\", \"linecolor\": \"white\", \"ticks\": \"\"}}, \"title\": {\"x\": 0.05}, \"xaxis\": {\"automargin\": true, \"gridcolor\": \"white\", \"linecolor\": \"white\", \"ticks\": \"\", \"title\": {\"standoff\": 15}, \"zerolinecolor\": \"white\", \"zerolinewidth\": 2}, \"yaxis\": {\"automargin\": true, \"gridcolor\": \"white\", \"linecolor\": \"white\", \"ticks\": \"\", \"title\": {\"standoff\": 15}, \"zerolinecolor\": \"white\", \"zerolinewidth\": 2}}}, \"title\": {\"text\": \"Gantt Chart\"}, \"xaxis\": {\"rangeselector\": {\"buttons\": [{\"count\": 7, \"label\": \"1w\", \"step\": \"day\", \"stepmode\": \"backward\"}, {\"count\": 1, \"label\": \"1m\", \"step\": \"month\", \"stepmode\": \"backward\"}, {\"count\": 6, \"label\": \"6m\", \"step\": \"month\", \"stepmode\": \"backward\"}, {\"count\": 1, \"label\": \"YTD\", \"step\": \"year\", \"stepmode\": \"todate\"}, {\"count\": 1, \"label\": \"1y\", \"step\": \"year\", \"stepmode\": \"backward\"}, {\"step\": \"all\"}]}, \"showgrid\": true, \"type\": \"date\", \"zeroline\": false}, \"yaxis\": {\"autorange\": false, \"range\": [-1, 76], \"showgrid\": true, \"ticktext\": [\"U\", \"X\", \"U\", \"U\", \"U\", \"S(c)\", \"S(c)\", \"S(c)\", \"S(c)\", \"S(c)\", \"S(c)\", \"S(c)\", \"X\", \"X\", \"X\", \"X\", \"S(c)\", \"S(c)\", \"X\", \"X\", \"U\", \"U\", \"U\", \"U\", \"U\", \"S(cd)\", \"X\", \"X\", \"X\", \"U\", \"X\", \"S(cd)\", \"U\", \"U\", \"U\", \"X\", \"U\", \"X\", \"X\", \"U\", \"U\", \"X\", \"U\", \"X\", \"U\", \"X\", \"U\", \"X\", \"U\", \"U\", \"X\", \"U\", \"U\", \"U\", \"U\", \"X\", \"U\", \"U\", \"X\", \"U\", \"U\", \"X\", \"X\", \"X\", \"S(c)\", \"X\", \"U\", \"U\", \"X\", \"U\", \"U\", \"S(c)\", \"S(c)\", \"S(c)\", \"S(c)\"], \"tickvals\": [0, 1, 2, 3, 4, 5, 6, 7, 8, 9, 10, 11, 12, 13, 14, 15, 16, 17, 18, 19, 20, 21, 22, 23, 24, 25, 26, 27, 28, 29, 30, 31, 32, 33, 34, 35, 36, 37, 38, 39, 40, 41, 42, 43, 44, 45, 46, 47, 48, 49, 50, 51, 52, 53, 54, 55, 56, 57, 58, 59, 60, 61, 62, 63, 64, 65, 66, 67, 68, 69, 70, 71, 72, 73, 74], \"zeroline\": false}},\n",
       "                        {\"responsive\": true}\n",
       "                    ).then(function(){\n",
       "                            \n",
       "var gd = document.getElementById('8294fd7f-6e36-476b-8048-9e0014a6b8b1');\n",
       "var x = new MutationObserver(function (mutations, observer) {{\n",
       "        var display = window.getComputedStyle(gd).display;\n",
       "        if (!display || display === 'none') {{\n",
       "            console.log([gd, 'removed!']);\n",
       "            Plotly.purge(gd);\n",
       "            observer.disconnect();\n",
       "        }}\n",
       "}});\n",
       "\n",
       "// Listen for the removal of the full notebook cells\n",
       "var notebookContainer = gd.closest('#notebook-container');\n",
       "if (notebookContainer) {{\n",
       "    x.observe(notebookContainer, {childList: true});\n",
       "}}\n",
       "\n",
       "// Listen for the clearing of the current output cell\n",
       "var outputEl = gd.closest('.output');\n",
       "if (outputEl) {{\n",
       "    x.observe(outputEl, {childList: true});\n",
       "}}\n",
       "\n",
       "                        })\n",
       "                };\n",
       "                });\n",
       "            </script>\n",
       "        </div>"
      ]
     },
     "metadata": {},
     "output_type": "display_data"
    }
   ],
   "source": [
    "# Gantt chart in Plotly has mandatory format of data columns\n",
    "sbarra_gnt.columns = ['Task', 'Start', 'Finish', 'Type']\n",
    "\n",
    "colors = dict(zip(sbarra_gnt['Type'].unique(),[(0, 0, 0),(0,1,0),(0,0,1),(1,0,0)]))\n",
    "\n",
    "fig_plotly = ff.create_gantt(sbarra_gnt, colors=colors, index_col='Type',\n",
    "                             show_colorbar=True, bar_width=0.4, showgrid_x=True, showgrid_y=True)\n",
    "fig_plotly.show()"
   ]
  },
  {
   "cell_type": "code",
   "execution_count": 203,
   "metadata": {},
   "outputs": [
    {
     "data": {
      "text/html": [
       "<div>\n",
       "<style scoped>\n",
       "    .dataframe tbody tr th:only-of-type {\n",
       "        vertical-align: middle;\n",
       "    }\n",
       "\n",
       "    .dataframe tbody tr th {\n",
       "        vertical-align: top;\n",
       "    }\n",
       "\n",
       "    .dataframe thead th {\n",
       "        text-align: right;\n",
       "    }\n",
       "</style>\n",
       "<table border=\"1\" class=\"dataframe\">\n",
       "  <thead>\n",
       "    <tr style=\"text-align: right;\">\n",
       "      <th></th>\n",
       "      <th>unique_mos_id</th>\n",
       "      <th>first_name</th>\n",
       "      <th>last_name</th>\n",
       "      <th>command_now</th>\n",
       "      <th>complaint_id</th>\n",
       "      <th>month_received</th>\n",
       "      <th>year_received</th>\n",
       "      <th>month_closed</th>\n",
       "      <th>year_closed</th>\n",
       "      <th>command_at_incident</th>\n",
       "      <th>...</th>\n",
       "      <th>fado_type</th>\n",
       "      <th>allegation</th>\n",
       "      <th>precinct</th>\n",
       "      <th>contact_reason</th>\n",
       "      <th>outcome_description</th>\n",
       "      <th>board_disposition</th>\n",
       "      <th>tot_complaints</th>\n",
       "      <th>date_closed</th>\n",
       "      <th>date_received</th>\n",
       "      <th>bd_abbr</th>\n",
       "    </tr>\n",
       "  </thead>\n",
       "  <tbody>\n",
       "    <tr>\n",
       "      <td>7846</td>\n",
       "      <td>18731</td>\n",
       "      <td>Daniel</td>\n",
       "      <td>Sbarra</td>\n",
       "      <td>DB CEIS</td>\n",
       "      <td>6832</td>\n",
       "      <td>9</td>\n",
       "      <td>2003</td>\n",
       "      <td>2</td>\n",
       "      <td>2004</td>\n",
       "      <td>083 PCT</td>\n",
       "      <td>...</td>\n",
       "      <td>Discourtesy</td>\n",
       "      <td>Word</td>\n",
       "      <td>83.0</td>\n",
       "      <td>Other</td>\n",
       "      <td>No arrest made or summons issued</td>\n",
       "      <td>Unsubstantiated</td>\n",
       "      <td>75</td>\n",
       "      <td>2004-02-01</td>\n",
       "      <td>2003-09-01</td>\n",
       "      <td>U</td>\n",
       "    </tr>\n",
       "    <tr>\n",
       "      <td>7847</td>\n",
       "      <td>18731</td>\n",
       "      <td>Daniel</td>\n",
       "      <td>Sbarra</td>\n",
       "      <td>DB CEIS</td>\n",
       "      <td>6832</td>\n",
       "      <td>9</td>\n",
       "      <td>2003</td>\n",
       "      <td>2</td>\n",
       "      <td>2004</td>\n",
       "      <td>083 PCT</td>\n",
       "      <td>...</td>\n",
       "      <td>Force</td>\n",
       "      <td>Physical force</td>\n",
       "      <td>83.0</td>\n",
       "      <td>Other</td>\n",
       "      <td>No arrest made or summons issued</td>\n",
       "      <td>Exonerated</td>\n",
       "      <td>75</td>\n",
       "      <td>2004-02-01</td>\n",
       "      <td>2003-09-01</td>\n",
       "      <td>X</td>\n",
       "    </tr>\n",
       "    <tr>\n",
       "      <td>7848</td>\n",
       "      <td>18731</td>\n",
       "      <td>Daniel</td>\n",
       "      <td>Sbarra</td>\n",
       "      <td>DB CEIS</td>\n",
       "      <td>7174</td>\n",
       "      <td>1</td>\n",
       "      <td>2004</td>\n",
       "      <td>12</td>\n",
       "      <td>2004</td>\n",
       "      <td>083 PCT</td>\n",
       "      <td>...</td>\n",
       "      <td>Force</td>\n",
       "      <td>Physical force</td>\n",
       "      <td>83.0</td>\n",
       "      <td>EDP aided case</td>\n",
       "      <td>No arrest made or summons issued</td>\n",
       "      <td>Unsubstantiated</td>\n",
       "      <td>75</td>\n",
       "      <td>2004-12-01</td>\n",
       "      <td>2004-01-01</td>\n",
       "      <td>U</td>\n",
       "    </tr>\n",
       "    <tr>\n",
       "      <td>7849</td>\n",
       "      <td>18731</td>\n",
       "      <td>Daniel</td>\n",
       "      <td>Sbarra</td>\n",
       "      <td>DB CEIS</td>\n",
       "      <td>7174</td>\n",
       "      <td>1</td>\n",
       "      <td>2004</td>\n",
       "      <td>12</td>\n",
       "      <td>2004</td>\n",
       "      <td>083 PCT</td>\n",
       "      <td>...</td>\n",
       "      <td>Abuse of Authority</td>\n",
       "      <td>Other</td>\n",
       "      <td>83.0</td>\n",
       "      <td>EDP aided case</td>\n",
       "      <td>No arrest made or summons issued</td>\n",
       "      <td>Unsubstantiated</td>\n",
       "      <td>75</td>\n",
       "      <td>2004-12-01</td>\n",
       "      <td>2004-01-01</td>\n",
       "      <td>U</td>\n",
       "    </tr>\n",
       "    <tr>\n",
       "      <td>7913</td>\n",
       "      <td>18731</td>\n",
       "      <td>Daniel</td>\n",
       "      <td>Sbarra</td>\n",
       "      <td>DB CEIS</td>\n",
       "      <td>7174</td>\n",
       "      <td>1</td>\n",
       "      <td>2004</td>\n",
       "      <td>12</td>\n",
       "      <td>2004</td>\n",
       "      <td>083 PCT</td>\n",
       "      <td>...</td>\n",
       "      <td>Discourtesy</td>\n",
       "      <td>Word</td>\n",
       "      <td>83.0</td>\n",
       "      <td>EDP aided case</td>\n",
       "      <td>No arrest made or summons issued</td>\n",
       "      <td>Unsubstantiated</td>\n",
       "      <td>75</td>\n",
       "      <td>2004-12-01</td>\n",
       "      <td>2004-01-01</td>\n",
       "      <td>U</td>\n",
       "    </tr>\n",
       "  </tbody>\n",
       "</table>\n",
       "<p>5 rows × 30 columns</p>\n",
       "</div>"
      ],
      "text/plain": [
       "      unique_mos_id first_name last_name command_now  complaint_id  \\\n",
       "7846          18731     Daniel    Sbarra     DB CEIS          6832   \n",
       "7847          18731     Daniel    Sbarra     DB CEIS          6832   \n",
       "7848          18731     Daniel    Sbarra     DB CEIS          7174   \n",
       "7849          18731     Daniel    Sbarra     DB CEIS          7174   \n",
       "7913          18731     Daniel    Sbarra     DB CEIS          7174   \n",
       "\n",
       "      month_received  year_received  month_closed  year_closed  \\\n",
       "7846               9           2003             2         2004   \n",
       "7847               9           2003             2         2004   \n",
       "7848               1           2004            12         2004   \n",
       "7849               1           2004            12         2004   \n",
       "7913               1           2004            12         2004   \n",
       "\n",
       "     command_at_incident  ...           fado_type      allegation precinct  \\\n",
       "7846             083 PCT  ...         Discourtesy            Word     83.0   \n",
       "7847             083 PCT  ...               Force  Physical force     83.0   \n",
       "7848             083 PCT  ...               Force  Physical force     83.0   \n",
       "7849             083 PCT  ...  Abuse of Authority           Other     83.0   \n",
       "7913             083 PCT  ...         Discourtesy            Word     83.0   \n",
       "\n",
       "      contact_reason               outcome_description board_disposition  \\\n",
       "7846           Other  No arrest made or summons issued   Unsubstantiated   \n",
       "7847           Other  No arrest made or summons issued        Exonerated   \n",
       "7848  EDP aided case  No arrest made or summons issued   Unsubstantiated   \n",
       "7849  EDP aided case  No arrest made or summons issued   Unsubstantiated   \n",
       "7913  EDP aided case  No arrest made or summons issued   Unsubstantiated   \n",
       "\n",
       "      tot_complaints date_closed date_received  bd_abbr  \n",
       "7846              75  2004-02-01    2003-09-01        U  \n",
       "7847              75  2004-02-01    2003-09-01        X  \n",
       "7848              75  2004-12-01    2004-01-01        U  \n",
       "7849              75  2004-12-01    2004-01-01        U  \n",
       "7913              75  2004-12-01    2004-01-01        U  \n",
       "\n",
       "[5 rows x 30 columns]"
      ]
     },
     "execution_count": 203,
     "metadata": {},
     "output_type": "execute_result"
    }
   ],
   "source": [
    "sbarra.head()"
   ]
  },
  {
   "cell_type": "code",
   "execution_count": 207,
   "metadata": {},
   "outputs": [
    {
     "data": {
      "application/vnd.plotly.v1+json": {
       "config": {
        "plotlyServerURL": "https://plot.ly"
       },
       "data": [
        {
         "hovertemplate": "date_closed=%{x}<br>board_disposition=%{y}<extra></extra>",
         "legendgroup": "",
         "marker": {
          "color": "#636efa",
          "symbol": "circle"
         },
         "mode": "markers",
         "name": "",
         "orientation": "v",
         "showlegend": false,
         "type": "scatter",
         "x": [
          "2004-02-01T00:00:00",
          "2004-02-01T00:00:00",
          "2004-12-01T00:00:00",
          "2004-12-01T00:00:00",
          "2004-12-01T00:00:00",
          "2005-07-01T00:00:00",
          "2005-07-01T00:00:00",
          "2005-07-01T00:00:00",
          "2005-07-01T00:00:00",
          "2005-07-01T00:00:00",
          "2005-07-01T00:00:00",
          "2005-07-01T00:00:00",
          "2006-01-01T00:00:00",
          "2006-02-01T00:00:00",
          "2006-02-01T00:00:00",
          "2006-02-01T00:00:00",
          "2006-02-01T00:00:00",
          "2006-02-01T00:00:00",
          "2006-08-01T00:00:00",
          "2006-08-01T00:00:00",
          "2007-03-01T00:00:00",
          "2007-03-01T00:00:00",
          "2007-03-01T00:00:00",
          "2007-03-01T00:00:00",
          "2007-03-01T00:00:00",
          "2007-03-01T00:00:00",
          "2007-03-01T00:00:00",
          "2007-03-01T00:00:00",
          "2007-06-01T00:00:00",
          "2007-06-01T00:00:00",
          "2007-06-01T00:00:00",
          "2007-08-01T00:00:00",
          "2007-08-01T00:00:00",
          "2007-09-01T00:00:00",
          "2007-09-01T00:00:00",
          "2007-10-01T00:00:00",
          "2007-10-01T00:00:00",
          "2007-10-01T00:00:00",
          "2007-10-01T00:00:00",
          "2007-11-01T00:00:00",
          "2007-11-01T00:00:00",
          "2007-11-01T00:00:00",
          "2007-11-01T00:00:00",
          "2008-02-01T00:00:00",
          "2008-04-01T00:00:00",
          "2008-08-01T00:00:00",
          "2008-11-01T00:00:00",
          "2008-11-01T00:00:00",
          "2008-11-01T00:00:00",
          "2009-02-01T00:00:00",
          "2009-06-01T00:00:00",
          "2009-06-01T00:00:00",
          "2009-08-01T00:00:00",
          "2010-08-01T00:00:00",
          "2010-08-01T00:00:00",
          "2010-08-01T00:00:00",
          "2011-02-01T00:00:00",
          "2011-02-01T00:00:00",
          "2011-02-01T00:00:00",
          "2011-02-01T00:00:00",
          "2011-02-01T00:00:00",
          "2011-02-01T00:00:00",
          "2011-04-01T00:00:00",
          "2011-04-01T00:00:00",
          "2011-04-01T00:00:00",
          "2011-04-01T00:00:00",
          "2011-04-01T00:00:00",
          "2011-07-01T00:00:00",
          "2011-11-01T00:00:00",
          "2011-11-01T00:00:00",
          "2011-11-01T00:00:00",
          "2012-06-01T00:00:00",
          "2012-06-01T00:00:00",
          "2013-07-01T00:00:00",
          "2013-07-01T00:00:00"
         ],
         "xaxis": "x",
         "y": [
          "Unsubstantiated",
          "Exonerated",
          "Unsubstantiated",
          "Unsubstantiated",
          "Unsubstantiated",
          "Substantiated (Charges)",
          "Substantiated (Charges)",
          "Substantiated (Charges)",
          "Substantiated (Charges)",
          "Substantiated (Charges)",
          "Substantiated (Charges)",
          "Substantiated (Charges)",
          "Exonerated",
          "Substantiated (Charges)",
          "Substantiated (Charges)",
          "Exonerated",
          "Exonerated",
          "Exonerated",
          "Exonerated",
          "Exonerated",
          "Substantiated (Command Discipline)",
          "Exonerated",
          "Unsubstantiated",
          "Exonerated",
          "Exonerated",
          "Exonerated",
          "Unsubstantiated",
          "Substantiated (Command Discipline)",
          "Unsubstantiated",
          "Unsubstantiated",
          "Unsubstantiated",
          "Unsubstantiated",
          "Exonerated",
          "Unsubstantiated",
          "Unsubstantiated",
          "Exonerated",
          "Exonerated",
          "Unsubstantiated",
          "Unsubstantiated",
          "Unsubstantiated",
          "Unsubstantiated",
          "Exonerated",
          "Unsubstantiated",
          "Unsubstantiated",
          "Exonerated",
          "Exonerated",
          "Unsubstantiated",
          "Unsubstantiated",
          "Unsubstantiated",
          "Exonerated",
          "Unsubstantiated",
          "Unsubstantiated",
          "Exonerated",
          "Exonerated",
          "Unsubstantiated",
          "Unsubstantiated",
          "Unsubstantiated",
          "Unsubstantiated",
          "Exonerated",
          "Unsubstantiated",
          "Unsubstantiated",
          "Exonerated",
          "Exonerated",
          "Exonerated",
          "Unsubstantiated",
          "Substantiated (Charges)",
          "Exonerated",
          "Exonerated",
          "Unsubstantiated",
          "Unsubstantiated",
          "Unsubstantiated",
          "Substantiated (Charges)",
          "Substantiated (Charges)",
          "Substantiated (Charges)",
          "Substantiated (Charges)"
         ],
         "yaxis": "y"
        }
       ],
       "layout": {
        "legend": {
         "tracegroupgap": 0
        },
        "margin": {
         "t": 60
        },
        "template": {
         "data": {
          "bar": [
           {
            "error_x": {
             "color": "#2a3f5f"
            },
            "error_y": {
             "color": "#2a3f5f"
            },
            "marker": {
             "line": {
              "color": "#E5ECF6",
              "width": 0.5
             }
            },
            "type": "bar"
           }
          ],
          "barpolar": [
           {
            "marker": {
             "line": {
              "color": "#E5ECF6",
              "width": 0.5
             }
            },
            "type": "barpolar"
           }
          ],
          "carpet": [
           {
            "aaxis": {
             "endlinecolor": "#2a3f5f",
             "gridcolor": "white",
             "linecolor": "white",
             "minorgridcolor": "white",
             "startlinecolor": "#2a3f5f"
            },
            "baxis": {
             "endlinecolor": "#2a3f5f",
             "gridcolor": "white",
             "linecolor": "white",
             "minorgridcolor": "white",
             "startlinecolor": "#2a3f5f"
            },
            "type": "carpet"
           }
          ],
          "choropleth": [
           {
            "colorbar": {
             "outlinewidth": 0,
             "ticks": ""
            },
            "type": "choropleth"
           }
          ],
          "contour": [
           {
            "colorbar": {
             "outlinewidth": 0,
             "ticks": ""
            },
            "colorscale": [
             [
              0,
              "#0d0887"
             ],
             [
              0.1111111111111111,
              "#46039f"
             ],
             [
              0.2222222222222222,
              "#7201a8"
             ],
             [
              0.3333333333333333,
              "#9c179e"
             ],
             [
              0.4444444444444444,
              "#bd3786"
             ],
             [
              0.5555555555555556,
              "#d8576b"
             ],
             [
              0.6666666666666666,
              "#ed7953"
             ],
             [
              0.7777777777777778,
              "#fb9f3a"
             ],
             [
              0.8888888888888888,
              "#fdca26"
             ],
             [
              1,
              "#f0f921"
             ]
            ],
            "type": "contour"
           }
          ],
          "contourcarpet": [
           {
            "colorbar": {
             "outlinewidth": 0,
             "ticks": ""
            },
            "type": "contourcarpet"
           }
          ],
          "heatmap": [
           {
            "colorbar": {
             "outlinewidth": 0,
             "ticks": ""
            },
            "colorscale": [
             [
              0,
              "#0d0887"
             ],
             [
              0.1111111111111111,
              "#46039f"
             ],
             [
              0.2222222222222222,
              "#7201a8"
             ],
             [
              0.3333333333333333,
              "#9c179e"
             ],
             [
              0.4444444444444444,
              "#bd3786"
             ],
             [
              0.5555555555555556,
              "#d8576b"
             ],
             [
              0.6666666666666666,
              "#ed7953"
             ],
             [
              0.7777777777777778,
              "#fb9f3a"
             ],
             [
              0.8888888888888888,
              "#fdca26"
             ],
             [
              1,
              "#f0f921"
             ]
            ],
            "type": "heatmap"
           }
          ],
          "heatmapgl": [
           {
            "colorbar": {
             "outlinewidth": 0,
             "ticks": ""
            },
            "colorscale": [
             [
              0,
              "#0d0887"
             ],
             [
              0.1111111111111111,
              "#46039f"
             ],
             [
              0.2222222222222222,
              "#7201a8"
             ],
             [
              0.3333333333333333,
              "#9c179e"
             ],
             [
              0.4444444444444444,
              "#bd3786"
             ],
             [
              0.5555555555555556,
              "#d8576b"
             ],
             [
              0.6666666666666666,
              "#ed7953"
             ],
             [
              0.7777777777777778,
              "#fb9f3a"
             ],
             [
              0.8888888888888888,
              "#fdca26"
             ],
             [
              1,
              "#f0f921"
             ]
            ],
            "type": "heatmapgl"
           }
          ],
          "histogram": [
           {
            "marker": {
             "colorbar": {
              "outlinewidth": 0,
              "ticks": ""
             }
            },
            "type": "histogram"
           }
          ],
          "histogram2d": [
           {
            "colorbar": {
             "outlinewidth": 0,
             "ticks": ""
            },
            "colorscale": [
             [
              0,
              "#0d0887"
             ],
             [
              0.1111111111111111,
              "#46039f"
             ],
             [
              0.2222222222222222,
              "#7201a8"
             ],
             [
              0.3333333333333333,
              "#9c179e"
             ],
             [
              0.4444444444444444,
              "#bd3786"
             ],
             [
              0.5555555555555556,
              "#d8576b"
             ],
             [
              0.6666666666666666,
              "#ed7953"
             ],
             [
              0.7777777777777778,
              "#fb9f3a"
             ],
             [
              0.8888888888888888,
              "#fdca26"
             ],
             [
              1,
              "#f0f921"
             ]
            ],
            "type": "histogram2d"
           }
          ],
          "histogram2dcontour": [
           {
            "colorbar": {
             "outlinewidth": 0,
             "ticks": ""
            },
            "colorscale": [
             [
              0,
              "#0d0887"
             ],
             [
              0.1111111111111111,
              "#46039f"
             ],
             [
              0.2222222222222222,
              "#7201a8"
             ],
             [
              0.3333333333333333,
              "#9c179e"
             ],
             [
              0.4444444444444444,
              "#bd3786"
             ],
             [
              0.5555555555555556,
              "#d8576b"
             ],
             [
              0.6666666666666666,
              "#ed7953"
             ],
             [
              0.7777777777777778,
              "#fb9f3a"
             ],
             [
              0.8888888888888888,
              "#fdca26"
             ],
             [
              1,
              "#f0f921"
             ]
            ],
            "type": "histogram2dcontour"
           }
          ],
          "mesh3d": [
           {
            "colorbar": {
             "outlinewidth": 0,
             "ticks": ""
            },
            "type": "mesh3d"
           }
          ],
          "parcoords": [
           {
            "line": {
             "colorbar": {
              "outlinewidth": 0,
              "ticks": ""
             }
            },
            "type": "parcoords"
           }
          ],
          "pie": [
           {
            "automargin": true,
            "type": "pie"
           }
          ],
          "scatter": [
           {
            "marker": {
             "colorbar": {
              "outlinewidth": 0,
              "ticks": ""
             }
            },
            "type": "scatter"
           }
          ],
          "scatter3d": [
           {
            "line": {
             "colorbar": {
              "outlinewidth": 0,
              "ticks": ""
             }
            },
            "marker": {
             "colorbar": {
              "outlinewidth": 0,
              "ticks": ""
             }
            },
            "type": "scatter3d"
           }
          ],
          "scattercarpet": [
           {
            "marker": {
             "colorbar": {
              "outlinewidth": 0,
              "ticks": ""
             }
            },
            "type": "scattercarpet"
           }
          ],
          "scattergeo": [
           {
            "marker": {
             "colorbar": {
              "outlinewidth": 0,
              "ticks": ""
             }
            },
            "type": "scattergeo"
           }
          ],
          "scattergl": [
           {
            "marker": {
             "colorbar": {
              "outlinewidth": 0,
              "ticks": ""
             }
            },
            "type": "scattergl"
           }
          ],
          "scattermapbox": [
           {
            "marker": {
             "colorbar": {
              "outlinewidth": 0,
              "ticks": ""
             }
            },
            "type": "scattermapbox"
           }
          ],
          "scatterpolar": [
           {
            "marker": {
             "colorbar": {
              "outlinewidth": 0,
              "ticks": ""
             }
            },
            "type": "scatterpolar"
           }
          ],
          "scatterpolargl": [
           {
            "marker": {
             "colorbar": {
              "outlinewidth": 0,
              "ticks": ""
             }
            },
            "type": "scatterpolargl"
           }
          ],
          "scatterternary": [
           {
            "marker": {
             "colorbar": {
              "outlinewidth": 0,
              "ticks": ""
             }
            },
            "type": "scatterternary"
           }
          ],
          "surface": [
           {
            "colorbar": {
             "outlinewidth": 0,
             "ticks": ""
            },
            "colorscale": [
             [
              0,
              "#0d0887"
             ],
             [
              0.1111111111111111,
              "#46039f"
             ],
             [
              0.2222222222222222,
              "#7201a8"
             ],
             [
              0.3333333333333333,
              "#9c179e"
             ],
             [
              0.4444444444444444,
              "#bd3786"
             ],
             [
              0.5555555555555556,
              "#d8576b"
             ],
             [
              0.6666666666666666,
              "#ed7953"
             ],
             [
              0.7777777777777778,
              "#fb9f3a"
             ],
             [
              0.8888888888888888,
              "#fdca26"
             ],
             [
              1,
              "#f0f921"
             ]
            ],
            "type": "surface"
           }
          ],
          "table": [
           {
            "cells": {
             "fill": {
              "color": "#EBF0F8"
             },
             "line": {
              "color": "white"
             }
            },
            "header": {
             "fill": {
              "color": "#C8D4E3"
             },
             "line": {
              "color": "white"
             }
            },
            "type": "table"
           }
          ]
         },
         "layout": {
          "annotationdefaults": {
           "arrowcolor": "#2a3f5f",
           "arrowhead": 0,
           "arrowwidth": 1
          },
          "coloraxis": {
           "colorbar": {
            "outlinewidth": 0,
            "ticks": ""
           }
          },
          "colorscale": {
           "diverging": [
            [
             0,
             "#8e0152"
            ],
            [
             0.1,
             "#c51b7d"
            ],
            [
             0.2,
             "#de77ae"
            ],
            [
             0.3,
             "#f1b6da"
            ],
            [
             0.4,
             "#fde0ef"
            ],
            [
             0.5,
             "#f7f7f7"
            ],
            [
             0.6,
             "#e6f5d0"
            ],
            [
             0.7,
             "#b8e186"
            ],
            [
             0.8,
             "#7fbc41"
            ],
            [
             0.9,
             "#4d9221"
            ],
            [
             1,
             "#276419"
            ]
           ],
           "sequential": [
            [
             0,
             "#0d0887"
            ],
            [
             0.1111111111111111,
             "#46039f"
            ],
            [
             0.2222222222222222,
             "#7201a8"
            ],
            [
             0.3333333333333333,
             "#9c179e"
            ],
            [
             0.4444444444444444,
             "#bd3786"
            ],
            [
             0.5555555555555556,
             "#d8576b"
            ],
            [
             0.6666666666666666,
             "#ed7953"
            ],
            [
             0.7777777777777778,
             "#fb9f3a"
            ],
            [
             0.8888888888888888,
             "#fdca26"
            ],
            [
             1,
             "#f0f921"
            ]
           ],
           "sequentialminus": [
            [
             0,
             "#0d0887"
            ],
            [
             0.1111111111111111,
             "#46039f"
            ],
            [
             0.2222222222222222,
             "#7201a8"
            ],
            [
             0.3333333333333333,
             "#9c179e"
            ],
            [
             0.4444444444444444,
             "#bd3786"
            ],
            [
             0.5555555555555556,
             "#d8576b"
            ],
            [
             0.6666666666666666,
             "#ed7953"
            ],
            [
             0.7777777777777778,
             "#fb9f3a"
            ],
            [
             0.8888888888888888,
             "#fdca26"
            ],
            [
             1,
             "#f0f921"
            ]
           ]
          },
          "colorway": [
           "#636efa",
           "#EF553B",
           "#00cc96",
           "#ab63fa",
           "#FFA15A",
           "#19d3f3",
           "#FF6692",
           "#B6E880",
           "#FF97FF",
           "#FECB52"
          ],
          "font": {
           "color": "#2a3f5f"
          },
          "geo": {
           "bgcolor": "white",
           "lakecolor": "white",
           "landcolor": "#E5ECF6",
           "showlakes": true,
           "showland": true,
           "subunitcolor": "white"
          },
          "hoverlabel": {
           "align": "left"
          },
          "hovermode": "closest",
          "mapbox": {
           "style": "light"
          },
          "paper_bgcolor": "white",
          "plot_bgcolor": "#E5ECF6",
          "polar": {
           "angularaxis": {
            "gridcolor": "white",
            "linecolor": "white",
            "ticks": ""
           },
           "bgcolor": "#E5ECF6",
           "radialaxis": {
            "gridcolor": "white",
            "linecolor": "white",
            "ticks": ""
           }
          },
          "scene": {
           "xaxis": {
            "backgroundcolor": "#E5ECF6",
            "gridcolor": "white",
            "gridwidth": 2,
            "linecolor": "white",
            "showbackground": true,
            "ticks": "",
            "zerolinecolor": "white"
           },
           "yaxis": {
            "backgroundcolor": "#E5ECF6",
            "gridcolor": "white",
            "gridwidth": 2,
            "linecolor": "white",
            "showbackground": true,
            "ticks": "",
            "zerolinecolor": "white"
           },
           "zaxis": {
            "backgroundcolor": "#E5ECF6",
            "gridcolor": "white",
            "gridwidth": 2,
            "linecolor": "white",
            "showbackground": true,
            "ticks": "",
            "zerolinecolor": "white"
           }
          },
          "shapedefaults": {
           "line": {
            "color": "#2a3f5f"
           }
          },
          "ternary": {
           "aaxis": {
            "gridcolor": "white",
            "linecolor": "white",
            "ticks": ""
           },
           "baxis": {
            "gridcolor": "white",
            "linecolor": "white",
            "ticks": ""
           },
           "bgcolor": "#E5ECF6",
           "caxis": {
            "gridcolor": "white",
            "linecolor": "white",
            "ticks": ""
           }
          },
          "title": {
           "x": 0.05
          },
          "xaxis": {
           "automargin": true,
           "gridcolor": "white",
           "linecolor": "white",
           "ticks": "",
           "title": {
            "standoff": 15
           },
           "zerolinecolor": "white",
           "zerolinewidth": 2
          },
          "yaxis": {
           "automargin": true,
           "gridcolor": "white",
           "linecolor": "white",
           "ticks": "",
           "title": {
            "standoff": 15
           },
           "zerolinecolor": "white",
           "zerolinewidth": 2
          }
         }
        },
        "xaxis": {
         "anchor": "y",
         "domain": [
          0,
          1
         ],
         "title": {
          "text": "date_closed"
         }
        },
        "yaxis": {
         "anchor": "x",
         "domain": [
          0,
          1
         ],
         "title": {
          "text": "board_disposition"
         }
        }
       }
      },
      "text/html": [
       "<div>\n",
       "        \n",
       "        \n",
       "            <div id=\"e6141222-2d5b-46af-8ad1-142bc9591df6\" class=\"plotly-graph-div\" style=\"height:525px; width:100%;\"></div>\n",
       "            <script type=\"text/javascript\">\n",
       "                require([\"plotly\"], function(Plotly) {\n",
       "                    window.PLOTLYENV=window.PLOTLYENV || {};\n",
       "                    \n",
       "                if (document.getElementById(\"e6141222-2d5b-46af-8ad1-142bc9591df6\")) {\n",
       "                    Plotly.newPlot(\n",
       "                        'e6141222-2d5b-46af-8ad1-142bc9591df6',\n",
       "                        [{\"hovertemplate\": \"date_closed=%{x}<br>board_disposition=%{y}<extra></extra>\", \"legendgroup\": \"\", \"marker\": {\"color\": \"#636efa\", \"symbol\": \"circle\"}, \"mode\": \"markers\", \"name\": \"\", \"orientation\": \"v\", \"showlegend\": false, \"type\": \"scatter\", \"x\": [\"2004-02-01T00:00:00\", \"2004-02-01T00:00:00\", \"2004-12-01T00:00:00\", \"2004-12-01T00:00:00\", \"2004-12-01T00:00:00\", \"2005-07-01T00:00:00\", \"2005-07-01T00:00:00\", \"2005-07-01T00:00:00\", \"2005-07-01T00:00:00\", \"2005-07-01T00:00:00\", \"2005-07-01T00:00:00\", \"2005-07-01T00:00:00\", \"2006-01-01T00:00:00\", \"2006-02-01T00:00:00\", \"2006-02-01T00:00:00\", \"2006-02-01T00:00:00\", \"2006-02-01T00:00:00\", \"2006-02-01T00:00:00\", \"2006-08-01T00:00:00\", \"2006-08-01T00:00:00\", \"2007-03-01T00:00:00\", \"2007-03-01T00:00:00\", \"2007-03-01T00:00:00\", \"2007-03-01T00:00:00\", \"2007-03-01T00:00:00\", \"2007-03-01T00:00:00\", \"2007-03-01T00:00:00\", \"2007-03-01T00:00:00\", \"2007-06-01T00:00:00\", \"2007-06-01T00:00:00\", \"2007-06-01T00:00:00\", \"2007-08-01T00:00:00\", \"2007-08-01T00:00:00\", \"2007-09-01T00:00:00\", \"2007-09-01T00:00:00\", \"2007-10-01T00:00:00\", \"2007-10-01T00:00:00\", \"2007-10-01T00:00:00\", \"2007-10-01T00:00:00\", \"2007-11-01T00:00:00\", \"2007-11-01T00:00:00\", \"2007-11-01T00:00:00\", \"2007-11-01T00:00:00\", \"2008-02-01T00:00:00\", \"2008-04-01T00:00:00\", \"2008-08-01T00:00:00\", \"2008-11-01T00:00:00\", \"2008-11-01T00:00:00\", \"2008-11-01T00:00:00\", \"2009-02-01T00:00:00\", \"2009-06-01T00:00:00\", \"2009-06-01T00:00:00\", \"2009-08-01T00:00:00\", \"2010-08-01T00:00:00\", \"2010-08-01T00:00:00\", \"2010-08-01T00:00:00\", \"2011-02-01T00:00:00\", \"2011-02-01T00:00:00\", \"2011-02-01T00:00:00\", \"2011-02-01T00:00:00\", \"2011-02-01T00:00:00\", \"2011-02-01T00:00:00\", \"2011-04-01T00:00:00\", \"2011-04-01T00:00:00\", \"2011-04-01T00:00:00\", \"2011-04-01T00:00:00\", \"2011-04-01T00:00:00\", \"2011-07-01T00:00:00\", \"2011-11-01T00:00:00\", \"2011-11-01T00:00:00\", \"2011-11-01T00:00:00\", \"2012-06-01T00:00:00\", \"2012-06-01T00:00:00\", \"2013-07-01T00:00:00\", \"2013-07-01T00:00:00\"], \"xaxis\": \"x\", \"y\": [\"Unsubstantiated\", \"Exonerated\", \"Unsubstantiated\", \"Unsubstantiated\", \"Unsubstantiated\", \"Substantiated (Charges)\", \"Substantiated (Charges)\", \"Substantiated (Charges)\", \"Substantiated (Charges)\", \"Substantiated (Charges)\", \"Substantiated (Charges)\", \"Substantiated (Charges)\", \"Exonerated\", \"Substantiated (Charges)\", \"Substantiated (Charges)\", \"Exonerated\", \"Exonerated\", \"Exonerated\", \"Exonerated\", \"Exonerated\", \"Substantiated (Command Discipline)\", \"Exonerated\", \"Unsubstantiated\", \"Exonerated\", \"Exonerated\", \"Exonerated\", \"Unsubstantiated\", \"Substantiated (Command Discipline)\", \"Unsubstantiated\", \"Unsubstantiated\", \"Unsubstantiated\", \"Unsubstantiated\", \"Exonerated\", \"Unsubstantiated\", \"Unsubstantiated\", \"Exonerated\", \"Exonerated\", \"Unsubstantiated\", \"Unsubstantiated\", \"Unsubstantiated\", \"Unsubstantiated\", \"Exonerated\", \"Unsubstantiated\", \"Unsubstantiated\", \"Exonerated\", \"Exonerated\", \"Unsubstantiated\", \"Unsubstantiated\", \"Unsubstantiated\", \"Exonerated\", \"Unsubstantiated\", \"Unsubstantiated\", \"Exonerated\", \"Exonerated\", \"Unsubstantiated\", \"Unsubstantiated\", \"Unsubstantiated\", \"Unsubstantiated\", \"Exonerated\", \"Unsubstantiated\", \"Unsubstantiated\", \"Exonerated\", \"Exonerated\", \"Exonerated\", \"Unsubstantiated\", \"Substantiated (Charges)\", \"Exonerated\", \"Exonerated\", \"Unsubstantiated\", \"Unsubstantiated\", \"Unsubstantiated\", \"Substantiated (Charges)\", \"Substantiated (Charges)\", \"Substantiated (Charges)\", \"Substantiated (Charges)\"], \"yaxis\": \"y\"}],\n",
       "                        {\"legend\": {\"tracegroupgap\": 0}, \"margin\": {\"t\": 60}, \"template\": {\"data\": {\"bar\": [{\"error_x\": {\"color\": \"#2a3f5f\"}, \"error_y\": {\"color\": \"#2a3f5f\"}, \"marker\": {\"line\": {\"color\": \"#E5ECF6\", \"width\": 0.5}}, \"type\": \"bar\"}], \"barpolar\": [{\"marker\": {\"line\": {\"color\": \"#E5ECF6\", \"width\": 0.5}}, \"type\": \"barpolar\"}], \"carpet\": [{\"aaxis\": {\"endlinecolor\": \"#2a3f5f\", \"gridcolor\": \"white\", \"linecolor\": \"white\", \"minorgridcolor\": \"white\", \"startlinecolor\": \"#2a3f5f\"}, \"baxis\": {\"endlinecolor\": \"#2a3f5f\", \"gridcolor\": \"white\", \"linecolor\": \"white\", \"minorgridcolor\": \"white\", \"startlinecolor\": \"#2a3f5f\"}, \"type\": \"carpet\"}], \"choropleth\": [{\"colorbar\": {\"outlinewidth\": 0, \"ticks\": \"\"}, \"type\": \"choropleth\"}], \"contour\": [{\"colorbar\": {\"outlinewidth\": 0, \"ticks\": \"\"}, \"colorscale\": [[0.0, \"#0d0887\"], [0.1111111111111111, \"#46039f\"], [0.2222222222222222, \"#7201a8\"], [0.3333333333333333, \"#9c179e\"], [0.4444444444444444, \"#bd3786\"], [0.5555555555555556, \"#d8576b\"], [0.6666666666666666, \"#ed7953\"], [0.7777777777777778, \"#fb9f3a\"], [0.8888888888888888, \"#fdca26\"], [1.0, \"#f0f921\"]], \"type\": \"contour\"}], \"contourcarpet\": [{\"colorbar\": {\"outlinewidth\": 0, \"ticks\": \"\"}, \"type\": \"contourcarpet\"}], \"heatmap\": [{\"colorbar\": {\"outlinewidth\": 0, \"ticks\": \"\"}, \"colorscale\": [[0.0, \"#0d0887\"], [0.1111111111111111, \"#46039f\"], [0.2222222222222222, \"#7201a8\"], [0.3333333333333333, \"#9c179e\"], [0.4444444444444444, \"#bd3786\"], [0.5555555555555556, \"#d8576b\"], [0.6666666666666666, \"#ed7953\"], [0.7777777777777778, \"#fb9f3a\"], [0.8888888888888888, \"#fdca26\"], [1.0, \"#f0f921\"]], \"type\": \"heatmap\"}], \"heatmapgl\": [{\"colorbar\": {\"outlinewidth\": 0, \"ticks\": \"\"}, \"colorscale\": [[0.0, \"#0d0887\"], [0.1111111111111111, \"#46039f\"], [0.2222222222222222, \"#7201a8\"], [0.3333333333333333, \"#9c179e\"], [0.4444444444444444, \"#bd3786\"], [0.5555555555555556, \"#d8576b\"], [0.6666666666666666, \"#ed7953\"], [0.7777777777777778, \"#fb9f3a\"], [0.8888888888888888, \"#fdca26\"], [1.0, \"#f0f921\"]], \"type\": \"heatmapgl\"}], \"histogram\": [{\"marker\": {\"colorbar\": {\"outlinewidth\": 0, \"ticks\": \"\"}}, \"type\": \"histogram\"}], \"histogram2d\": [{\"colorbar\": {\"outlinewidth\": 0, \"ticks\": \"\"}, \"colorscale\": [[0.0, \"#0d0887\"], [0.1111111111111111, \"#46039f\"], [0.2222222222222222, \"#7201a8\"], [0.3333333333333333, \"#9c179e\"], [0.4444444444444444, \"#bd3786\"], [0.5555555555555556, \"#d8576b\"], [0.6666666666666666, \"#ed7953\"], [0.7777777777777778, \"#fb9f3a\"], [0.8888888888888888, \"#fdca26\"], [1.0, \"#f0f921\"]], \"type\": \"histogram2d\"}], \"histogram2dcontour\": [{\"colorbar\": {\"outlinewidth\": 0, \"ticks\": \"\"}, \"colorscale\": [[0.0, \"#0d0887\"], [0.1111111111111111, \"#46039f\"], [0.2222222222222222, \"#7201a8\"], [0.3333333333333333, \"#9c179e\"], [0.4444444444444444, \"#bd3786\"], [0.5555555555555556, \"#d8576b\"], [0.6666666666666666, \"#ed7953\"], [0.7777777777777778, \"#fb9f3a\"], [0.8888888888888888, \"#fdca26\"], [1.0, \"#f0f921\"]], \"type\": \"histogram2dcontour\"}], \"mesh3d\": [{\"colorbar\": {\"outlinewidth\": 0, \"ticks\": \"\"}, \"type\": \"mesh3d\"}], \"parcoords\": [{\"line\": {\"colorbar\": {\"outlinewidth\": 0, \"ticks\": \"\"}}, \"type\": \"parcoords\"}], \"pie\": [{\"automargin\": true, \"type\": \"pie\"}], \"scatter\": [{\"marker\": {\"colorbar\": {\"outlinewidth\": 0, \"ticks\": \"\"}}, \"type\": \"scatter\"}], \"scatter3d\": [{\"line\": {\"colorbar\": {\"outlinewidth\": 0, \"ticks\": \"\"}}, \"marker\": {\"colorbar\": {\"outlinewidth\": 0, \"ticks\": \"\"}}, \"type\": \"scatter3d\"}], \"scattercarpet\": [{\"marker\": {\"colorbar\": {\"outlinewidth\": 0, \"ticks\": \"\"}}, \"type\": \"scattercarpet\"}], \"scattergeo\": [{\"marker\": {\"colorbar\": {\"outlinewidth\": 0, \"ticks\": \"\"}}, \"type\": \"scattergeo\"}], \"scattergl\": [{\"marker\": {\"colorbar\": {\"outlinewidth\": 0, \"ticks\": \"\"}}, \"type\": \"scattergl\"}], \"scattermapbox\": [{\"marker\": {\"colorbar\": {\"outlinewidth\": 0, \"ticks\": \"\"}}, \"type\": \"scattermapbox\"}], \"scatterpolar\": [{\"marker\": {\"colorbar\": {\"outlinewidth\": 0, \"ticks\": \"\"}}, \"type\": \"scatterpolar\"}], \"scatterpolargl\": [{\"marker\": {\"colorbar\": {\"outlinewidth\": 0, \"ticks\": \"\"}}, \"type\": \"scatterpolargl\"}], \"scatterternary\": [{\"marker\": {\"colorbar\": {\"outlinewidth\": 0, \"ticks\": \"\"}}, \"type\": \"scatterternary\"}], \"surface\": [{\"colorbar\": {\"outlinewidth\": 0, \"ticks\": \"\"}, \"colorscale\": [[0.0, \"#0d0887\"], [0.1111111111111111, \"#46039f\"], [0.2222222222222222, \"#7201a8\"], [0.3333333333333333, \"#9c179e\"], [0.4444444444444444, \"#bd3786\"], [0.5555555555555556, \"#d8576b\"], [0.6666666666666666, \"#ed7953\"], [0.7777777777777778, \"#fb9f3a\"], [0.8888888888888888, \"#fdca26\"], [1.0, \"#f0f921\"]], \"type\": \"surface\"}], \"table\": [{\"cells\": {\"fill\": {\"color\": \"#EBF0F8\"}, \"line\": {\"color\": \"white\"}}, \"header\": {\"fill\": {\"color\": \"#C8D4E3\"}, \"line\": {\"color\": \"white\"}}, \"type\": \"table\"}]}, \"layout\": {\"annotationdefaults\": {\"arrowcolor\": \"#2a3f5f\", \"arrowhead\": 0, \"arrowwidth\": 1}, \"coloraxis\": {\"colorbar\": {\"outlinewidth\": 0, \"ticks\": \"\"}}, \"colorscale\": {\"diverging\": [[0, \"#8e0152\"], [0.1, \"#c51b7d\"], [0.2, \"#de77ae\"], [0.3, \"#f1b6da\"], [0.4, \"#fde0ef\"], [0.5, \"#f7f7f7\"], [0.6, \"#e6f5d0\"], [0.7, \"#b8e186\"], [0.8, \"#7fbc41\"], [0.9, \"#4d9221\"], [1, \"#276419\"]], \"sequential\": [[0.0, \"#0d0887\"], [0.1111111111111111, \"#46039f\"], [0.2222222222222222, \"#7201a8\"], [0.3333333333333333, \"#9c179e\"], [0.4444444444444444, \"#bd3786\"], [0.5555555555555556, \"#d8576b\"], [0.6666666666666666, \"#ed7953\"], [0.7777777777777778, \"#fb9f3a\"], [0.8888888888888888, \"#fdca26\"], [1.0, \"#f0f921\"]], \"sequentialminus\": [[0.0, \"#0d0887\"], [0.1111111111111111, \"#46039f\"], [0.2222222222222222, \"#7201a8\"], [0.3333333333333333, \"#9c179e\"], [0.4444444444444444, \"#bd3786\"], [0.5555555555555556, \"#d8576b\"], [0.6666666666666666, \"#ed7953\"], [0.7777777777777778, \"#fb9f3a\"], [0.8888888888888888, \"#fdca26\"], [1.0, \"#f0f921\"]]}, \"colorway\": [\"#636efa\", \"#EF553B\", \"#00cc96\", \"#ab63fa\", \"#FFA15A\", \"#19d3f3\", \"#FF6692\", \"#B6E880\", \"#FF97FF\", \"#FECB52\"], \"font\": {\"color\": \"#2a3f5f\"}, \"geo\": {\"bgcolor\": \"white\", \"lakecolor\": \"white\", \"landcolor\": \"#E5ECF6\", \"showlakes\": true, \"showland\": true, \"subunitcolor\": \"white\"}, \"hoverlabel\": {\"align\": \"left\"}, \"hovermode\": \"closest\", \"mapbox\": {\"style\": \"light\"}, \"paper_bgcolor\": \"white\", \"plot_bgcolor\": \"#E5ECF6\", \"polar\": {\"angularaxis\": {\"gridcolor\": \"white\", \"linecolor\": \"white\", \"ticks\": \"\"}, \"bgcolor\": \"#E5ECF6\", \"radialaxis\": {\"gridcolor\": \"white\", \"linecolor\": \"white\", \"ticks\": \"\"}}, \"scene\": {\"xaxis\": {\"backgroundcolor\": \"#E5ECF6\", \"gridcolor\": \"white\", \"gridwidth\": 2, \"linecolor\": \"white\", \"showbackground\": true, \"ticks\": \"\", \"zerolinecolor\": \"white\"}, \"yaxis\": {\"backgroundcolor\": \"#E5ECF6\", \"gridcolor\": \"white\", \"gridwidth\": 2, \"linecolor\": \"white\", \"showbackground\": true, \"ticks\": \"\", \"zerolinecolor\": \"white\"}, \"zaxis\": {\"backgroundcolor\": \"#E5ECF6\", \"gridcolor\": \"white\", \"gridwidth\": 2, \"linecolor\": \"white\", \"showbackground\": true, \"ticks\": \"\", \"zerolinecolor\": \"white\"}}, \"shapedefaults\": {\"line\": {\"color\": \"#2a3f5f\"}}, \"ternary\": {\"aaxis\": {\"gridcolor\": \"white\", \"linecolor\": \"white\", \"ticks\": \"\"}, \"baxis\": {\"gridcolor\": \"white\", \"linecolor\": \"white\", \"ticks\": \"\"}, \"bgcolor\": \"#E5ECF6\", \"caxis\": {\"gridcolor\": \"white\", \"linecolor\": \"white\", \"ticks\": \"\"}}, \"title\": {\"x\": 0.05}, \"xaxis\": {\"automargin\": true, \"gridcolor\": \"white\", \"linecolor\": \"white\", \"ticks\": \"\", \"title\": {\"standoff\": 15}, \"zerolinecolor\": \"white\", \"zerolinewidth\": 2}, \"yaxis\": {\"automargin\": true, \"gridcolor\": \"white\", \"linecolor\": \"white\", \"ticks\": \"\", \"title\": {\"standoff\": 15}, \"zerolinecolor\": \"white\", \"zerolinewidth\": 2}}}, \"xaxis\": {\"anchor\": \"y\", \"domain\": [0.0, 1.0], \"title\": {\"text\": \"date_closed\"}}, \"yaxis\": {\"anchor\": \"x\", \"domain\": [0.0, 1.0], \"title\": {\"text\": \"board_disposition\"}}},\n",
       "                        {\"responsive\": true}\n",
       "                    ).then(function(){\n",
       "                            \n",
       "var gd = document.getElementById('e6141222-2d5b-46af-8ad1-142bc9591df6');\n",
       "var x = new MutationObserver(function (mutations, observer) {{\n",
       "        var display = window.getComputedStyle(gd).display;\n",
       "        if (!display || display === 'none') {{\n",
       "            console.log([gd, 'removed!']);\n",
       "            Plotly.purge(gd);\n",
       "            observer.disconnect();\n",
       "        }}\n",
       "}});\n",
       "\n",
       "// Listen for the removal of the full notebook cells\n",
       "var notebookContainer = gd.closest('#notebook-container');\n",
       "if (notebookContainer) {{\n",
       "    x.observe(notebookContainer, {childList: true});\n",
       "}}\n",
       "\n",
       "// Listen for the clearing of the current output cell\n",
       "var outputEl = gd.closest('.output');\n",
       "if (outputEl) {{\n",
       "    x.observe(outputEl, {childList: true});\n",
       "}}\n",
       "\n",
       "                        })\n",
       "                };\n",
       "                });\n",
       "            </script>\n",
       "        </div>"
      ]
     },
     "metadata": {},
     "output_type": "display_data"
    }
   ],
   "source": [
    "px.scatter(sbarra,sbarra['date_closed'],sbarra['board_disposition'])"
   ]
  },
  {
   "cell_type": "code",
   "execution_count": null,
   "metadata": {},
   "outputs": [],
   "source": []
  }
 ],
 "metadata": {
  "kernelspec": {
   "display_name": "Python 3",
   "language": "python",
   "name": "python3"
  },
  "language_info": {
   "codemirror_mode": {
    "name": "ipython",
    "version": 3
   },
   "file_extension": ".py",
   "mimetype": "text/x-python",
   "name": "python",
   "nbconvert_exporter": "python",
   "pygments_lexer": "ipython3",
   "version": "3.7.4"
  }
 },
 "nbformat": 4,
 "nbformat_minor": 2
}
